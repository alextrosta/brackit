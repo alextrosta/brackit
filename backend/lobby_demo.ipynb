{
 "cells": [
  {
   "cell_type": "code",
   "execution_count": 1,
   "metadata": {},
   "outputs": [],
   "source": [
    "%load_ext autoreload\n",
    "%autoreload 2"
   ]
  },
  {
   "cell_type": "code",
   "execution_count": 2,
   "metadata": {},
   "outputs": [],
   "source": [
    "from app import db\n",
    "import numpy as np\n",
    "\n",
    "from app.models import Tournament as TournamentModel\n",
    "from app.models import Lobby as LobbyModel\n",
    "from app.models import Bracket as BracketModel\n",
    "from app.models import Match as MatchModel\n",
    "from app.models import Round as RoundModel\n",
    "from app.models import User as UserModel\n",
    "from app.models import LobbySeed as LobbySeedModel\n",
    "\n",
    "from tournament import Tournament\n",
    "\n",
    "import numpy as np\n",
    "\n",
    "from sqlalchemy.sql.expression import func, select\n",
    "\n",
    "from tournament import (\n",
    "    BracketTypes,\n",
    "    Tournament,\n",
    "    Match\n",
    ")\n",
    "import sqlite3\n",
    "import pandas as pd\n",
    "import uuid\n",
    "import requests\n",
    "import json\n",
    "import random\n"
   ]
  },
  {
   "cell_type": "code",
   "execution_count": 3,
   "metadata": {},
   "outputs": [],
   "source": [
    "db.session.close()"
   ]
  },
  {
   "cell_type": "code",
   "execution_count": 4,
   "metadata": {},
   "outputs": [],
   "source": [
    "def purge(Model):\n",
    "    [db.session.delete(row) for row in Model.query.all()]"
   ]
  },
  {
   "cell_type": "code",
   "execution_count": 5,
   "metadata": {},
   "outputs": [],
   "source": [
    "# purge all tables first\n",
    "\n",
    "Models = [\n",
    "    BracketModel, \n",
    "    LobbyModel,\n",
    "    TournamentModel, \n",
    "    MatchModel, \n",
    "    RoundModel, \n",
    "    UserModel, \n",
    "    LobbySeedModel\n",
    "]\n",
    "\n",
    "for Model in Models:\n",
    "    purge(Model)\n",
    "db.session.commit()"
   ]
  },
  {
   "cell_type": "code",
   "execution_count": 6,
   "metadata": {},
   "outputs": [],
   "source": [
    "# Create the connection\n",
    "cnx = sqlite3.connect(r'./app.db')"
   ]
  },
  {
   "cell_type": "code",
   "execution_count": 7,
   "metadata": {},
   "outputs": [],
   "source": [
    "# register user like\n",
    "# curl -i -X POST -H \"Content-Type: application/json\" -d '{\"username\":\"miguel\",\"password\":\"python\"}' http://127.0.0.1:5000/api/users"
   ]
  },
  {
   "cell_type": "code",
   "execution_count": 8,
   "metadata": {},
   "outputs": [],
   "source": [
    "url = 'http://127.0.0.1:5000/api/users'\n",
    "headers = {'content-type': 'application/json', 'Accept-Charset': 'UTF-8'}\n",
    "payload = json.dumps({\n",
    "    \"username\":\"miguel\",\n",
    "    \"password\":\"python\",\n",
    "    \"email\":\"miguel@gmail.com\"\n",
    "})\n",
    "\n",
    "r = requests.post(url, data=payload, headers=headers)"
   ]
  },
  {
   "cell_type": "code",
   "execution_count": 9,
   "metadata": {},
   "outputs": [
    {
     "data": {
      "text/plain": [
       "b'{\"Success\":\"miguel logged in\"}\\n'"
      ]
     },
     "execution_count": 9,
     "metadata": {},
     "output_type": "execute_result"
    }
   ],
   "source": [
    "# log miguel in\n",
    "url = 'http://127.0.0.1:5000/api/login'\n",
    "headers = {'content-type': 'application/json', 'Accept-Charset': 'UTF-8'}\n",
    "# payload = json.dumps({\n",
    "#     \"username\":\"miguel\",\n",
    "#     \"password\":\"python\",\n",
    "#     \"email\":\"miguel@gmail.com\"\n",
    "# })\n",
    "\n",
    "r = requests.get(url, headers=headers, auth=('miguel', 'python'))\n",
    "r.content"
   ]
  },
  {
   "cell_type": "code",
   "execution_count": 10,
   "metadata": {},
   "outputs": [
    {
     "data": {
      "text/plain": [
       "b'{\"Success\":\"logged out\"}\\n'"
      ]
     },
     "execution_count": 10,
     "metadata": {},
     "output_type": "execute_result"
    }
   ],
   "source": [
    "# log miguel out\n",
    "url = 'http://127.0.0.1:5000/api/logout'\n",
    "headers = {'content-type': 'application/json', 'Accept-Charset': 'UTF-8'}\n",
    "# payload = json.dumps({\n",
    "#     \"username\":\"miguel\",\n",
    "#     \"password\":\"python\",\n",
    "#     \"email\":\"miguel@gmail.com\"\n",
    "# })\n",
    "\n",
    "r = requests.get(url, headers=headers, auth=('miguel', 'python'))\n",
    "r.content"
   ]
  },
  {
   "cell_type": "code",
   "execution_count": 11,
   "metadata": {},
   "outputs": [],
   "source": [
    "url = 'http://127.0.0.1:5000/api/users'\n",
    "# post the rest of the users\n",
    "users = [\n",
    "    ('TPN', 'TPN@example.com'),\n",
    "    ('AngryFalco', 'AngryFalco@example.com'),\n",
    "    ('Sunrisebanana', 'Sunrisebanana@example.com'),\n",
    "    ('Ptolemy', 'Ptolemy@example.com'),\n",
    "    ('Vik', 'Vik@example.com'),\n",
    "    ('Kevin', 'Kevin@example.com'),\n",
    "    ('Spaceghost', 'Spaceghost@example.com'),\n",
    "    ('Burnaby', 'Burnaby@example.com'),\n",
    "]\n",
    "\n",
    "for username, email in users:\n",
    "    payload = json.dumps({\n",
    "        \"username\":username,\n",
    "        \"password\":username.lower(),\n",
    "        \"email\":email.lower()\n",
    "    })\n",
    "    r = requests.post(url, data=payload, headers=headers)\n"
   ]
  },
  {
   "cell_type": "code",
   "execution_count": 12,
   "metadata": {},
   "outputs": [],
   "source": [
    "# or get a token\n",
    "# i.e. curl -u miguel:python -i -X GET http://127.0.0.1:5000/api/token"
   ]
  },
  {
   "cell_type": "code",
   "execution_count": 13,
   "metadata": {},
   "outputs": [
    {
     "data": {
      "text/plain": [
       "'eyJhbGciOiJIUzUxMiIsImlhdCI6MTU4Mzc5NzczOCwiZXhwIjoxNTgzNzk4MzM4fQ.eyJpZCI6MX0.iUqlmgwLtyDWZ3hYzWSmMPo861CK0_1BuJGQ99AVXnHTSjX496NdYr-luZdygqU9OWhKRn6WuMqsekZkw9imQw'"
      ]
     },
     "execution_count": 13,
     "metadata": {},
     "output_type": "execute_result"
    }
   ],
   "source": [
    "url = 'http://127.0.0.1:5000/api/token'\n",
    "r = requests.get(url, auth=('miguel', 'python'))\n",
    "tkn = json.loads(r.content)['token']\n",
    "tkn"
   ]
  },
  {
   "cell_type": "code",
   "execution_count": 14,
   "metadata": {},
   "outputs": [],
   "source": [
    "# now this user can login with a token\n",
    "url = 'http://127.0.0.1:5000/api/login'\n",
    "\n",
    "r = requests.get(url, auth=(tkn, 'unused'))"
   ]
  },
  {
   "cell_type": "code",
   "execution_count": 15,
   "metadata": {},
   "outputs": [
    {
     "data": {
      "text/plain": [
       "{'Lobby Created': \"Lobby created for tournament: miguel's tourneys\"}"
      ]
     },
     "execution_count": 15,
     "metadata": {},
     "output_type": "execute_result"
    }
   ],
   "source": [
    "# miguel creates lobby\n",
    "\n",
    "url = 'http://127.0.0.1:5000/api/create/lobby/'\n",
    "headers = {'content-type': 'application/json', 'Accept-Charset': 'UTF-8'}\n",
    "payload = json.dumps({\n",
    "    \"tournament_name\" : \"miguel's tourneys\"\n",
    "})\n",
    "r = requests.post(url, data=payload, headers=headers, auth=(tkn, 'unused'))\n",
    "json.loads(r.content)"
   ]
  },
  {
   "cell_type": "code",
   "execution_count": 47,
   "metadata": {},
   "outputs": [
    {
     "data": {
      "text/html": [
       "<div>\n",
       "<style scoped>\n",
       "    .dataframe tbody tr th:only-of-type {\n",
       "        vertical-align: middle;\n",
       "    }\n",
       "\n",
       "    .dataframe tbody tr th {\n",
       "        vertical-align: top;\n",
       "    }\n",
       "\n",
       "    .dataframe thead th {\n",
       "        text-align: right;\n",
       "    }\n",
       "</style>\n",
       "<table border=\"1\" class=\"dataframe\">\n",
       "  <thead>\n",
       "    <tr style=\"text-align: right;\">\n",
       "      <th></th>\n",
       "      <th>id</th>\n",
       "      <th>user_id</th>\n",
       "      <th>lobby_id</th>\n",
       "      <th>seed</th>\n",
       "    </tr>\n",
       "  </thead>\n",
       "  <tbody>\n",
       "    <tr>\n",
       "      <th>0</th>\n",
       "      <td>1</td>\n",
       "      <td>1</td>\n",
       "      <td>1</td>\n",
       "      <td>6</td>\n",
       "    </tr>\n",
       "    <tr>\n",
       "      <th>1</th>\n",
       "      <td>2</td>\n",
       "      <td>5</td>\n",
       "      <td>1</td>\n",
       "      <td>1</td>\n",
       "    </tr>\n",
       "    <tr>\n",
       "      <th>2</th>\n",
       "      <td>3</td>\n",
       "      <td>4</td>\n",
       "      <td>1</td>\n",
       "      <td>2</td>\n",
       "    </tr>\n",
       "    <tr>\n",
       "      <th>3</th>\n",
       "      <td>4</td>\n",
       "      <td>9</td>\n",
       "      <td>1</td>\n",
       "      <td>8</td>\n",
       "    </tr>\n",
       "    <tr>\n",
       "      <th>4</th>\n",
       "      <td>5</td>\n",
       "      <td>8</td>\n",
       "      <td>1</td>\n",
       "      <td>7</td>\n",
       "    </tr>\n",
       "    <tr>\n",
       "      <th>5</th>\n",
       "      <td>6</td>\n",
       "      <td>6</td>\n",
       "      <td>1</td>\n",
       "      <td>3</td>\n",
       "    </tr>\n",
       "    <tr>\n",
       "      <th>6</th>\n",
       "      <td>7</td>\n",
       "      <td>3</td>\n",
       "      <td>1</td>\n",
       "      <td>9</td>\n",
       "    </tr>\n",
       "    <tr>\n",
       "      <th>7</th>\n",
       "      <td>8</td>\n",
       "      <td>7</td>\n",
       "      <td>1</td>\n",
       "      <td>4</td>\n",
       "    </tr>\n",
       "    <tr>\n",
       "      <th>8</th>\n",
       "      <td>9</td>\n",
       "      <td>2</td>\n",
       "      <td>1</td>\n",
       "      <td>5</td>\n",
       "    </tr>\n",
       "  </tbody>\n",
       "</table>\n",
       "</div>"
      ],
      "text/plain": [
       "   id  user_id  lobby_id  seed\n",
       "0   1        1         1     6\n",
       "1   2        5         1     1\n",
       "2   3        4         1     2\n",
       "3   4        9         1     8\n",
       "4   5        8         1     7\n",
       "5   6        6         1     3\n",
       "6   7        3         1     9\n",
       "7   8        7         1     4\n",
       "8   9        2         1     5"
      ]
     },
     "execution_count": 47,
     "metadata": {},
     "output_type": "execute_result"
    }
   ],
   "source": [
    "q = \\\n",
    "\"\"\"\n",
    "    select * from lobby_seeds where lobby_id == 1\n",
    "\"\"\"\n",
    "\n",
    "# posted a user\n",
    "df = pd.read_sql_query(q, cnx)\n",
    "df"
   ]
  },
  {
   "cell_type": "code",
   "execution_count": 22,
   "metadata": {},
   "outputs": [
    {
     "data": {
      "text/html": [
       "<div>\n",
       "<style scoped>\n",
       "    .dataframe tbody tr th:only-of-type {\n",
       "        vertical-align: middle;\n",
       "    }\n",
       "\n",
       "    .dataframe tbody tr th {\n",
       "        vertical-align: top;\n",
       "    }\n",
       "\n",
       "    .dataframe thead th {\n",
       "        text-align: right;\n",
       "    }\n",
       "</style>\n",
       "<table border=\"1\" class=\"dataframe\">\n",
       "  <thead>\n",
       "    <tr style=\"text-align: right;\">\n",
       "      <th></th>\n",
       "      <th>id</th>\n",
       "      <th>tournament_name</th>\n",
       "      <th>tournament_id</th>\n",
       "      <th>to_id</th>\n",
       "    </tr>\n",
       "  </thead>\n",
       "  <tbody>\n",
       "    <tr>\n",
       "      <th>0</th>\n",
       "      <td>1</td>\n",
       "      <td>miguel's tourneys</td>\n",
       "      <td>None</td>\n",
       "      <td>1</td>\n",
       "    </tr>\n",
       "  </tbody>\n",
       "</table>\n",
       "</div>"
      ],
      "text/plain": [
       "   id    tournament_name tournament_id  to_id\n",
       "0   1  miguel's tourneys          None      1"
      ]
     },
     "execution_count": 22,
     "metadata": {},
     "output_type": "execute_result"
    }
   ],
   "source": [
    "q = \\\n",
    "\"\"\"\n",
    "    select * from lobby\n",
    "\"\"\"\n",
    "\n",
    "# posted a user\n",
    "df = pd.read_sql_query(q, cnx)\n",
    "df"
   ]
  },
  {
   "cell_type": "code",
   "execution_count": 48,
   "metadata": {},
   "outputs": [
    {
     "data": {
      "text/html": [
       "<div>\n",
       "<style scoped>\n",
       "    .dataframe tbody tr th:only-of-type {\n",
       "        vertical-align: middle;\n",
       "    }\n",
       "\n",
       "    .dataframe tbody tr th {\n",
       "        vertical-align: top;\n",
       "    }\n",
       "\n",
       "    .dataframe thead th {\n",
       "        text-align: right;\n",
       "    }\n",
       "</style>\n",
       "<table border=\"1\" class=\"dataframe\">\n",
       "  <thead>\n",
       "    <tr style=\"text-align: right;\">\n",
       "      <th></th>\n",
       "      <th>id</th>\n",
       "      <th>role</th>\n",
       "      <th>username</th>\n",
       "      <th>email</th>\n",
       "      <th>password_hash</th>\n",
       "      <th>about_me</th>\n",
       "      <th>last_seen</th>\n",
       "    </tr>\n",
       "  </thead>\n",
       "  <tbody>\n",
       "    <tr>\n",
       "      <th>0</th>\n",
       "      <td>1</td>\n",
       "      <td>User</td>\n",
       "      <td>miguel</td>\n",
       "      <td>miguel@gmail.com</td>\n",
       "      <td>pbkdf2:sha256:150000$eVYKoiUq$2fcd8220f906de3e...</td>\n",
       "      <td>None</td>\n",
       "      <td>2020-03-09 23:48:55.878780</td>\n",
       "    </tr>\n",
       "    <tr>\n",
       "      <th>1</th>\n",
       "      <td>2</td>\n",
       "      <td>User</td>\n",
       "      <td>TPN</td>\n",
       "      <td>tpn@example.com</td>\n",
       "      <td>pbkdf2:sha256:150000$QrfccSIt$4395d40c72452334...</td>\n",
       "      <td>None</td>\n",
       "      <td>2020-03-09 23:48:57.424065</td>\n",
       "    </tr>\n",
       "    <tr>\n",
       "      <th>2</th>\n",
       "      <td>3</td>\n",
       "      <td>User</td>\n",
       "      <td>AngryFalco</td>\n",
       "      <td>angryfalco@example.com</td>\n",
       "      <td>pbkdf2:sha256:150000$HTsA9PNl$c53c4d815bc13668...</td>\n",
       "      <td>None</td>\n",
       "      <td>2020-03-09 23:48:57.510157</td>\n",
       "    </tr>\n",
       "    <tr>\n",
       "      <th>3</th>\n",
       "      <td>4</td>\n",
       "      <td>User</td>\n",
       "      <td>Sunrisebanana</td>\n",
       "      <td>sunrisebanana@example.com</td>\n",
       "      <td>pbkdf2:sha256:150000$q2Wqu4pd$f05942ae472c0b02...</td>\n",
       "      <td>None</td>\n",
       "      <td>2020-03-09 23:48:57.594605</td>\n",
       "    </tr>\n",
       "    <tr>\n",
       "      <th>4</th>\n",
       "      <td>5</td>\n",
       "      <td>User</td>\n",
       "      <td>Ptolemy</td>\n",
       "      <td>ptolemy@example.com</td>\n",
       "      <td>pbkdf2:sha256:150000$XT8tAoJi$07b8929a24747825...</td>\n",
       "      <td>None</td>\n",
       "      <td>2020-03-09 23:48:57.677475</td>\n",
       "    </tr>\n",
       "    <tr>\n",
       "      <th>5</th>\n",
       "      <td>6</td>\n",
       "      <td>User</td>\n",
       "      <td>Vik</td>\n",
       "      <td>vik@example.com</td>\n",
       "      <td>pbkdf2:sha256:150000$MHZVyIJ1$7253d9c2a6706395...</td>\n",
       "      <td>None</td>\n",
       "      <td>2020-03-09 23:48:57.761094</td>\n",
       "    </tr>\n",
       "    <tr>\n",
       "      <th>6</th>\n",
       "      <td>7</td>\n",
       "      <td>User</td>\n",
       "      <td>Kevin</td>\n",
       "      <td>kevin@example.com</td>\n",
       "      <td>pbkdf2:sha256:150000$OQpp5pme$96e41b0305e1ef4e...</td>\n",
       "      <td>None</td>\n",
       "      <td>2020-03-09 23:48:57.841813</td>\n",
       "    </tr>\n",
       "    <tr>\n",
       "      <th>7</th>\n",
       "      <td>8</td>\n",
       "      <td>User</td>\n",
       "      <td>Spaceghost</td>\n",
       "      <td>spaceghost@example.com</td>\n",
       "      <td>pbkdf2:sha256:150000$PReLerqJ$cb978f4f23cc74c0...</td>\n",
       "      <td>None</td>\n",
       "      <td>2020-03-09 23:48:57.927374</td>\n",
       "    </tr>\n",
       "    <tr>\n",
       "      <th>8</th>\n",
       "      <td>9</td>\n",
       "      <td>User</td>\n",
       "      <td>Burnaby</td>\n",
       "      <td>burnaby@example.com</td>\n",
       "      <td>pbkdf2:sha256:150000$bN1NUtVU$085e56604a557eb4...</td>\n",
       "      <td>None</td>\n",
       "      <td>2020-03-09 23:48:58.009338</td>\n",
       "    </tr>\n",
       "    <tr>\n",
       "      <th>9</th>\n",
       "      <td>10</td>\n",
       "      <td>Guest</td>\n",
       "      <td>guesty</td>\n",
       "      <td>None</td>\n",
       "      <td>None</td>\n",
       "      <td>None</td>\n",
       "      <td>2020-03-09 23:54:28.762029</td>\n",
       "    </tr>\n",
       "  </tbody>\n",
       "</table>\n",
       "</div>"
      ],
      "text/plain": [
       "   id   role       username                      email  \\\n",
       "0   1   User         miguel           miguel@gmail.com   \n",
       "1   2   User            TPN            tpn@example.com   \n",
       "2   3   User     AngryFalco     angryfalco@example.com   \n",
       "3   4   User  Sunrisebanana  sunrisebanana@example.com   \n",
       "4   5   User        Ptolemy        ptolemy@example.com   \n",
       "5   6   User            Vik            vik@example.com   \n",
       "6   7   User          Kevin          kevin@example.com   \n",
       "7   8   User     Spaceghost     spaceghost@example.com   \n",
       "8   9   User        Burnaby        burnaby@example.com   \n",
       "9  10  Guest         guesty                       None   \n",
       "\n",
       "                                       password_hash about_me  \\\n",
       "0  pbkdf2:sha256:150000$eVYKoiUq$2fcd8220f906de3e...     None   \n",
       "1  pbkdf2:sha256:150000$QrfccSIt$4395d40c72452334...     None   \n",
       "2  pbkdf2:sha256:150000$HTsA9PNl$c53c4d815bc13668...     None   \n",
       "3  pbkdf2:sha256:150000$q2Wqu4pd$f05942ae472c0b02...     None   \n",
       "4  pbkdf2:sha256:150000$XT8tAoJi$07b8929a24747825...     None   \n",
       "5  pbkdf2:sha256:150000$MHZVyIJ1$7253d9c2a6706395...     None   \n",
       "6  pbkdf2:sha256:150000$OQpp5pme$96e41b0305e1ef4e...     None   \n",
       "7  pbkdf2:sha256:150000$PReLerqJ$cb978f4f23cc74c0...     None   \n",
       "8  pbkdf2:sha256:150000$bN1NUtVU$085e56604a557eb4...     None   \n",
       "9                                               None     None   \n",
       "\n",
       "                    last_seen  \n",
       "0  2020-03-09 23:48:55.878780  \n",
       "1  2020-03-09 23:48:57.424065  \n",
       "2  2020-03-09 23:48:57.510157  \n",
       "3  2020-03-09 23:48:57.594605  \n",
       "4  2020-03-09 23:48:57.677475  \n",
       "5  2020-03-09 23:48:57.761094  \n",
       "6  2020-03-09 23:48:57.841813  \n",
       "7  2020-03-09 23:48:57.927374  \n",
       "8  2020-03-09 23:48:58.009338  \n",
       "9  2020-03-09 23:54:28.762029  "
      ]
     },
     "execution_count": 48,
     "metadata": {},
     "output_type": "execute_result"
    }
   ],
   "source": [
    "q = \\\n",
    "\"\"\"\n",
    "    select * from user\n",
    "\"\"\"\n",
    "\n",
    "# posted a user\n",
    "df = pd.read_sql_query(q, cnx)\n",
    "df"
   ]
  },
  {
   "cell_type": "code",
   "execution_count": 28,
   "metadata": {},
   "outputs": [
    {
     "data": {
      "text/plain": [
       "'eyJhbGciOiJIUzUxMiIsImlhdCI6MTU4Mzc5Nzc3OSwiZXhwIjoxNTgzNzk4Mzc5fQ.eyJpZCI6MX0.IgqYhp4gnJoxeFke-UI-sEj3I8zad_Tuijm5wzDJ9tNY3YZV-6djMBUbYutqcR3qgTNTxEvXcPdNTZCiCudRMQ'"
      ]
     },
     "execution_count": 28,
     "metadata": {},
     "output_type": "execute_result"
    }
   ],
   "source": [
    "url = 'http://127.0.0.1:5000/api/token'\n",
    "r = requests.get(url, auth=('miguel', 'python'))\n",
    "tkn = json.loads(r.content)['token']\n",
    "tkn"
   ]
  },
  {
   "cell_type": "code",
   "execution_count": 29,
   "metadata": {},
   "outputs": [
    {
     "name": "stdout",
     "output_type": "stream",
     "text": [
      "adding Kevin, User, 6\n",
      "{'Unique Constraint Failed': '<User Kevin> already in <Lobby 1>'}\n",
      "adding Ptolemy, User, 4\n",
      "{'Unique Constraint Failed': '<User Ptolemy> already in <Lobby 1>'}\n",
      "adding miguel, User, 1\n",
      "{'Unique Constraint Failed': '<User miguel> already in <Lobby 1>'}\n",
      "adding Sunrisebanana, User, 9\n",
      "{'Unique Constraint Failed': '<User Sunrisebanana> already in <Lobby 1>'}\n",
      "adding Spaceghost, User, 3\n",
      "{'Unique Constraint Failed': '<User Spaceghost> already in <Lobby 1>'}\n",
      "adding AngryFalco, User, 8\n",
      "{'Unique Constraint Failed': '<User AngryFalco> already in <Lobby 1>'}\n",
      "adding Vik, User, 5\n",
      "{'Unique Constraint Failed': '<User Vik> already in <Lobby 1>'}\n",
      "adding TPN, User, 2\n",
      "{'Unique Constraint Failed': '<User TPN> already in <Lobby 1>'}\n",
      "adding Burnaby, User, 7\n",
      "{'Unique Constraint Failed': '<User Burnaby> already in <Lobby 1>'}\n"
     ]
    }
   ],
   "source": [
    "users = df.username.values\n",
    "np.random.shuffle(users)\n",
    "import random\n",
    "\n",
    "# miguel adds users to his lobby\n",
    "\n",
    "url = 'http://127.0.0.1:5000/api/lobby/1/add-user/'\n",
    "headers = {'content-type': 'application/json', 'Accept-Charset': 'UTF-8'}\n",
    "\n",
    "seeds = random.sample(range(1, len(users)+1), len(users)) \n",
    "roles = [\"User\" for u in users]\n",
    "for u, s, r in zip(users, roles, seeds):\n",
    "    print(f'adding {u}, {s}, {r}')\n",
    "    payload = json.dumps({\n",
    "        \"username\" : u,\n",
    "        \"role\" : s,\n",
    "        \"seed\" : r\n",
    "    })\n",
    "    r = requests.post(url, data=payload, headers=headers, auth=(tkn, 'unused'))\n",
    "    print(json.loads(r.content))\n",
    "    "
   ]
  },
  {
   "cell_type": "code",
   "execution_count": 53,
   "metadata": {},
   "outputs": [
    {
     "data": {
      "text/plain": [
       "{'id': 1, 'tournament_name': \"miguel's tourneys\"}"
      ]
     },
     "execution_count": 53,
     "metadata": {},
     "output_type": "execute_result"
    }
   ],
   "source": [
    "url = 'http://127.0.0.1:5000/api/lobby/1'\n",
    "headers = {'content-type': 'application/json', 'Accept-Charset': 'UTF-8'}\n",
    "# payload = json.dumps({\n",
    "#     \"username\" : \"AngryFalco\",\n",
    "#     \"role\" : \"User\"\n",
    "# })\n",
    "r = requests.get(url, headers=headers,)\n",
    "json.loads(r.content)"
   ]
  },
  {
   "cell_type": "code",
   "execution_count": 55,
   "metadata": {},
   "outputs": [
    {
     "name": "stdout",
     "output_type": "stream",
     "text": [
      "{'Added': 'Guest guestb to lobby 1'}\n"
     ]
    }
   ],
   "source": [
    "# miguel adds a guest user\n",
    "\n",
    "url = 'http://127.0.0.1:5000/api/lobby/1/add-user/'\n",
    "headers = {'content-type': 'application/json', 'Accept-Charset': 'UTF-8'}\n",
    "\n",
    "payload = json.dumps({\n",
    "    \"username\" : \"guestb\",\n",
    "    \"role\" : \"Guest\",\n",
    "    \"seed\" : 10\n",
    "})\n",
    "r = requests.post(url, data=payload, headers=headers, auth=(tkn, 'unused'))\n",
    "print(json.loads(r.content))"
   ]
  },
  {
   "cell_type": "code",
   "execution_count": 56,
   "metadata": {},
   "outputs": [
    {
     "name": "stdout",
     "output_type": "stream",
     "text": [
      "{'Unauthorized': 'TPN cannot add entrants to this lobby'}\n"
     ]
    },
    {
     "data": {
      "text/plain": [
       "False"
      ]
     },
     "execution_count": 56,
     "metadata": {},
     "output_type": "execute_result"
    }
   ],
   "source": [
    "# log miguel out\n",
    "url = 'http://127.0.0.1:5000/api/lobby/1/add-user/'\n",
    "headers = {'content-type': 'application/json', 'Accept-Charset': 'UTF-8'}\n",
    "\n",
    "# TPN tries to add his own guests to miguel's lobby\n",
    "url = 'http://127.0.0.1:5000/api/lobby/1/add-user/'\n",
    "headers = {'content-type': 'application/json', 'Accept-Charset': 'UTF-8'}\n",
    "\n",
    "payload = json.dumps({\n",
    "    \"username\" : \"guestx\",\n",
    "    \"role\" : \"Guest\",\n",
    "    \"seed\" : 1\n",
    "})\n",
    "r = requests.post(url, data=payload, headers=headers, auth=('TPN', 'tpn'))\n",
    "print(json.loads(r.content))\n",
    "\n",
    "UserModel \\\n",
    "    .query \\\n",
    "    .filter_by(username='guesta', role='Guest') \\\n",
    "    .first() is None"
   ]
  },
  {
   "cell_type": "code",
   "execution_count": 57,
   "metadata": {},
   "outputs": [
    {
     "data": {
      "text/plain": [
       "b'{\"Success\":\"logged out\"}\\n'"
      ]
     },
     "execution_count": 57,
     "metadata": {},
     "output_type": "execute_result"
    }
   ],
   "source": [
    "# log miguel out\n",
    "url = 'http://127.0.0.1:5000/api/logout'\n",
    "headers = {'content-type': 'application/json', 'Accept-Charset': 'UTF-8'}\n",
    "# payload = json.dumps({\n",
    "#     \"username\":\"miguel\",\n",
    "#     \"password\":\"python\",\n",
    "#     \"email\":\"miguel@gmail.com\"\n",
    "# })\n",
    "\n",
    "r = requests.get(url, headers=headers, auth=('miguel', 'python'))\n",
    "r.content"
   ]
  },
  {
   "cell_type": "code",
   "execution_count": 58,
   "metadata": {},
   "outputs": [
    {
     "data": {
      "text/plain": [
       "'eyJhbGciOiJIUzUxMiIsImlhdCI6MTU4Mzc5ODI3MCwiZXhwIjoxNTgzNzk4ODcwfQ.eyJpZCI6Mn0.-tzeSgPOKJo5R_ewIBQ6D4wxWXplR7JiUPYduE65FcjV7EOz1c3urv9ss_ST0gWcImfCkQXKAicukYgXUhxGiA'"
      ]
     },
     "execution_count": 58,
     "metadata": {},
     "output_type": "execute_result"
    }
   ],
   "source": [
    "url = 'http://127.0.0.1:5000/api/token'\n",
    "r = requests.get(url, auth=('TPN', 'tpn'))\n",
    "tkn = json.loads(r.content)['token']\n",
    "tkn"
   ]
  },
  {
   "cell_type": "code",
   "execution_count": 59,
   "metadata": {},
   "outputs": [
    {
     "name": "stdout",
     "output_type": "stream",
     "text": [
      "{'Unauthorized': 'TPN cannot add entrants to this lobby'}\n"
     ]
    }
   ],
   "source": [
    "# TPN tries to add his own guests to miguel's lobby\n",
    "url = 'http://127.0.0.1:5000/api/lobby/1/add-user/'\n",
    "headers = {'content-type': 'application/json', 'Accept-Charset': 'UTF-8'}\n",
    "\n",
    "payload = json.dumps({\n",
    "    \"username\" : \"guestaas\",\n",
    "    \"role\" : \"Guest\",\n",
    "    \"seed\" : 1\n",
    "})\n",
    "r = requests.post(url, data=payload, headers=headers, auth=(tkn, 'unused'))\n",
    "print(json.loads(r.content))\n"
   ]
  },
  {
   "cell_type": "code",
   "execution_count": 68,
   "metadata": {},
   "outputs": [
    {
     "data": {
      "text/plain": [
       "{'id': 1, 'tournament_name': \"miguel's tourneys\"}"
      ]
     },
     "execution_count": 68,
     "metadata": {},
     "output_type": "execute_result"
    }
   ],
   "source": [
    "url = 'http://127.0.0.1:5000/api/lobby/1'\n",
    "headers = {'content-type': 'application/json', 'Accept-Charset': 'UTF-8'}\n",
    "# payload = json.dumps({\n",
    "#     \"username\" : \"AngryFalco\",\n",
    "#     \"role\" : \"User\"\n",
    "# })\n",
    "r = requests.get(url, headers=headers,)\n",
    "content =  json.loads(r.content)\n",
    "content"
   ]
  },
  {
   "cell_type": "code",
   "execution_count": 67,
   "metadata": {},
   "outputs": [
    {
     "data": {
      "text/html": [
       "<div>\n",
       "<style scoped>\n",
       "    .dataframe tbody tr th:only-of-type {\n",
       "        vertical-align: middle;\n",
       "    }\n",
       "\n",
       "    .dataframe tbody tr th {\n",
       "        vertical-align: top;\n",
       "    }\n",
       "\n",
       "    .dataframe thead th {\n",
       "        text-align: right;\n",
       "    }\n",
       "</style>\n",
       "<table border=\"1\" class=\"dataframe\">\n",
       "  <thead>\n",
       "    <tr style=\"text-align: right;\">\n",
       "      <th></th>\n",
       "      <th>user_id</th>\n",
       "      <th>seed</th>\n",
       "    </tr>\n",
       "  </thead>\n",
       "  <tbody>\n",
       "    <tr>\n",
       "      <th>0</th>\n",
       "      <td>1</td>\n",
       "      <td>6</td>\n",
       "    </tr>\n",
       "    <tr>\n",
       "      <th>1</th>\n",
       "      <td>5</td>\n",
       "      <td>1</td>\n",
       "    </tr>\n",
       "    <tr>\n",
       "      <th>2</th>\n",
       "      <td>4</td>\n",
       "      <td>2</td>\n",
       "    </tr>\n",
       "    <tr>\n",
       "      <th>3</th>\n",
       "      <td>9</td>\n",
       "      <td>8</td>\n",
       "    </tr>\n",
       "    <tr>\n",
       "      <th>4</th>\n",
       "      <td>8</td>\n",
       "      <td>7</td>\n",
       "    </tr>\n",
       "    <tr>\n",
       "      <th>5</th>\n",
       "      <td>6</td>\n",
       "      <td>3</td>\n",
       "    </tr>\n",
       "    <tr>\n",
       "      <th>6</th>\n",
       "      <td>3</td>\n",
       "      <td>9</td>\n",
       "    </tr>\n",
       "    <tr>\n",
       "      <th>7</th>\n",
       "      <td>7</td>\n",
       "      <td>4</td>\n",
       "    </tr>\n",
       "    <tr>\n",
       "      <th>8</th>\n",
       "      <td>2</td>\n",
       "      <td>5</td>\n",
       "    </tr>\n",
       "    <tr>\n",
       "      <th>9</th>\n",
       "      <td>12</td>\n",
       "      <td>10</td>\n",
       "    </tr>\n",
       "  </tbody>\n",
       "</table>\n",
       "</div>"
      ],
      "text/plain": [
       "   user_id  seed\n",
       "0        1     6\n",
       "1        5     1\n",
       "2        4     2\n",
       "3        9     8\n",
       "4        8     7\n",
       "5        6     3\n",
       "6        3     9\n",
       "7        7     4\n",
       "8        2     5\n",
       "9       12    10"
      ]
     },
     "execution_count": 67,
     "metadata": {},
     "output_type": "execute_result"
    }
   ],
   "source": [
    "q = \\\n",
    "\"\"\"\n",
    "    select user_id, seed from lobby_seeds where lobby_id == 1\n",
    "\"\"\"\n",
    "\n",
    "# posted a user\n",
    "df = pd.read_sql_query(q, cnx)\n",
    "df"
   ]
  },
  {
   "cell_type": "code",
   "execution_count": 166,
   "metadata": {},
   "outputs": [
    {
     "data": {
      "text/plain": [
       "[{'user': 1, 'lobby': 1, 'seed': 6, 'id': 1},\n",
       " {'user': 5, 'lobby': 1, 'seed': 1, 'id': 2},\n",
       " {'user': 4, 'lobby': 1, 'seed': 2, 'id': 3},\n",
       " {'user': 9, 'lobby': 1, 'seed': 8, 'id': 4},\n",
       " {'user': 8, 'lobby': 1, 'seed': 7, 'id': 5},\n",
       " {'user': 6, 'lobby': 1, 'seed': 3, 'id': 6},\n",
       " {'user': 3, 'lobby': 1, 'seed': 9, 'id': 7},\n",
       " {'user': 7, 'lobby': 1, 'seed': 4, 'id': 8},\n",
       " {'user': 2, 'lobby': 1, 'seed': 5, 'id': 9},\n",
       " {'user': 12, 'lobby': 1, 'seed': 10, 'id': 10}]"
      ]
     },
     "execution_count": 166,
     "metadata": {},
     "output_type": "execute_result"
    }
   ],
   "source": [
    "url = 'http://127.0.0.1:5000/api/lobby/1/entrants'\n",
    "headers = {'content-type': 'application/json', 'Accept-Charset': 'UTF-8'}\n",
    "# payload = json.dumps({\n",
    "#     \"username\" : \"AngryFalco\",\n",
    "#     \"role\" : \"User\"\n",
    "# })\n",
    "r = requests.get(url, headers=headers,)\n",
    "content =  json.loads(r.content)\n",
    "content"
   ]
  },
  {
   "cell_type": "code",
   "execution_count": 115,
   "metadata": {},
   "outputs": [
    {
     "data": {
      "text/plain": [
       "[<LobbySeed 1>,\n",
       " <LobbySeed 2>,\n",
       " <LobbySeed 3>,\n",
       " <LobbySeed 4>,\n",
       " <LobbySeed 5>,\n",
       " <LobbySeed 6>,\n",
       " <LobbySeed 7>,\n",
       " <LobbySeed 8>,\n",
       " <LobbySeed 9>,\n",
       " <LobbySeed 10>]"
      ]
     },
     "execution_count": 115,
     "metadata": {},
     "output_type": "execute_result"
    }
   ],
   "source": [
    "LobbySeedModel.query.filter_by(lobby_id=1).all()"
   ]
  }
 ],
 "metadata": {
  "kernelspec": {
   "display_name": "venv",
   "language": "python",
   "name": "venv"
  },
  "language_info": {
   "codemirror_mode": {
    "name": "ipython",
    "version": 3
   },
   "file_extension": ".py",
   "mimetype": "text/x-python",
   "name": "python",
   "nbconvert_exporter": "python",
   "pygments_lexer": "ipython3",
   "version": "3.6.9"
  }
 },
 "nbformat": 4,
 "nbformat_minor": 4
}
