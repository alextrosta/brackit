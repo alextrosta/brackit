{
 "cells": [
  {
   "cell_type": "code",
   "execution_count": 1,
   "metadata": {},
   "outputs": [],
   "source": [
    "%load_ext autoreload\n",
    "%autoreload 2"
   ]
  },
  {
   "cell_type": "code",
   "execution_count": 2,
   "metadata": {},
   "outputs": [],
   "source": [
    "from app import db\n",
    "import numpy as np\n",
    "\n",
    "from app.models import Tournament as TournamentModel\n",
    "from app.models import Lobby as LobbyModel\n",
    "from app.models import Bracket as BracketModel\n",
    "from app.models import Match as MatchModel\n",
    "from app.models import Round as RoundModel\n",
    "from app.models import User as UserModel\n",
    "\n",
    "from tournament import Tournament\n",
    "\n",
    "import numpy as np\n",
    "\n",
    "from sqlalchemy.sql.expression import func, select\n",
    "\n",
    "from tournament import (\n",
    "    BracketTypes,\n",
    "    Tournament,\n",
    "    Match\n",
    ")\n",
    "import sqlite3\n",
    "import pandas as pd\n",
    "import uuid\n",
    "import requests\n",
    "import json\n",
    "import random\n"
   ]
  },
  {
   "cell_type": "code",
   "execution_count": 3,
   "metadata": {},
   "outputs": [],
   "source": [
    "db.session.close()"
   ]
  },
  {
   "cell_type": "code",
   "execution_count": 4,
   "metadata": {},
   "outputs": [],
   "source": [
    "def purge(Model):\n",
    "    [db.session.delete(row) for row in Model.query.all()]"
   ]
  },
  {
   "cell_type": "code",
   "execution_count": 5,
   "metadata": {},
   "outputs": [],
   "source": [
    "# purge all tables first\n",
    "\n",
    "Models = [\n",
    "    BracketModel, \n",
    "    LobbyModel,\n",
    "    TournamentModel, \n",
    "    MatchModel, \n",
    "    RoundModel, \n",
    "    UserModel\n",
    "]\n",
    "\n",
    "for Model in Models:\n",
    "    purge(Model)\n",
    "db.session.commit()"
   ]
  },
  {
   "cell_type": "code",
   "execution_count": 6,
   "metadata": {},
   "outputs": [],
   "source": [
    "# Create the connection\n",
    "cnx = sqlite3.connect(r'./app.db')"
   ]
  },
  {
   "cell_type": "code",
   "execution_count": 7,
   "metadata": {},
   "outputs": [],
   "source": [
    "# register user like\n",
    "# curl -i -X POST -H \"Content-Type: application/json\" -d '{\"username\":\"miguel\",\"password\":\"python\"}' http://127.0.0.1:5000/api/users"
   ]
  },
  {
   "cell_type": "code",
   "execution_count": 8,
   "metadata": {},
   "outputs": [],
   "source": [
    "url = 'http://127.0.0.1:5000/api/users'\n",
    "headers = {'content-type': 'application/json', 'Accept-Charset': 'UTF-8'}\n",
    "payload = json.dumps({\n",
    "    \"username\":\"miguel\",\n",
    "    \"password\":\"python\",\n",
    "    \"email\":\"miguel@gmail.com\"\n",
    "})\n",
    "\n",
    "r = requests.post(url, data=payload, headers=headers)"
   ]
  },
  {
   "cell_type": "code",
   "execution_count": 9,
   "metadata": {},
   "outputs": [
    {
     "data": {
      "text/plain": [
       "b'{\"Success\":\"miguel logged in\"}\\n'"
      ]
     },
     "execution_count": 9,
     "metadata": {},
     "output_type": "execute_result"
    }
   ],
   "source": [
    "# log miguel in\n",
    "url = 'http://127.0.0.1:5000/api/login'\n",
    "headers = {'content-type': 'application/json', 'Accept-Charset': 'UTF-8'}\n",
    "# payload = json.dumps({\n",
    "#     \"username\":\"miguel\",\n",
    "#     \"password\":\"python\",\n",
    "#     \"email\":\"miguel@gmail.com\"\n",
    "# })\n",
    "\n",
    "r = requests.get(url, headers=headers, auth=('miguel', 'python'))\n",
    "r.content"
   ]
  },
  {
   "cell_type": "code",
   "execution_count": 10,
   "metadata": {},
   "outputs": [
    {
     "data": {
      "text/plain": [
       "b'{\"Success\":\"logged out\"}\\n'"
      ]
     },
     "execution_count": 10,
     "metadata": {},
     "output_type": "execute_result"
    }
   ],
   "source": [
    "# log miguel out\n",
    "url = 'http://127.0.0.1:5000/api/logout'\n",
    "headers = {'content-type': 'application/json', 'Accept-Charset': 'UTF-8'}\n",
    "# payload = json.dumps({\n",
    "#     \"username\":\"miguel\",\n",
    "#     \"password\":\"python\",\n",
    "#     \"email\":\"miguel@gmail.com\"\n",
    "# })\n",
    "\n",
    "r = requests.get(url, headers=headers, auth=('miguel', 'python'))\n",
    "r.content"
   ]
  },
  {
   "cell_type": "code",
   "execution_count": 11,
   "metadata": {},
   "outputs": [],
   "source": [
    "url = 'http://127.0.0.1:5000/api/users'\n",
    "# post the rest of the users\n",
    "users = [\n",
    "    ('TPN', 'TPN@example.com'),\n",
    "    ('AngryFalco', 'AngryFalco@example.com'),\n",
    "    ('Sunrisebanana', 'Sunrisebanana@example.com'),\n",
    "    ('Ptolemy', 'Ptolemy@example.com'),\n",
    "    ('Vik', 'Vik@example.com'),\n",
    "    ('Kevin', 'Kevin@example.com'),\n",
    "    ('Spaceghost', 'Spaceghost@example.com'),\n",
    "    ('Burnaby', 'Burnaby@example.com'),\n",
    "]\n",
    "\n",
    "for username, email in users:\n",
    "    payload = json.dumps({\n",
    "        \"username\":username,\n",
    "        \"password\":username.lower(),\n",
    "        \"email\":email.lower()\n",
    "    })\n",
    "    r = requests.post(url, data=payload, headers=headers)\n"
   ]
  },
  {
   "cell_type": "code",
   "execution_count": 12,
   "metadata": {},
   "outputs": [],
   "source": [
    "# or get a token\n",
    "# i.e. curl -u miguel:python -i -X GET http://127.0.0.1:5000/api/token"
   ]
  },
  {
   "cell_type": "code",
   "execution_count": 13,
   "metadata": {},
   "outputs": [
    {
     "data": {
      "text/plain": [
       "'eyJhbGciOiJIUzUxMiIsImlhdCI6MTU4MzY5OTUxNiwiZXhwIjoxNTgzNzAwMTE2fQ.eyJpZCI6MX0.ebYag4fxKeSz5Pvt2tuy4ZbhehxMLoZYwZ9gzFnklFZu57z5vroQgME1rJ9WvqAeQmQKolJKToe-XyZqyMkxJQ'"
      ]
     },
     "execution_count": 13,
     "metadata": {},
     "output_type": "execute_result"
    }
   ],
   "source": [
    "url = 'http://127.0.0.1:5000/api/token'\n",
    "r = requests.get(url, auth=('miguel', 'python'))\n",
    "tkn = json.loads(r.content)['token']\n",
    "tkn"
   ]
  },
  {
   "cell_type": "code",
   "execution_count": 14,
   "metadata": {},
   "outputs": [],
   "source": [
    "# now this user can login with a token\n",
    "url = 'http://127.0.0.1:5000/api/login'\n",
    "\n",
    "r = requests.get(url, auth=(tkn, 'unused'))"
   ]
  },
  {
   "cell_type": "code",
   "execution_count": 15,
   "metadata": {},
   "outputs": [
    {
     "data": {
      "text/plain": [
       "{'Lobby Created': \"Lobby created for tournament: miguel's tourneys\"}"
      ]
     },
     "execution_count": 15,
     "metadata": {},
     "output_type": "execute_result"
    }
   ],
   "source": [
    "# miguel creates lobby\n",
    "\n",
    "url = 'http://127.0.0.1:5000/api/create/lobby/'\n",
    "headers = {'content-type': 'application/json', 'Accept-Charset': 'UTF-8'}\n",
    "payload = json.dumps({\n",
    "    \"tournament_name\" : \"miguel's tourneys\"\n",
    "})\n",
    "r = requests.post(url, data=payload, headers=headers, auth=(tkn, 'unused'))\n",
    "json.loads(r.content)"
   ]
  },
  {
   "cell_type": "code",
   "execution_count": 16,
   "metadata": {},
   "outputs": [
    {
     "data": {
      "text/html": [
       "<div>\n",
       "<style scoped>\n",
       "    .dataframe tbody tr th:only-of-type {\n",
       "        vertical-align: middle;\n",
       "    }\n",
       "\n",
       "    .dataframe tbody tr th {\n",
       "        vertical-align: top;\n",
       "    }\n",
       "\n",
       "    .dataframe thead th {\n",
       "        text-align: right;\n",
       "    }\n",
       "</style>\n",
       "<table border=\"1\" class=\"dataframe\">\n",
       "  <thead>\n",
       "    <tr style=\"text-align: right;\">\n",
       "      <th></th>\n",
       "      <th>id</th>\n",
       "      <th>tournament_name</th>\n",
       "      <th>to_id</th>\n",
       "    </tr>\n",
       "  </thead>\n",
       "  <tbody>\n",
       "    <tr>\n",
       "      <th>0</th>\n",
       "      <td>1</td>\n",
       "      <td>miguel's tourneys</td>\n",
       "      <td>1</td>\n",
       "    </tr>\n",
       "  </tbody>\n",
       "</table>\n",
       "</div>"
      ],
      "text/plain": [
       "   id    tournament_name  to_id\n",
       "0   1  miguel's tourneys      1"
      ]
     },
     "execution_count": 16,
     "metadata": {},
     "output_type": "execute_result"
    }
   ],
   "source": [
    "q = \\\n",
    "\"\"\"\n",
    "    select * from lobby\n",
    "\"\"\"\n",
    "\n",
    "# posted a user\n",
    "df = pd.read_sql_query(q, cnx)\n",
    "df"
   ]
  },
  {
   "cell_type": "code",
   "execution_count": 17,
   "metadata": {},
   "outputs": [
    {
     "data": {
      "text/html": [
       "<div>\n",
       "<style scoped>\n",
       "    .dataframe tbody tr th:only-of-type {\n",
       "        vertical-align: middle;\n",
       "    }\n",
       "\n",
       "    .dataframe tbody tr th {\n",
       "        vertical-align: top;\n",
       "    }\n",
       "\n",
       "    .dataframe thead th {\n",
       "        text-align: right;\n",
       "    }\n",
       "</style>\n",
       "<table border=\"1\" class=\"dataframe\">\n",
       "  <thead>\n",
       "    <tr style=\"text-align: right;\">\n",
       "      <th></th>\n",
       "      <th>id</th>\n",
       "      <th>role</th>\n",
       "      <th>username</th>\n",
       "      <th>current_seed</th>\n",
       "      <th>email</th>\n",
       "      <th>password_hash</th>\n",
       "      <th>about_me</th>\n",
       "      <th>last_seen</th>\n",
       "      <th>lobby_id</th>\n",
       "    </tr>\n",
       "  </thead>\n",
       "  <tbody>\n",
       "    <tr>\n",
       "      <th>0</th>\n",
       "      <td>1</td>\n",
       "      <td>User</td>\n",
       "      <td>miguel</td>\n",
       "      <td>None</td>\n",
       "      <td>miguel@gmail.com</td>\n",
       "      <td>pbkdf2:sha256:150000$pBSAjVlC$205f3f7576a29a73...</td>\n",
       "      <td>None</td>\n",
       "      <td>2020-03-08 20:31:55.656362</td>\n",
       "      <td>None</td>\n",
       "    </tr>\n",
       "    <tr>\n",
       "      <th>1</th>\n",
       "      <td>2</td>\n",
       "      <td>User</td>\n",
       "      <td>TPN</td>\n",
       "      <td>None</td>\n",
       "      <td>tpn@example.com</td>\n",
       "      <td>pbkdf2:sha256:150000$iPxML79m$19ac10f602714b72...</td>\n",
       "      <td>None</td>\n",
       "      <td>2020-03-08 20:31:55.983328</td>\n",
       "      <td>None</td>\n",
       "    </tr>\n",
       "    <tr>\n",
       "      <th>2</th>\n",
       "      <td>3</td>\n",
       "      <td>User</td>\n",
       "      <td>AngryFalco</td>\n",
       "      <td>None</td>\n",
       "      <td>angryfalco@example.com</td>\n",
       "      <td>pbkdf2:sha256:150000$iZhmWE5v$0e5336ef8bcb7a78...</td>\n",
       "      <td>None</td>\n",
       "      <td>2020-03-08 20:31:56.067621</td>\n",
       "      <td>None</td>\n",
       "    </tr>\n",
       "    <tr>\n",
       "      <th>3</th>\n",
       "      <td>4</td>\n",
       "      <td>User</td>\n",
       "      <td>Sunrisebanana</td>\n",
       "      <td>None</td>\n",
       "      <td>sunrisebanana@example.com</td>\n",
       "      <td>pbkdf2:sha256:150000$QrbPegY7$43f992a56df4c5ad...</td>\n",
       "      <td>None</td>\n",
       "      <td>2020-03-08 20:31:56.148890</td>\n",
       "      <td>None</td>\n",
       "    </tr>\n",
       "    <tr>\n",
       "      <th>4</th>\n",
       "      <td>5</td>\n",
       "      <td>User</td>\n",
       "      <td>Ptolemy</td>\n",
       "      <td>None</td>\n",
       "      <td>ptolemy@example.com</td>\n",
       "      <td>pbkdf2:sha256:150000$WjTqXTx6$310a85a2e45baacb...</td>\n",
       "      <td>None</td>\n",
       "      <td>2020-03-08 20:31:56.237680</td>\n",
       "      <td>None</td>\n",
       "    </tr>\n",
       "    <tr>\n",
       "      <th>5</th>\n",
       "      <td>6</td>\n",
       "      <td>User</td>\n",
       "      <td>Vik</td>\n",
       "      <td>None</td>\n",
       "      <td>vik@example.com</td>\n",
       "      <td>pbkdf2:sha256:150000$TyQniFIU$b2e287f1fbb5f8e0...</td>\n",
       "      <td>None</td>\n",
       "      <td>2020-03-08 20:31:56.319645</td>\n",
       "      <td>None</td>\n",
       "    </tr>\n",
       "    <tr>\n",
       "      <th>6</th>\n",
       "      <td>7</td>\n",
       "      <td>User</td>\n",
       "      <td>Kevin</td>\n",
       "      <td>None</td>\n",
       "      <td>kevin@example.com</td>\n",
       "      <td>pbkdf2:sha256:150000$X0RbpomV$69eb18a9a3434b73...</td>\n",
       "      <td>None</td>\n",
       "      <td>2020-03-08 20:31:56.401229</td>\n",
       "      <td>None</td>\n",
       "    </tr>\n",
       "    <tr>\n",
       "      <th>7</th>\n",
       "      <td>8</td>\n",
       "      <td>User</td>\n",
       "      <td>Spaceghost</td>\n",
       "      <td>None</td>\n",
       "      <td>spaceghost@example.com</td>\n",
       "      <td>pbkdf2:sha256:150000$OoVgielg$ff7e25b28c6931fb...</td>\n",
       "      <td>None</td>\n",
       "      <td>2020-03-08 20:31:56.482772</td>\n",
       "      <td>None</td>\n",
       "    </tr>\n",
       "    <tr>\n",
       "      <th>8</th>\n",
       "      <td>9</td>\n",
       "      <td>User</td>\n",
       "      <td>Burnaby</td>\n",
       "      <td>None</td>\n",
       "      <td>burnaby@example.com</td>\n",
       "      <td>pbkdf2:sha256:150000$ljGtL8S5$d38b94981e1ca6ba...</td>\n",
       "      <td>None</td>\n",
       "      <td>2020-03-08 20:31:56.563296</td>\n",
       "      <td>None</td>\n",
       "    </tr>\n",
       "  </tbody>\n",
       "</table>\n",
       "</div>"
      ],
      "text/plain": [
       "   id  role       username current_seed                      email  \\\n",
       "0   1  User         miguel         None           miguel@gmail.com   \n",
       "1   2  User            TPN         None            tpn@example.com   \n",
       "2   3  User     AngryFalco         None     angryfalco@example.com   \n",
       "3   4  User  Sunrisebanana         None  sunrisebanana@example.com   \n",
       "4   5  User        Ptolemy         None        ptolemy@example.com   \n",
       "5   6  User            Vik         None            vik@example.com   \n",
       "6   7  User          Kevin         None          kevin@example.com   \n",
       "7   8  User     Spaceghost         None     spaceghost@example.com   \n",
       "8   9  User        Burnaby         None        burnaby@example.com   \n",
       "\n",
       "                                       password_hash about_me  \\\n",
       "0  pbkdf2:sha256:150000$pBSAjVlC$205f3f7576a29a73...     None   \n",
       "1  pbkdf2:sha256:150000$iPxML79m$19ac10f602714b72...     None   \n",
       "2  pbkdf2:sha256:150000$iZhmWE5v$0e5336ef8bcb7a78...     None   \n",
       "3  pbkdf2:sha256:150000$QrbPegY7$43f992a56df4c5ad...     None   \n",
       "4  pbkdf2:sha256:150000$WjTqXTx6$310a85a2e45baacb...     None   \n",
       "5  pbkdf2:sha256:150000$TyQniFIU$b2e287f1fbb5f8e0...     None   \n",
       "6  pbkdf2:sha256:150000$X0RbpomV$69eb18a9a3434b73...     None   \n",
       "7  pbkdf2:sha256:150000$OoVgielg$ff7e25b28c6931fb...     None   \n",
       "8  pbkdf2:sha256:150000$ljGtL8S5$d38b94981e1ca6ba...     None   \n",
       "\n",
       "                    last_seen lobby_id  \n",
       "0  2020-03-08 20:31:55.656362     None  \n",
       "1  2020-03-08 20:31:55.983328     None  \n",
       "2  2020-03-08 20:31:56.067621     None  \n",
       "3  2020-03-08 20:31:56.148890     None  \n",
       "4  2020-03-08 20:31:56.237680     None  \n",
       "5  2020-03-08 20:31:56.319645     None  \n",
       "6  2020-03-08 20:31:56.401229     None  \n",
       "7  2020-03-08 20:31:56.482772     None  \n",
       "8  2020-03-08 20:31:56.563296     None  "
      ]
     },
     "execution_count": 17,
     "metadata": {},
     "output_type": "execute_result"
    }
   ],
   "source": [
    "q = \\\n",
    "\"\"\"\n",
    "    select * from user\n",
    "\"\"\"\n",
    "\n",
    "# posted a user\n",
    "df = pd.read_sql_query(q, cnx)\n",
    "df.head(10)"
   ]
  },
  {
   "cell_type": "code",
   "execution_count": 18,
   "metadata": {},
   "outputs": [
    {
     "data": {
      "text/plain": [
       "'eyJhbGciOiJIUzUxMiIsImlhdCI6MTU4MzY5OTUxNiwiZXhwIjoxNTgzNzAwMTE2fQ.eyJpZCI6MX0.ebYag4fxKeSz5Pvt2tuy4ZbhehxMLoZYwZ9gzFnklFZu57z5vroQgME1rJ9WvqAeQmQKolJKToe-XyZqyMkxJQ'"
      ]
     },
     "execution_count": 18,
     "metadata": {},
     "output_type": "execute_result"
    }
   ],
   "source": [
    "url = 'http://127.0.0.1:5000/api/token'\n",
    "r = requests.get(url, auth=('miguel', 'python'))\n",
    "tkn = json.loads(r.content)['token']\n",
    "tkn"
   ]
  },
  {
   "cell_type": "code",
   "execution_count": 19,
   "metadata": {},
   "outputs": [
    {
     "name": "stdout",
     "output_type": "stream",
     "text": [
      "{'Added': 'User Burnaby to lobby 1'}\n",
      "{'Added': 'User Spaceghost to lobby 1'}\n",
      "{'Added': 'User Kevin to lobby 1'}\n",
      "{'Added': 'User TPN to lobby 1'}\n",
      "{'Added': 'User miguel to lobby 1'}\n",
      "{'Added': 'User Vik to lobby 1'}\n",
      "{'Added': 'User Sunrisebanana to lobby 1'}\n",
      "{'Added': 'User AngryFalco to lobby 1'}\n",
      "{'Added': 'User Ptolemy to lobby 1'}\n",
      "{'Added': 'Guest guesty to lobby 1'}\n",
      "{'Unauthorized': 'TPN cannot add entrants to this lobby'}\n"
     ]
    },
    {
     "data": {
      "text/plain": [
       "False"
      ]
     },
     "execution_count": 19,
     "metadata": {},
     "output_type": "execute_result"
    }
   ],
   "source": [
    "users = df.username.values\n",
    "np.random.shuffle(users)\n",
    "import random\n",
    "\n",
    "# miguel adds users to his lobby\n",
    "\n",
    "url = 'http://127.0.0.1:5000/api/lobby/1/add-user/'\n",
    "headers = {'content-type': 'application/json', 'Accept-Charset': 'UTF-8'}\n",
    "\n",
    "seeds = random.sample(range(1, len(users)+1), len(users)) \n",
    "roles = [\"User\" for u in users]\n",
    "for u, s, r in zip(users, roles, seeds):\n",
    "    payload = json.dumps({\n",
    "        \"username\" : u,\n",
    "        \"role\" : s,\n",
    "        \"seed\" : r\n",
    "    })\n",
    "    r = requests.post(url, data=payload, headers=headers, auth=(tkn, 'unused'))\n",
    "    print(json.loads(r.content))\n",
    "\n",
    "url = 'http://127.0.0.1:5000/api/lobby/1'\n",
    "headers = {'content-type': 'application/json', 'Accept-Charset': 'UTF-8'}\n",
    "# payload = json.dumps({\n",
    "#     \"username\" : \"AngryFalco\",\n",
    "#     \"role\" : \"User\"\n",
    "# })\n",
    "r = requests.get(url, headers=headers,)\n",
    "json.loads(r.content)\n",
    "\n",
    "# miguel adds a guest user\n",
    "\n",
    "url = 'http://127.0.0.1:5000/api/lobby/1/add-user/'\n",
    "headers = {'content-type': 'application/json', 'Accept-Charset': 'UTF-8'}\n",
    "\n",
    "payload = json.dumps({\n",
    "    \"username\" : \"guesty\",\n",
    "    \"role\" : \"Guest\",\n",
    "    \"seed\" : 10\n",
    "})\n",
    "r = requests.post(url, data=payload, headers=headers, auth=(tkn, 'unused'))\n",
    "print(json.loads(r.content))\n",
    "\n",
    "# log miguel out\n",
    "url = 'http://127.0.0.1:5000/api/lobby/1/add-user/'\n",
    "headers = {'content-type': 'application/json', 'Accept-Charset': 'UTF-8'}\n",
    "\n",
    "# TPN tries to add his own guests to miguel's lobby\n",
    "url = 'http://127.0.0.1:5000/api/lobby/1/add-user/'\n",
    "headers = {'content-type': 'application/json', 'Accept-Charset': 'UTF-8'}\n",
    "\n",
    "payload = json.dumps({\n",
    "    \"username\" : \"guestx\",\n",
    "    \"role\" : \"Guest\",\n",
    "    \"seed\" : 1\n",
    "})\n",
    "r = requests.post(url, data=payload, headers=headers, auth=('TPN', 'tpn'))\n",
    "print(json.loads(r.content))\n",
    "\n",
    "UserModel \\\n",
    "    .query \\\n",
    "    .filter_by(username='guesty', role='Guest') \\\n",
    "    .first() is None"
   ]
  },
  {
   "cell_type": "code",
   "execution_count": 20,
   "metadata": {},
   "outputs": [
    {
     "data": {
      "text/plain": [
       "b'{\"Success\":\"logged out\"}\\n'"
      ]
     },
     "execution_count": 20,
     "metadata": {},
     "output_type": "execute_result"
    }
   ],
   "source": [
    "# log miguel out\n",
    "url = 'http://127.0.0.1:5000/api/logout'\n",
    "headers = {'content-type': 'application/json', 'Accept-Charset': 'UTF-8'}\n",
    "# payload = json.dumps({\n",
    "#     \"username\":\"miguel\",\n",
    "#     \"password\":\"python\",\n",
    "#     \"email\":\"miguel@gmail.com\"\n",
    "# })\n",
    "\n",
    "r = requests.get(url, headers=headers, auth=('miguel', 'python'))\n",
    "r.content"
   ]
  },
  {
   "cell_type": "code",
   "execution_count": 21,
   "metadata": {},
   "outputs": [
    {
     "data": {
      "text/plain": [
       "'eyJhbGciOiJIUzUxMiIsImlhdCI6MTU4MzY5OTUxNywiZXhwIjoxNTgzNzAwMTE3fQ.eyJpZCI6Mn0.8-_XWwpSFwL4jlcdGF6jfN74cZMGIFfkNy1p5VcCiwDFxfc2fUGPtBK9PE56J_eS5zsbCaBL3GI2S31x_2i9WA'"
      ]
     },
     "execution_count": 21,
     "metadata": {},
     "output_type": "execute_result"
    }
   ],
   "source": [
    "url = 'http://127.0.0.1:5000/api/token'\n",
    "r = requests.get(url, auth=('TPN', 'tpn'))\n",
    "tkn = json.loads(r.content)['token']\n",
    "tkn"
   ]
  },
  {
   "cell_type": "code",
   "execution_count": 22,
   "metadata": {},
   "outputs": [
    {
     "name": "stdout",
     "output_type": "stream",
     "text": [
      "{'Unauthorized': 'TPN cannot add entrants to this lobby'}\n"
     ]
    }
   ],
   "source": [
    "# TPN tries to add his own guests to miguel's lobby\n",
    "url = 'http://127.0.0.1:5000/api/lobby/1/add-user/'\n",
    "headers = {'content-type': 'application/json', 'Accept-Charset': 'UTF-8'}\n",
    "\n",
    "payload = json.dumps({\n",
    "    \"username\" : \"guestaas\",\n",
    "    \"role\" : \"Guest\",\n",
    "    \"seed\" : 1\n",
    "})\n",
    "r = requests.post(url, data=payload, headers=headers, auth=(tkn, 'unused'))\n",
    "print(json.loads(r.content))\n"
   ]
  },
  {
   "cell_type": "code",
   "execution_count": 25,
   "metadata": {},
   "outputs": [],
   "source": [
    "url = 'http://127.0.0.1:5000/api/lobby/1'\n",
    "headers = {'content-type': 'application/json', 'Accept-Charset': 'UTF-8'}\n",
    "# payload = json.dumps({\n",
    "#     \"username\" : \"AngryFalco\",\n",
    "#     \"role\" : \"User\"\n",
    "# })\n",
    "r = requests.get(url, headers=headers,)\n",
    "content =  json.loads(r.content)"
   ]
  },
  {
   "cell_type": "code",
   "execution_count": 27,
   "metadata": {},
   "outputs": [
    {
     "data": {
      "text/plain": [
       "[1, 2, 3, 4, 5, 6, 7, 8, 9, 10]"
      ]
     },
     "execution_count": 27,
     "metadata": {},
     "output_type": "execute_result"
    }
   ],
   "source": [
    "for i in content['entrants']:"
   ]
  }
 ],
 "metadata": {
  "kernelspec": {
   "display_name": "venv",
   "language": "python",
   "name": "venv"
  },
  "language_info": {
   "codemirror_mode": {
    "name": "ipython",
    "version": 3
   },
   "file_extension": ".py",
   "mimetype": "text/x-python",
   "name": "python",
   "nbconvert_exporter": "python",
   "pygments_lexer": "ipython3",
   "version": "3.6.9"
  }
 },
 "nbformat": 4,
 "nbformat_minor": 4
}
