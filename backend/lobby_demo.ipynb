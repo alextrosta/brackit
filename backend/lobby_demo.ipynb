{
 "cells": [
  {
   "cell_type": "code",
   "execution_count": null,
   "metadata": {},
   "outputs": [],
   "source": [
    "%load_ext autoreload\n",
    "%autoreload 2"
   ]
  },
  {
   "cell_type": "code",
   "execution_count": 2,
   "metadata": {},
   "outputs": [],
   "source": [
    "from app import db\n",
    "import numpy as np\n",
    "\n",
    "from app.models import Tournament as TournamentModel\n",
    "from app.models import Lobby as LobbyModel\n",
    "from app.models import Bracket as BracketModel\n",
    "from app.models import Match as MatchModel\n",
    "from app.models import Round as RoundModel\n",
    "from app.models import User as UserModel\n",
    "from app.models import LobbySeed as LobbySeedModel\n",
    "\n",
    "from tournament import Tournament\n",
    "\n",
    "import numpy as np\n",
    "\n",
    "from sqlalchemy.sql.expression import func, select\n",
    "\n",
    "from tournament import (\n",
    "    BracketTypes,\n",
    "    Tournament,\n",
    "    Match\n",
    ")\n",
    "import sqlite3\n",
    "import pandas as pd\n",
    "import uuid\n",
    "import requests\n",
    "import json\n",
    "import random\n"
   ]
  },
  {
   "cell_type": "code",
   "execution_count": 3,
   "metadata": {},
   "outputs": [],
   "source": [
    "db.session.close()"
   ]
  },
  {
   "cell_type": "code",
   "execution_count": 4,
   "metadata": {},
   "outputs": [],
   "source": [
    "def purge(Model):\n",
    "    [db.session.delete(row) for row in Model.query.all()]"
   ]
  },
  {
   "cell_type": "code",
   "execution_count": 5,
   "metadata": {},
   "outputs": [],
   "source": [
    "# purge all tables first\n",
    "\n",
    "Models = [\n",
    "    BracketModel, \n",
    "    LobbyModel,\n",
    "    TournamentModel, \n",
    "    MatchModel, \n",
    "    RoundModel, \n",
    "    UserModel, \n",
    "    LobbySeedModel\n",
    "]\n",
    "\n",
    "for Model in Models:\n",
    "    purge(Model)\n",
    "db.session.commit()"
   ]
  },
  {
   "cell_type": "code",
   "execution_count": 6,
   "metadata": {},
   "outputs": [],
   "source": [
    "# Create the connection\n",
    "cnx = sqlite3.connect(r'./app.db')"
   ]
  },
  {
   "cell_type": "code",
   "execution_count": 7,
   "metadata": {},
   "outputs": [],
   "source": [
    "# register user like\n",
    "# curl -i -X POST -H \"Content-Type: application/json\" -d '{\"username\":\"miguel\",\"password\":\"python\"}' http://127.0.0.1:5000/api/users"
   ]
  },
  {
   "cell_type": "code",
   "execution_count": 8,
   "metadata": {},
   "outputs": [],
   "source": [
    "url = 'http://127.0.0.1:5000/api/users'\n",
    "headers = {'content-type': 'application/json', 'Accept-Charset': 'UTF-8'}\n",
    "payload = json.dumps({\n",
    "    \"username\":\"miguel\",\n",
    "    \"password\":\"python\",\n",
    "    \"email\":\"miguel@gmail.com\"\n",
    "})\n",
    "\n",
    "r = requests.post(url, data=payload, headers=headers)"
   ]
  },
  {
   "cell_type": "code",
   "execution_count": 9,
   "metadata": {},
   "outputs": [
    {
     "data": {
      "text/plain": [
       "b'{\"Success\":\"miguel logged in\"}\\n'"
      ]
     },
     "execution_count": 9,
     "metadata": {},
     "output_type": "execute_result"
    }
   ],
   "source": [
    "# log miguel in\n",
    "url = 'http://127.0.0.1:5000/api/login'\n",
    "headers = {'content-type': 'application/json', 'Accept-Charset': 'UTF-8'}\n",
    "# payload = json.dumps({\n",
    "#     \"username\":\"miguel\",\n",
    "#     \"password\":\"python\",\n",
    "#     \"email\":\"miguel@gmail.com\"\n",
    "# })\n",
    "\n",
    "r = requests.get(url, headers=headers, auth=('miguel', 'python'))\n",
    "r.content"
   ]
  },
  {
   "cell_type": "code",
   "execution_count": 10,
   "metadata": {},
   "outputs": [
    {
     "data": {
      "text/plain": [
       "b'{\"Success\":\"logged out\"}\\n'"
      ]
     },
     "execution_count": 10,
     "metadata": {},
     "output_type": "execute_result"
    }
   ],
   "source": [
    "# log miguel out\n",
    "url = 'http://127.0.0.1:5000/api/logout'\n",
    "headers = {'content-type': 'application/json', 'Accept-Charset': 'UTF-8'}\n",
    "# payload = json.dumps({\n",
    "#     \"username\":\"miguel\",\n",
    "#     \"password\":\"python\",\n",
    "#     \"email\":\"miguel@gmail.com\"\n",
    "# })\n",
    "\n",
    "r = requests.get(url, headers=headers, auth=('miguel', 'python'))\n",
    "r.content"
   ]
  },
  {
   "cell_type": "code",
   "execution_count": 11,
   "metadata": {},
   "outputs": [],
   "source": [
    "url = 'http://127.0.0.1:5000/api/users'\n",
    "# post the rest of the users\n",
    "users = [\n",
    "    ('TPN', 'TPN@example.com'),\n",
    "    ('AngryFalco', 'AngryFalco@example.com'),\n",
    "    ('Sunrisebanana', 'Sunrisebanana@example.com'),\n",
    "    ('Ptolemy', 'Ptolemy@example.com'),\n",
    "    ('Vik', 'Vik@example.com'),\n",
    "    ('Kevin', 'Kevin@example.com'),\n",
    "    ('Spaceghost', 'Spaceghost@example.com'),\n",
    "    ('Burnaby', 'Burnaby@example.com'),\n",
    "]\n",
    "\n",
    "for username, email in users:\n",
    "    payload = json.dumps({\n",
    "        \"username\":username,\n",
    "        \"password\":username.lower(),\n",
    "        \"email\":email.lower()\n",
    "    })\n",
    "    r = requests.post(url, data=payload, headers=headers)\n"
   ]
  },
  {
   "cell_type": "code",
   "execution_count": 12,
   "metadata": {},
   "outputs": [],
   "source": [
    "# or get a token\n",
    "# i.e. curl -u miguel:python -i -X GET http://127.0.0.1:5000/api/token"
   ]
  },
  {
   "cell_type": "code",
   "execution_count": 13,
   "metadata": {},
   "outputs": [
    {
     "data": {
      "text/plain": [
       "'eyJhbGciOiJIUzUxMiIsImlhdCI6MTU4NDM3NjUyOCwiZXhwIjoxNTg0Mzc3MTI4fQ.eyJpZCI6MX0.baJ3AVWUZ_UPUTyVleMx4VL9Qt8LnyLyRgZZk-smE7p46xz1vxMWQbO-gpGsIQ6hhGd7w7c9enkFlmym6-OgWA'"
      ]
     },
     "execution_count": 13,
     "metadata": {},
     "output_type": "execute_result"
    }
   ],
   "source": [
    "url = 'http://127.0.0.1:5000/api/token'\n",
    "r = requests.get(url, auth=('miguel', 'python'))\n",
    "tkn = json.loads(r.content)['token']\n",
    "tkn"
   ]
  },
  {
   "cell_type": "code",
   "execution_count": 14,
   "metadata": {},
   "outputs": [],
   "source": [
    "# now this user can login with a token\n",
    "url = 'http://127.0.0.1:5000/api/login'\n",
    "\n",
    "r = requests.get(url, auth=(tkn, 'unused'))"
   ]
  },
  {
   "cell_type": "code",
   "execution_count": 15,
   "metadata": {},
   "outputs": [
    {
     "data": {
      "text/plain": [
       "{'Lobby Created': \"Lobby created for tournament: miguel's tourneys\"}"
      ]
     },
     "execution_count": 15,
     "metadata": {},
     "output_type": "execute_result"
    }
   ],
   "source": [
    "# miguel creates lobby\n",
    "\n",
    "url = 'http://127.0.0.1:5000/api/create/lobby/'\n",
    "headers = {'content-type': 'application/json', 'Accept-Charset': 'UTF-8'}\n",
    "payload = json.dumps({\n",
    "    \"tournament_name\" : \"miguel's tourneys\"\n",
    "})\n",
    "r = requests.post(url, data=payload, headers=headers, auth=(tkn, 'unused'))\n",
    "json.loads(r.content)"
   ]
  },
  {
   "cell_type": "markdown",
   "metadata": {},
   "source": [
    "# Empty lobby "
   ]
  },
  {
   "cell_type": "code",
   "execution_count": 16,
   "metadata": {},
   "outputs": [
    {
     "data": {
      "text/html": [
       "<div>\n",
       "<style scoped>\n",
       "    .dataframe tbody tr th:only-of-type {\n",
       "        vertical-align: middle;\n",
       "    }\n",
       "\n",
       "    .dataframe tbody tr th {\n",
       "        vertical-align: top;\n",
       "    }\n",
       "\n",
       "    .dataframe thead th {\n",
       "        text-align: right;\n",
       "    }\n",
       "</style>\n",
       "<table border=\"1\" class=\"dataframe\">\n",
       "  <thead>\n",
       "    <tr style=\"text-align: right;\">\n",
       "      <th></th>\n",
       "      <th>id</th>\n",
       "      <th>user_id</th>\n",
       "      <th>lobby_id</th>\n",
       "      <th>seed</th>\n",
       "    </tr>\n",
       "  </thead>\n",
       "  <tbody>\n",
       "  </tbody>\n",
       "</table>\n",
       "</div>"
      ],
      "text/plain": [
       "Empty DataFrame\n",
       "Columns: [id, user_id, lobby_id, seed]\n",
       "Index: []"
      ]
     },
     "execution_count": 16,
     "metadata": {},
     "output_type": "execute_result"
    }
   ],
   "source": [
    "q = \\\n",
    "\"\"\"\n",
    "    select * from lobby_seeds where lobby_id == 1\n",
    "\"\"\"\n",
    "\n",
    "# posted a user\n",
    "df = pd.read_sql_query(q, cnx)\n",
    "df"
   ]
  },
  {
   "cell_type": "code",
   "execution_count": 17,
   "metadata": {},
   "outputs": [
    {
     "data": {
      "text/html": [
       "<div>\n",
       "<style scoped>\n",
       "    .dataframe tbody tr th:only-of-type {\n",
       "        vertical-align: middle;\n",
       "    }\n",
       "\n",
       "    .dataframe tbody tr th {\n",
       "        vertical-align: top;\n",
       "    }\n",
       "\n",
       "    .dataframe thead th {\n",
       "        text-align: right;\n",
       "    }\n",
       "</style>\n",
       "<table border=\"1\" class=\"dataframe\">\n",
       "  <thead>\n",
       "    <tr style=\"text-align: right;\">\n",
       "      <th></th>\n",
       "      <th>id</th>\n",
       "      <th>tournament_name</th>\n",
       "      <th>tournament_id</th>\n",
       "      <th>to_id</th>\n",
       "    </tr>\n",
       "  </thead>\n",
       "  <tbody>\n",
       "    <tr>\n",
       "      <th>0</th>\n",
       "      <td>1</td>\n",
       "      <td>miguel's tourneys</td>\n",
       "      <td>None</td>\n",
       "      <td>1</td>\n",
       "    </tr>\n",
       "  </tbody>\n",
       "</table>\n",
       "</div>"
      ],
      "text/plain": [
       "   id    tournament_name tournament_id  to_id\n",
       "0   1  miguel's tourneys          None      1"
      ]
     },
     "execution_count": 17,
     "metadata": {},
     "output_type": "execute_result"
    }
   ],
   "source": [
    "q = \\\n",
    "\"\"\"\n",
    "    select * from lobby\n",
    "\"\"\"\n",
    "\n",
    "# posted a user\n",
    "df = pd.read_sql_query(q, cnx)\n",
    "df"
   ]
  },
  {
   "cell_type": "code",
   "execution_count": 18,
   "metadata": {},
   "outputs": [
    {
     "data": {
      "text/html": [
       "<div>\n",
       "<style scoped>\n",
       "    .dataframe tbody tr th:only-of-type {\n",
       "        vertical-align: middle;\n",
       "    }\n",
       "\n",
       "    .dataframe tbody tr th {\n",
       "        vertical-align: top;\n",
       "    }\n",
       "\n",
       "    .dataframe thead th {\n",
       "        text-align: right;\n",
       "    }\n",
       "</style>\n",
       "<table border=\"1\" class=\"dataframe\">\n",
       "  <thead>\n",
       "    <tr style=\"text-align: right;\">\n",
       "      <th></th>\n",
       "      <th>id</th>\n",
       "      <th>role</th>\n",
       "      <th>username</th>\n",
       "      <th>email</th>\n",
       "      <th>password_hash</th>\n",
       "      <th>about_me</th>\n",
       "      <th>last_seen</th>\n",
       "    </tr>\n",
       "  </thead>\n",
       "  <tbody>\n",
       "    <tr>\n",
       "      <th>0</th>\n",
       "      <td>1</td>\n",
       "      <td>User</td>\n",
       "      <td>miguel</td>\n",
       "      <td>miguel@gmail.com</td>\n",
       "      <td>pbkdf2:sha256:150000$L5teuV0q$dfd5b0bfa1c8a037...</td>\n",
       "      <td>None</td>\n",
       "      <td>2020-03-16 16:35:27.693635</td>\n",
       "    </tr>\n",
       "    <tr>\n",
       "      <th>1</th>\n",
       "      <td>2</td>\n",
       "      <td>User</td>\n",
       "      <td>TPN</td>\n",
       "      <td>tpn@example.com</td>\n",
       "      <td>pbkdf2:sha256:150000$hcWyTFfl$3fa53d761b117e86...</td>\n",
       "      <td>None</td>\n",
       "      <td>2020-03-16 16:35:28.022663</td>\n",
       "    </tr>\n",
       "    <tr>\n",
       "      <th>2</th>\n",
       "      <td>3</td>\n",
       "      <td>User</td>\n",
       "      <td>AngryFalco</td>\n",
       "      <td>angryfalco@example.com</td>\n",
       "      <td>pbkdf2:sha256:150000$qhUSCiU8$49b9e72c83e1ad11...</td>\n",
       "      <td>None</td>\n",
       "      <td>2020-03-16 16:35:28.111111</td>\n",
       "    </tr>\n",
       "    <tr>\n",
       "      <th>3</th>\n",
       "      <td>4</td>\n",
       "      <td>User</td>\n",
       "      <td>Sunrisebanana</td>\n",
       "      <td>sunrisebanana@example.com</td>\n",
       "      <td>pbkdf2:sha256:150000$siFlE0pq$3ffc484617f2a050...</td>\n",
       "      <td>None</td>\n",
       "      <td>2020-03-16 16:35:28.198685</td>\n",
       "    </tr>\n",
       "    <tr>\n",
       "      <th>4</th>\n",
       "      <td>5</td>\n",
       "      <td>User</td>\n",
       "      <td>Ptolemy</td>\n",
       "      <td>ptolemy@example.com</td>\n",
       "      <td>pbkdf2:sha256:150000$Ov2d7HyR$9190ad96da42316f...</td>\n",
       "      <td>None</td>\n",
       "      <td>2020-03-16 16:35:28.283038</td>\n",
       "    </tr>\n",
       "    <tr>\n",
       "      <th>5</th>\n",
       "      <td>6</td>\n",
       "      <td>User</td>\n",
       "      <td>Vik</td>\n",
       "      <td>vik@example.com</td>\n",
       "      <td>pbkdf2:sha256:150000$g2rZGY3n$5624753e20ddd358...</td>\n",
       "      <td>None</td>\n",
       "      <td>2020-03-16 16:35:28.367357</td>\n",
       "    </tr>\n",
       "    <tr>\n",
       "      <th>6</th>\n",
       "      <td>7</td>\n",
       "      <td>User</td>\n",
       "      <td>Kevin</td>\n",
       "      <td>kevin@example.com</td>\n",
       "      <td>pbkdf2:sha256:150000$TDI1ZGUO$05f364e7a78ae61f...</td>\n",
       "      <td>None</td>\n",
       "      <td>2020-03-16 16:35:28.452244</td>\n",
       "    </tr>\n",
       "    <tr>\n",
       "      <th>7</th>\n",
       "      <td>8</td>\n",
       "      <td>User</td>\n",
       "      <td>Spaceghost</td>\n",
       "      <td>spaceghost@example.com</td>\n",
       "      <td>pbkdf2:sha256:150000$IZlGV1Hw$fdf11a71a486259a...</td>\n",
       "      <td>None</td>\n",
       "      <td>2020-03-16 16:35:28.539107</td>\n",
       "    </tr>\n",
       "    <tr>\n",
       "      <th>8</th>\n",
       "      <td>9</td>\n",
       "      <td>User</td>\n",
       "      <td>Burnaby</td>\n",
       "      <td>burnaby@example.com</td>\n",
       "      <td>pbkdf2:sha256:150000$3wjlejxg$14c1236b5e20071c...</td>\n",
       "      <td>None</td>\n",
       "      <td>2020-03-16 16:35:28.622435</td>\n",
       "    </tr>\n",
       "  </tbody>\n",
       "</table>\n",
       "</div>"
      ],
      "text/plain": [
       "   id  role       username                      email  \\\n",
       "0   1  User         miguel           miguel@gmail.com   \n",
       "1   2  User            TPN            tpn@example.com   \n",
       "2   3  User     AngryFalco     angryfalco@example.com   \n",
       "3   4  User  Sunrisebanana  sunrisebanana@example.com   \n",
       "4   5  User        Ptolemy        ptolemy@example.com   \n",
       "5   6  User            Vik            vik@example.com   \n",
       "6   7  User          Kevin          kevin@example.com   \n",
       "7   8  User     Spaceghost     spaceghost@example.com   \n",
       "8   9  User        Burnaby        burnaby@example.com   \n",
       "\n",
       "                                       password_hash about_me  \\\n",
       "0  pbkdf2:sha256:150000$L5teuV0q$dfd5b0bfa1c8a037...     None   \n",
       "1  pbkdf2:sha256:150000$hcWyTFfl$3fa53d761b117e86...     None   \n",
       "2  pbkdf2:sha256:150000$qhUSCiU8$49b9e72c83e1ad11...     None   \n",
       "3  pbkdf2:sha256:150000$siFlE0pq$3ffc484617f2a050...     None   \n",
       "4  pbkdf2:sha256:150000$Ov2d7HyR$9190ad96da42316f...     None   \n",
       "5  pbkdf2:sha256:150000$g2rZGY3n$5624753e20ddd358...     None   \n",
       "6  pbkdf2:sha256:150000$TDI1ZGUO$05f364e7a78ae61f...     None   \n",
       "7  pbkdf2:sha256:150000$IZlGV1Hw$fdf11a71a486259a...     None   \n",
       "8  pbkdf2:sha256:150000$3wjlejxg$14c1236b5e20071c...     None   \n",
       "\n",
       "                    last_seen  \n",
       "0  2020-03-16 16:35:27.693635  \n",
       "1  2020-03-16 16:35:28.022663  \n",
       "2  2020-03-16 16:35:28.111111  \n",
       "3  2020-03-16 16:35:28.198685  \n",
       "4  2020-03-16 16:35:28.283038  \n",
       "5  2020-03-16 16:35:28.367357  \n",
       "6  2020-03-16 16:35:28.452244  \n",
       "7  2020-03-16 16:35:28.539107  \n",
       "8  2020-03-16 16:35:28.622435  "
      ]
     },
     "execution_count": 18,
     "metadata": {},
     "output_type": "execute_result"
    }
   ],
   "source": [
    "q = \\\n",
    "\"\"\"\n",
    "    select * from user\n",
    "\"\"\"\n",
    "\n",
    "# posted a user\n",
    "df = pd.read_sql_query(q, cnx)\n",
    "df"
   ]
  },
  {
   "cell_type": "code",
   "execution_count": 19,
   "metadata": {},
   "outputs": [
    {
     "data": {
      "text/plain": [
       "'eyJhbGciOiJIUzUxMiIsImlhdCI6MTU4NDM3NjUyOCwiZXhwIjoxNTg0Mzc3MTI4fQ.eyJpZCI6MX0.baJ3AVWUZ_UPUTyVleMx4VL9Qt8LnyLyRgZZk-smE7p46xz1vxMWQbO-gpGsIQ6hhGd7w7c9enkFlmym6-OgWA'"
      ]
     },
     "execution_count": 19,
     "metadata": {},
     "output_type": "execute_result"
    }
   ],
   "source": [
    "url = 'http://127.0.0.1:5000/api/token'\n",
    "r = requests.get(url, auth=('miguel', 'python'))\n",
    "tkn = json.loads(r.content)['token']\n",
    "tkn"
   ]
  },
  {
   "cell_type": "code",
   "execution_count": 20,
   "metadata": {},
   "outputs": [
    {
     "name": "stdout",
     "output_type": "stream",
     "text": [
      "adding Sunrisebanana, User, 8\n",
      "{'Added': 'User Sunrisebanana to lobby 1'}\n",
      "adding Ptolemy, User, 6\n",
      "{'Added': 'User Ptolemy to lobby 1'}\n",
      "adding Burnaby, User, 4\n",
      "{'Added': 'User Burnaby to lobby 1'}\n",
      "adding TPN, User, 1\n",
      "{'Added': 'User TPN to lobby 1'}\n",
      "adding Kevin, User, 2\n",
      "{'Added': 'User Kevin to lobby 1'}\n",
      "adding Vik, User, 5\n",
      "{'Added': 'User Vik to lobby 1'}\n",
      "adding AngryFalco, User, 3\n",
      "{'Added': 'User AngryFalco to lobby 1'}\n",
      "adding Spaceghost, User, 7\n",
      "{'Added': 'User Spaceghost to lobby 1'}\n",
      "adding miguel, User, 9\n",
      "{'Added': 'User miguel to lobby 1'}\n"
     ]
    }
   ],
   "source": [
    "users = df.username.values\n",
    "np.random.shuffle(users)\n",
    "import random\n",
    "\n",
    "# miguel adds users to his lobby\n",
    "\n",
    "url = 'http://127.0.0.1:5000/api/lobby/1/add-user/'\n",
    "headers = {'content-type': 'application/json', 'Accept-Charset': 'UTF-8'}\n",
    "\n",
    "seeds = random.sample(range(1, len(users)+1), len(users)) \n",
    "roles = [\"User\" for u in users]\n",
    "for u, s, r in zip(users, roles, seeds):\n",
    "    print(f'adding {u}, {s}, {r}')\n",
    "    payload = json.dumps({\n",
    "        \"username\" : u,\n",
    "        \"role\" : s,\n",
    "        \"seed\" : r\n",
    "    })\n",
    "    r = requests.post(url, data=payload, headers=headers, auth=(tkn, 'unused'))\n",
    "    print(json.loads(r.content))\n",
    "    "
   ]
  },
  {
   "cell_type": "code",
   "execution_count": 21,
   "metadata": {},
   "outputs": [
    {
     "data": {
      "text/plain": [
       "{'id': 1, 'tournament_name': \"miguel's tourneys\"}"
      ]
     },
     "execution_count": 21,
     "metadata": {},
     "output_type": "execute_result"
    }
   ],
   "source": [
    "url = 'http://127.0.0.1:5000/api/lobby/1'\n",
    "headers = {'content-type': 'application/json', 'Accept-Charset': 'UTF-8'}\n",
    "# payload = json.dumps({\n",
    "#     \"username\" : \"AngryFalco\",\n",
    "#     \"role\" : \"User\"\n",
    "# })\n",
    "r = requests.get(url, headers=headers,)\n",
    "json.loads(r.content)"
   ]
  },
  {
   "cell_type": "code",
   "execution_count": 22,
   "metadata": {},
   "outputs": [
    {
     "name": "stdout",
     "output_type": "stream",
     "text": [
      "{'Added': 'Guest guestb to lobby 1'}\n"
     ]
    }
   ],
   "source": [
    "# miguel adds a guest user\n",
    "\n",
    "url = 'http://127.0.0.1:5000/api/lobby/1/add-user/'\n",
    "headers = {'content-type': 'application/json', 'Accept-Charset': 'UTF-8'}\n",
    "\n",
    "payload = json.dumps({\n",
    "    \"username\" : \"guestb\",\n",
    "    \"role\" : \"Guest\",\n",
    "    \"seed\" : 10\n",
    "})\n",
    "r = requests.post(url, data=payload, headers=headers, auth=(tkn, 'unused'))\n",
    "print(json.loads(r.content))"
   ]
  },
  {
   "cell_type": "code",
   "execution_count": 23,
   "metadata": {},
   "outputs": [
    {
     "name": "stdout",
     "output_type": "stream",
     "text": [
      "{'Unauthorized': 'TPN cannot add entrants to this lobby'}\n"
     ]
    },
    {
     "data": {
      "text/plain": [
       "True"
      ]
     },
     "execution_count": 23,
     "metadata": {},
     "output_type": "execute_result"
    }
   ],
   "source": [
    "# log miguel out\n",
    "url = 'http://127.0.0.1:5000/api/lobby/1/add-user/'\n",
    "headers = {'content-type': 'application/json', 'Accept-Charset': 'UTF-8'}\n",
    "\n",
    "# TPN tries to add his own guests to miguel's lobby\n",
    "url = 'http://127.0.0.1:5000/api/lobby/1/add-user/'\n",
    "headers = {'content-type': 'application/json', 'Accept-Charset': 'UTF-8'}\n",
    "\n",
    "payload = json.dumps({\n",
    "    \"username\" : \"guestx\",\n",
    "    \"role\" : \"Guest\",\n",
    "    \"seed\" : 1\n",
    "})\n",
    "r = requests.post(url, data=payload, headers=headers, auth=('TPN', 'tpn'))\n",
    "print(json.loads(r.content))\n",
    "\n",
    "UserModel \\\n",
    "    .query \\\n",
    "    .filter_by(username='guesta', role='Guest') \\\n",
    "    .first() is None"
   ]
  },
  {
   "cell_type": "code",
   "execution_count": 24,
   "metadata": {},
   "outputs": [
    {
     "data": {
      "text/plain": [
       "[{'user': 4, 'lobby': 1, 'id': 1, 'seed': 8},\n",
       " {'user': 5, 'lobby': 1, 'id': 2, 'seed': 6},\n",
       " {'user': 9, 'lobby': 1, 'id': 3, 'seed': 4},\n",
       " {'user': 2, 'lobby': 1, 'id': 4, 'seed': 1},\n",
       " {'user': 7, 'lobby': 1, 'id': 5, 'seed': 2},\n",
       " {'user': 6, 'lobby': 1, 'id': 6, 'seed': 5},\n",
       " {'user': 3, 'lobby': 1, 'id': 7, 'seed': 3},\n",
       " {'user': 8, 'lobby': 1, 'id': 8, 'seed': 7},\n",
       " {'user': 1, 'lobby': 1, 'id': 9, 'seed': 9},\n",
       " {'user': 10, 'lobby': 1, 'id': 10, 'seed': 10}]"
      ]
     },
     "execution_count": 24,
     "metadata": {},
     "output_type": "execute_result"
    }
   ],
   "source": [
    "url = 'http://127.0.0.1:5000/api/lobby/1/entrants'\n",
    "headers = {'content-type': 'application/json', 'Accept-Charset': 'UTF-8'}\n",
    "# payload = json.dumps({\n",
    "#     \"username\" : \"AngryFalco\",\n",
    "#     \"role\" : \"User\"\n",
    "# })\n",
    "r = requests.get(url, headers=headers,)\n",
    "content =  json.loads(r.content)\n",
    "content"
   ]
  },
  {
   "cell_type": "code",
   "execution_count": 25,
   "metadata": {},
   "outputs": [
    {
     "data": {
      "text/html": [
       "<div>\n",
       "<style scoped>\n",
       "    .dataframe tbody tr th:only-of-type {\n",
       "        vertical-align: middle;\n",
       "    }\n",
       "\n",
       "    .dataframe tbody tr th {\n",
       "        vertical-align: top;\n",
       "    }\n",
       "\n",
       "    .dataframe thead th {\n",
       "        text-align: right;\n",
       "    }\n",
       "</style>\n",
       "<table border=\"1\" class=\"dataframe\">\n",
       "  <thead>\n",
       "    <tr style=\"text-align: right;\">\n",
       "      <th></th>\n",
       "      <th>id</th>\n",
       "      <th>tournament_name</th>\n",
       "      <th>tournament_id</th>\n",
       "      <th>to_id</th>\n",
       "    </tr>\n",
       "  </thead>\n",
       "  <tbody>\n",
       "    <tr>\n",
       "      <th>0</th>\n",
       "      <td>1</td>\n",
       "      <td>miguel's tourneys</td>\n",
       "      <td>None</td>\n",
       "      <td>1</td>\n",
       "    </tr>\n",
       "  </tbody>\n",
       "</table>\n",
       "</div>"
      ],
      "text/plain": [
       "   id    tournament_name tournament_id  to_id\n",
       "0   1  miguel's tourneys          None      1"
      ]
     },
     "execution_count": 25,
     "metadata": {},
     "output_type": "execute_result"
    }
   ],
   "source": [
    "pd.read_sql_query(f'select * from lobby', cnx)"
   ]
  },
  {
   "cell_type": "code",
   "execution_count": 26,
   "metadata": {},
   "outputs": [
    {
     "data": {
      "text/html": [
       "<div>\n",
       "<style scoped>\n",
       "    .dataframe tbody tr th:only-of-type {\n",
       "        vertical-align: middle;\n",
       "    }\n",
       "\n",
       "    .dataframe tbody tr th {\n",
       "        vertical-align: top;\n",
       "    }\n",
       "\n",
       "    .dataframe thead th {\n",
       "        text-align: right;\n",
       "    }\n",
       "</style>\n",
       "<table border=\"1\" class=\"dataframe\">\n",
       "  <thead>\n",
       "    <tr style=\"text-align: right;\">\n",
       "      <th></th>\n",
       "      <th>id</th>\n",
       "      <th>user_id</th>\n",
       "      <th>lobby_id</th>\n",
       "      <th>seed</th>\n",
       "    </tr>\n",
       "  </thead>\n",
       "  <tbody>\n",
       "    <tr>\n",
       "      <th>0</th>\n",
       "      <td>1</td>\n",
       "      <td>4</td>\n",
       "      <td>1</td>\n",
       "      <td>8</td>\n",
       "    </tr>\n",
       "    <tr>\n",
       "      <th>1</th>\n",
       "      <td>2</td>\n",
       "      <td>5</td>\n",
       "      <td>1</td>\n",
       "      <td>6</td>\n",
       "    </tr>\n",
       "    <tr>\n",
       "      <th>2</th>\n",
       "      <td>3</td>\n",
       "      <td>9</td>\n",
       "      <td>1</td>\n",
       "      <td>4</td>\n",
       "    </tr>\n",
       "    <tr>\n",
       "      <th>3</th>\n",
       "      <td>4</td>\n",
       "      <td>2</td>\n",
       "      <td>1</td>\n",
       "      <td>1</td>\n",
       "    </tr>\n",
       "    <tr>\n",
       "      <th>4</th>\n",
       "      <td>5</td>\n",
       "      <td>7</td>\n",
       "      <td>1</td>\n",
       "      <td>2</td>\n",
       "    </tr>\n",
       "    <tr>\n",
       "      <th>5</th>\n",
       "      <td>6</td>\n",
       "      <td>6</td>\n",
       "      <td>1</td>\n",
       "      <td>5</td>\n",
       "    </tr>\n",
       "    <tr>\n",
       "      <th>6</th>\n",
       "      <td>7</td>\n",
       "      <td>3</td>\n",
       "      <td>1</td>\n",
       "      <td>3</td>\n",
       "    </tr>\n",
       "    <tr>\n",
       "      <th>7</th>\n",
       "      <td>8</td>\n",
       "      <td>8</td>\n",
       "      <td>1</td>\n",
       "      <td>7</td>\n",
       "    </tr>\n",
       "    <tr>\n",
       "      <th>8</th>\n",
       "      <td>9</td>\n",
       "      <td>1</td>\n",
       "      <td>1</td>\n",
       "      <td>9</td>\n",
       "    </tr>\n",
       "    <tr>\n",
       "      <th>9</th>\n",
       "      <td>10</td>\n",
       "      <td>10</td>\n",
       "      <td>1</td>\n",
       "      <td>10</td>\n",
       "    </tr>\n",
       "  </tbody>\n",
       "</table>\n",
       "</div>"
      ],
      "text/plain": [
       "   id  user_id  lobby_id  seed\n",
       "0   1        4         1     8\n",
       "1   2        5         1     6\n",
       "2   3        9         1     4\n",
       "3   4        2         1     1\n",
       "4   5        7         1     2\n",
       "5   6        6         1     5\n",
       "6   7        3         1     3\n",
       "7   8        8         1     7\n",
       "8   9        1         1     9\n",
       "9  10       10         1    10"
      ]
     },
     "execution_count": 26,
     "metadata": {},
     "output_type": "execute_result"
    }
   ],
   "source": [
    "pd.read_sql_query(f'select * from lobby_seeds', cnx)"
   ]
  },
  {
   "cell_type": "code",
   "execution_count": 27,
   "metadata": {},
   "outputs": [
    {
     "data": {
      "text/plain": [
       "<Response [200]>"
      ]
     },
     "execution_count": 27,
     "metadata": {},
     "output_type": "execute_result"
    }
   ],
   "source": [
    "url = 'http://127.0.0.1:5000/api/lobby/1/create-tournament/'\n",
    "headers = {'content-type': 'application/json', 'Accept-Charset': 'UTF-8'}\n",
    "payload = json.dumps({})\n",
    "r = requests.post(url, payload, headers=headers, auth=(tkn, 'unused'))\n",
    "# r = requests.post(url, payload, headers=headers, auth=('TPN', 'tpn'))\n",
    "r\n",
    "\n"
   ]
  },
  {
   "cell_type": "code",
   "execution_count": 28,
   "metadata": {},
   "outputs": [
    {
     "data": {
      "text/plain": [
       "b'{\"Success\":\"Created tournament 1\"}\\n'"
      ]
     },
     "execution_count": 28,
     "metadata": {},
     "output_type": "execute_result"
    }
   ],
   "source": [
    "r.content"
   ]
  },
  {
   "cell_type": "code",
   "execution_count": 29,
   "metadata": {},
   "outputs": [
    {
     "data": {
      "text/plain": [
       "{'Success': 'Created tournament 1'}"
      ]
     },
     "execution_count": 29,
     "metadata": {},
     "output_type": "execute_result"
    }
   ],
   "source": [
    "json.loads(r.content)"
   ]
  },
  {
   "cell_type": "code",
   "execution_count": 30,
   "metadata": {},
   "outputs": [
    {
     "name": "stdout",
     "output_type": "stream",
     "text": [
      "####################################################################\n",
      "\n",
      "Users' table\n"
     ]
    },
    {
     "data": {
      "text/html": [
       "<div>\n",
       "<style scoped>\n",
       "    .dataframe tbody tr th:only-of-type {\n",
       "        vertical-align: middle;\n",
       "    }\n",
       "\n",
       "    .dataframe tbody tr th {\n",
       "        vertical-align: top;\n",
       "    }\n",
       "\n",
       "    .dataframe thead th {\n",
       "        text-align: right;\n",
       "    }\n",
       "</style>\n",
       "<table border=\"1\" class=\"dataframe\">\n",
       "  <thead>\n",
       "    <tr style=\"text-align: right;\">\n",
       "      <th></th>\n",
       "      <th>id</th>\n",
       "      <th>n_entrants</th>\n",
       "      <th>name</th>\n",
       "      <th>organizer_id</th>\n",
       "      <th>finished</th>\n",
       "    </tr>\n",
       "  </thead>\n",
       "  <tbody>\n",
       "    <tr>\n",
       "      <th>0</th>\n",
       "      <td>1</td>\n",
       "      <td>10</td>\n",
       "      <td>miguel's tourneys</td>\n",
       "      <td>1</td>\n",
       "      <td>0</td>\n",
       "    </tr>\n",
       "  </tbody>\n",
       "</table>\n",
       "</div>"
      ],
      "text/plain": [
       "   id  n_entrants               name  organizer_id  finished\n",
       "0   1          10  miguel's tourneys             1         0"
      ]
     },
     "execution_count": 30,
     "metadata": {},
     "output_type": "execute_result"
    }
   ],
   "source": [
    "# create the dataframe from a query\n",
    "\n",
    "print('#'*68)\n",
    "print()\n",
    "\n",
    "print('Users\\' table')\n",
    "df = pd.read_sql_query(q, cnx)\n",
    "# df\n",
    "\n",
    "['tournament', 'bracket', 'bracket_entrants', 'round', 'match', 'lobby', \n",
    "'lobby_seeds']\n",
    "    \n",
    "pd.read_sql_query(f'select * from tournament', cnx)"
   ]
  },
  {
   "cell_type": "code",
   "execution_count": 31,
   "metadata": {},
   "outputs": [
    {
     "data": {
      "text/html": [
       "<div>\n",
       "<style scoped>\n",
       "    .dataframe tbody tr th:only-of-type {\n",
       "        vertical-align: middle;\n",
       "    }\n",
       "\n",
       "    .dataframe tbody tr th {\n",
       "        vertical-align: top;\n",
       "    }\n",
       "\n",
       "    .dataframe thead th {\n",
       "        text-align: right;\n",
       "    }\n",
       "</style>\n",
       "<table border=\"1\" class=\"dataframe\">\n",
       "  <thead>\n",
       "    <tr style=\"text-align: right;\">\n",
       "      <th></th>\n",
       "      <th>id</th>\n",
       "      <th>bracket_type</th>\n",
       "      <th>tournament_id</th>\n",
       "    </tr>\n",
       "  </thead>\n",
       "  <tbody>\n",
       "    <tr>\n",
       "      <th>0</th>\n",
       "      <td>1</td>\n",
       "      <td>DOUBLE_ELIMINATION</td>\n",
       "      <td>1</td>\n",
       "    </tr>\n",
       "  </tbody>\n",
       "</table>\n",
       "</div>"
      ],
      "text/plain": [
       "   id        bracket_type  tournament_id\n",
       "0   1  DOUBLE_ELIMINATION              1"
      ]
     },
     "execution_count": 31,
     "metadata": {},
     "output_type": "execute_result"
    }
   ],
   "source": [
    "pd.read_sql_query(f'select * from bracket', cnx)"
   ]
  },
  {
   "cell_type": "code",
   "execution_count": 32,
   "metadata": {},
   "outputs": [
    {
     "data": {
      "text/html": [
       "<div>\n",
       "<style scoped>\n",
       "    .dataframe tbody tr th:only-of-type {\n",
       "        vertical-align: middle;\n",
       "    }\n",
       "\n",
       "    .dataframe tbody tr th {\n",
       "        vertical-align: top;\n",
       "    }\n",
       "\n",
       "    .dataframe thead th {\n",
       "        text-align: right;\n",
       "    }\n",
       "</style>\n",
       "<table border=\"1\" class=\"dataframe\">\n",
       "  <thead>\n",
       "    <tr style=\"text-align: right;\">\n",
       "      <th></th>\n",
       "      <th>user_id</th>\n",
       "      <th>bracket_id</th>\n",
       "    </tr>\n",
       "  </thead>\n",
       "  <tbody>\n",
       "    <tr>\n",
       "      <th>0</th>\n",
       "      <td>2</td>\n",
       "      <td>1</td>\n",
       "    </tr>\n",
       "    <tr>\n",
       "      <th>1</th>\n",
       "      <td>7</td>\n",
       "      <td>1</td>\n",
       "    </tr>\n",
       "    <tr>\n",
       "      <th>2</th>\n",
       "      <td>3</td>\n",
       "      <td>1</td>\n",
       "    </tr>\n",
       "    <tr>\n",
       "      <th>3</th>\n",
       "      <td>9</td>\n",
       "      <td>1</td>\n",
       "    </tr>\n",
       "    <tr>\n",
       "      <th>4</th>\n",
       "      <td>6</td>\n",
       "      <td>1</td>\n",
       "    </tr>\n",
       "    <tr>\n",
       "      <th>5</th>\n",
       "      <td>5</td>\n",
       "      <td>1</td>\n",
       "    </tr>\n",
       "    <tr>\n",
       "      <th>6</th>\n",
       "      <td>8</td>\n",
       "      <td>1</td>\n",
       "    </tr>\n",
       "    <tr>\n",
       "      <th>7</th>\n",
       "      <td>4</td>\n",
       "      <td>1</td>\n",
       "    </tr>\n",
       "    <tr>\n",
       "      <th>8</th>\n",
       "      <td>1</td>\n",
       "      <td>1</td>\n",
       "    </tr>\n",
       "    <tr>\n",
       "      <th>9</th>\n",
       "      <td>10</td>\n",
       "      <td>1</td>\n",
       "    </tr>\n",
       "  </tbody>\n",
       "</table>\n",
       "</div>"
      ],
      "text/plain": [
       "   user_id  bracket_id\n",
       "0        2           1\n",
       "1        7           1\n",
       "2        3           1\n",
       "3        9           1\n",
       "4        6           1\n",
       "5        5           1\n",
       "6        8           1\n",
       "7        4           1\n",
       "8        1           1\n",
       "9       10           1"
      ]
     },
     "execution_count": 32,
     "metadata": {},
     "output_type": "execute_result"
    }
   ],
   "source": [
    "pd.read_sql_query(f'select * from bracket_entrants', cnx)"
   ]
  },
  {
   "cell_type": "code",
   "execution_count": 33,
   "metadata": {},
   "outputs": [
    {
     "data": {
      "text/html": [
       "<div>\n",
       "<style scoped>\n",
       "    .dataframe tbody tr th:only-of-type {\n",
       "        vertical-align: middle;\n",
       "    }\n",
       "\n",
       "    .dataframe tbody tr th {\n",
       "        vertical-align: top;\n",
       "    }\n",
       "\n",
       "    .dataframe thead th {\n",
       "        text-align: right;\n",
       "    }\n",
       "</style>\n",
       "<table border=\"1\" class=\"dataframe\">\n",
       "  <thead>\n",
       "    <tr style=\"text-align: right;\">\n",
       "      <th></th>\n",
       "      <th>id</th>\n",
       "      <th>number</th>\n",
       "      <th>winners</th>\n",
       "      <th>bracket_id</th>\n",
       "    </tr>\n",
       "  </thead>\n",
       "  <tbody>\n",
       "    <tr>\n",
       "      <th>0</th>\n",
       "      <td>1</td>\n",
       "      <td>1</td>\n",
       "      <td>1</td>\n",
       "      <td>1</td>\n",
       "    </tr>\n",
       "    <tr>\n",
       "      <th>1</th>\n",
       "      <td>2</td>\n",
       "      <td>2</td>\n",
       "      <td>1</td>\n",
       "      <td>1</td>\n",
       "    </tr>\n",
       "    <tr>\n",
       "      <th>2</th>\n",
       "      <td>3</td>\n",
       "      <td>3</td>\n",
       "      <td>1</td>\n",
       "      <td>1</td>\n",
       "    </tr>\n",
       "    <tr>\n",
       "      <th>3</th>\n",
       "      <td>4</td>\n",
       "      <td>4</td>\n",
       "      <td>1</td>\n",
       "      <td>1</td>\n",
       "    </tr>\n",
       "    <tr>\n",
       "      <th>4</th>\n",
       "      <td>5</td>\n",
       "      <td>5</td>\n",
       "      <td>1</td>\n",
       "      <td>1</td>\n",
       "    </tr>\n",
       "    <tr>\n",
       "      <th>5</th>\n",
       "      <td>6</td>\n",
       "      <td>1</td>\n",
       "      <td>0</td>\n",
       "      <td>1</td>\n",
       "    </tr>\n",
       "    <tr>\n",
       "      <th>6</th>\n",
       "      <td>7</td>\n",
       "      <td>2</td>\n",
       "      <td>0</td>\n",
       "      <td>1</td>\n",
       "    </tr>\n",
       "    <tr>\n",
       "      <th>7</th>\n",
       "      <td>8</td>\n",
       "      <td>3</td>\n",
       "      <td>0</td>\n",
       "      <td>1</td>\n",
       "    </tr>\n",
       "    <tr>\n",
       "      <th>8</th>\n",
       "      <td>9</td>\n",
       "      <td>4</td>\n",
       "      <td>0</td>\n",
       "      <td>1</td>\n",
       "    </tr>\n",
       "  </tbody>\n",
       "</table>\n",
       "</div>"
      ],
      "text/plain": [
       "   id  number  winners  bracket_id\n",
       "0   1       1        1           1\n",
       "1   2       2        1           1\n",
       "2   3       3        1           1\n",
       "3   4       4        1           1\n",
       "4   5       5        1           1\n",
       "5   6       1        0           1\n",
       "6   7       2        0           1\n",
       "7   8       3        0           1\n",
       "8   9       4        0           1"
      ]
     },
     "execution_count": 33,
     "metadata": {},
     "output_type": "execute_result"
    }
   ],
   "source": [
    "pd.read_sql_query(f'select * from round', cnx)"
   ]
  },
  {
   "cell_type": "code",
   "execution_count": 75,
   "metadata": {},
   "outputs": [
    {
     "data": {
      "text/html": [
       "<div>\n",
       "<style scoped>\n",
       "    .dataframe tbody tr th:only-of-type {\n",
       "        vertical-align: middle;\n",
       "    }\n",
       "\n",
       "    .dataframe tbody tr th {\n",
       "        vertical-align: top;\n",
       "    }\n",
       "\n",
       "    .dataframe thead th {\n",
       "        text-align: right;\n",
       "    }\n",
       "</style>\n",
       "<table border=\"1\" class=\"dataframe\">\n",
       "  <thead>\n",
       "    <tr style=\"text-align: right;\">\n",
       "      <th></th>\n",
       "      <th>id</th>\n",
       "      <th>uuid</th>\n",
       "      <th>user_1</th>\n",
       "      <th>user_1_score</th>\n",
       "      <th>user_2</th>\n",
       "      <th>user_2_score</th>\n",
       "      <th>winner</th>\n",
       "      <th>round_id</th>\n",
       "      <th>winner_advance_to</th>\n",
       "      <th>loser_advance_to</th>\n",
       "    </tr>\n",
       "  </thead>\n",
       "  <tbody>\n",
       "    <tr>\n",
       "      <th>0</th>\n",
       "      <td>1</td>\n",
       "      <td>8440b873-52c7-423d-a5e9-b755a77f77d7</td>\n",
       "      <td>2.0</td>\n",
       "      <td>2.0</td>\n",
       "      <td>4.0</td>\n",
       "      <td>0.0</td>\n",
       "      <td>2.0</td>\n",
       "      <td>1</td>\n",
       "      <td>5.0</td>\n",
       "      <td>10.0</td>\n",
       "    </tr>\n",
       "    <tr>\n",
       "      <th>1</th>\n",
       "      <td>2</td>\n",
       "      <td>62ddd66b-60d9-4d0a-9b34-e56a7a54c323</td>\n",
       "      <td>7.0</td>\n",
       "      <td>2.0</td>\n",
       "      <td>8.0</td>\n",
       "      <td>0.0</td>\n",
       "      <td>7.0</td>\n",
       "      <td>1</td>\n",
       "      <td>5.0</td>\n",
       "      <td>10.0</td>\n",
       "    </tr>\n",
       "    <tr>\n",
       "      <th>2</th>\n",
       "      <td>3</td>\n",
       "      <td>f8a7ebca-e76e-4275-bec3-24d4af40cc1c</td>\n",
       "      <td>3.0</td>\n",
       "      <td>2.0</td>\n",
       "      <td>5.0</td>\n",
       "      <td>0.0</td>\n",
       "      <td>3.0</td>\n",
       "      <td>1</td>\n",
       "      <td>6.0</td>\n",
       "      <td>11.0</td>\n",
       "    </tr>\n",
       "    <tr>\n",
       "      <th>3</th>\n",
       "      <td>4</td>\n",
       "      <td>0ab27369-1f9f-4134-ad5a-2ea971698a53</td>\n",
       "      <td>9.0</td>\n",
       "      <td>2.0</td>\n",
       "      <td>6.0</td>\n",
       "      <td>0.0</td>\n",
       "      <td>9.0</td>\n",
       "      <td>1</td>\n",
       "      <td>6.0</td>\n",
       "      <td>11.0</td>\n",
       "    </tr>\n",
       "    <tr>\n",
       "      <th>4</th>\n",
       "      <td>5</td>\n",
       "      <td>7fd8551b-f72a-4dc3-a84e-873f8ee7952e</td>\n",
       "      <td>2.0</td>\n",
       "      <td>2.0</td>\n",
       "      <td>7.0</td>\n",
       "      <td>0.0</td>\n",
       "      <td>NaN</td>\n",
       "      <td>2</td>\n",
       "      <td>7.0</td>\n",
       "      <td>12.0</td>\n",
       "    </tr>\n",
       "    <tr>\n",
       "      <th>5</th>\n",
       "      <td>6</td>\n",
       "      <td>2956fe58-297c-480f-97bf-2be497cb2c6b</td>\n",
       "      <td>3.0</td>\n",
       "      <td>2.0</td>\n",
       "      <td>9.0</td>\n",
       "      <td>0.0</td>\n",
       "      <td>NaN</td>\n",
       "      <td>2</td>\n",
       "      <td>7.0</td>\n",
       "      <td>13.0</td>\n",
       "    </tr>\n",
       "    <tr>\n",
       "      <th>6</th>\n",
       "      <td>7</td>\n",
       "      <td>928f7951-0777-469e-ba54-50e3b24a1fcd</td>\n",
       "      <td>NaN</td>\n",
       "      <td>NaN</td>\n",
       "      <td>NaN</td>\n",
       "      <td>NaN</td>\n",
       "      <td>NaN</td>\n",
       "      <td>3</td>\n",
       "      <td>8.0</td>\n",
       "      <td>15.0</td>\n",
       "    </tr>\n",
       "    <tr>\n",
       "      <th>7</th>\n",
       "      <td>8</td>\n",
       "      <td>146a8aa1-cdfb-4b58-bbe3-85277b13f55e</td>\n",
       "      <td>NaN</td>\n",
       "      <td>NaN</td>\n",
       "      <td>NaN</td>\n",
       "      <td>NaN</td>\n",
       "      <td>NaN</td>\n",
       "      <td>4</td>\n",
       "      <td>9.0</td>\n",
       "      <td>9.0</td>\n",
       "    </tr>\n",
       "    <tr>\n",
       "      <th>8</th>\n",
       "      <td>9</td>\n",
       "      <td>7751782e-4c38-4263-a503-0fa2473269cb</td>\n",
       "      <td>NaN</td>\n",
       "      <td>NaN</td>\n",
       "      <td>NaN</td>\n",
       "      <td>NaN</td>\n",
       "      <td>NaN</td>\n",
       "      <td>5</td>\n",
       "      <td>NaN</td>\n",
       "      <td>NaN</td>\n",
       "    </tr>\n",
       "    <tr>\n",
       "      <th>9</th>\n",
       "      <td>10</td>\n",
       "      <td>1bdedede-02c1-4c51-ae29-42a5e4329092</td>\n",
       "      <td>4.0</td>\n",
       "      <td>2.0</td>\n",
       "      <td>8.0</td>\n",
       "      <td>0.0</td>\n",
       "      <td>NaN</td>\n",
       "      <td>6</td>\n",
       "      <td>12.0</td>\n",
       "      <td>NaN</td>\n",
       "    </tr>\n",
       "    <tr>\n",
       "      <th>10</th>\n",
       "      <td>11</td>\n",
       "      <td>60d47576-713d-4302-aff6-499d35236785</td>\n",
       "      <td>5.0</td>\n",
       "      <td>2.0</td>\n",
       "      <td>6.0</td>\n",
       "      <td>0.0</td>\n",
       "      <td>NaN</td>\n",
       "      <td>6</td>\n",
       "      <td>13.0</td>\n",
       "      <td>NaN</td>\n",
       "    </tr>\n",
       "    <tr>\n",
       "      <th>11</th>\n",
       "      <td>12</td>\n",
       "      <td>8162a4a2-1d24-4c9e-9a41-b0dbc22e5660</td>\n",
       "      <td>NaN</td>\n",
       "      <td>NaN</td>\n",
       "      <td>NaN</td>\n",
       "      <td>NaN</td>\n",
       "      <td>NaN</td>\n",
       "      <td>7</td>\n",
       "      <td>14.0</td>\n",
       "      <td>NaN</td>\n",
       "    </tr>\n",
       "    <tr>\n",
       "      <th>12</th>\n",
       "      <td>13</td>\n",
       "      <td>54078746-e35f-4393-8020-89d68dae65fc</td>\n",
       "      <td>NaN</td>\n",
       "      <td>NaN</td>\n",
       "      <td>NaN</td>\n",
       "      <td>NaN</td>\n",
       "      <td>NaN</td>\n",
       "      <td>7</td>\n",
       "      <td>14.0</td>\n",
       "      <td>NaN</td>\n",
       "    </tr>\n",
       "    <tr>\n",
       "      <th>13</th>\n",
       "      <td>14</td>\n",
       "      <td>8027c38e-1d9c-4aac-a864-2684b4070b0e</td>\n",
       "      <td>NaN</td>\n",
       "      <td>NaN</td>\n",
       "      <td>NaN</td>\n",
       "      <td>NaN</td>\n",
       "      <td>NaN</td>\n",
       "      <td>8</td>\n",
       "      <td>15.0</td>\n",
       "      <td>NaN</td>\n",
       "    </tr>\n",
       "    <tr>\n",
       "      <th>14</th>\n",
       "      <td>15</td>\n",
       "      <td>3cc190fd-dcb6-4982-a879-5bcb54ce6b72</td>\n",
       "      <td>NaN</td>\n",
       "      <td>NaN</td>\n",
       "      <td>NaN</td>\n",
       "      <td>NaN</td>\n",
       "      <td>NaN</td>\n",
       "      <td>9</td>\n",
       "      <td>8.0</td>\n",
       "      <td>NaN</td>\n",
       "    </tr>\n",
       "  </tbody>\n",
       "</table>\n",
       "</div>"
      ],
      "text/plain": [
       "    id                                  uuid  user_1  user_1_score  user_2  \\\n",
       "0    1  8440b873-52c7-423d-a5e9-b755a77f77d7     2.0           2.0     4.0   \n",
       "1    2  62ddd66b-60d9-4d0a-9b34-e56a7a54c323     7.0           2.0     8.0   \n",
       "2    3  f8a7ebca-e76e-4275-bec3-24d4af40cc1c     3.0           2.0     5.0   \n",
       "3    4  0ab27369-1f9f-4134-ad5a-2ea971698a53     9.0           2.0     6.0   \n",
       "4    5  7fd8551b-f72a-4dc3-a84e-873f8ee7952e     2.0           2.0     7.0   \n",
       "5    6  2956fe58-297c-480f-97bf-2be497cb2c6b     3.0           2.0     9.0   \n",
       "6    7  928f7951-0777-469e-ba54-50e3b24a1fcd     NaN           NaN     NaN   \n",
       "7    8  146a8aa1-cdfb-4b58-bbe3-85277b13f55e     NaN           NaN     NaN   \n",
       "8    9  7751782e-4c38-4263-a503-0fa2473269cb     NaN           NaN     NaN   \n",
       "9   10  1bdedede-02c1-4c51-ae29-42a5e4329092     4.0           2.0     8.0   \n",
       "10  11  60d47576-713d-4302-aff6-499d35236785     5.0           2.0     6.0   \n",
       "11  12  8162a4a2-1d24-4c9e-9a41-b0dbc22e5660     NaN           NaN     NaN   \n",
       "12  13  54078746-e35f-4393-8020-89d68dae65fc     NaN           NaN     NaN   \n",
       "13  14  8027c38e-1d9c-4aac-a864-2684b4070b0e     NaN           NaN     NaN   \n",
       "14  15  3cc190fd-dcb6-4982-a879-5bcb54ce6b72     NaN           NaN     NaN   \n",
       "\n",
       "    user_2_score  winner  round_id  winner_advance_to  loser_advance_to  \n",
       "0            0.0     2.0         1                5.0              10.0  \n",
       "1            0.0     7.0         1                5.0              10.0  \n",
       "2            0.0     3.0         1                6.0              11.0  \n",
       "3            0.0     9.0         1                6.0              11.0  \n",
       "4            0.0     NaN         2                7.0              12.0  \n",
       "5            0.0     NaN         2                7.0              13.0  \n",
       "6            NaN     NaN         3                8.0              15.0  \n",
       "7            NaN     NaN         4                9.0               9.0  \n",
       "8            NaN     NaN         5                NaN               NaN  \n",
       "9            0.0     NaN         6               12.0               NaN  \n",
       "10           0.0     NaN         6               13.0               NaN  \n",
       "11           NaN     NaN         7               14.0               NaN  \n",
       "12           NaN     NaN         7               14.0               NaN  \n",
       "13           NaN     NaN         8               15.0               NaN  \n",
       "14           NaN     NaN         9                8.0               NaN  "
      ]
     },
     "execution_count": 75,
     "metadata": {},
     "output_type": "execute_result"
    }
   ],
   "source": [
    "pd.read_sql_query(f'select * from match', cnx)"
   ]
  },
  {
   "cell_type": "code",
   "execution_count": 35,
   "metadata": {},
   "outputs": [
    {
     "data": {
      "text/html": [
       "<div>\n",
       "<style scoped>\n",
       "    .dataframe tbody tr th:only-of-type {\n",
       "        vertical-align: middle;\n",
       "    }\n",
       "\n",
       "    .dataframe tbody tr th {\n",
       "        vertical-align: top;\n",
       "    }\n",
       "\n",
       "    .dataframe thead th {\n",
       "        text-align: right;\n",
       "    }\n",
       "</style>\n",
       "<table border=\"1\" class=\"dataframe\">\n",
       "  <thead>\n",
       "    <tr style=\"text-align: right;\">\n",
       "      <th></th>\n",
       "      <th>id</th>\n",
       "      <th>tournament_name</th>\n",
       "      <th>tournament_id</th>\n",
       "      <th>to_id</th>\n",
       "    </tr>\n",
       "  </thead>\n",
       "  <tbody>\n",
       "  </tbody>\n",
       "</table>\n",
       "</div>"
      ],
      "text/plain": [
       "Empty DataFrame\n",
       "Columns: [id, tournament_name, tournament_id, to_id]\n",
       "Index: []"
      ]
     },
     "execution_count": 35,
     "metadata": {},
     "output_type": "execute_result"
    }
   ],
   "source": [
    "pd.read_sql_query(f'select * from lobby', cnx)"
   ]
  },
  {
   "cell_type": "code",
   "execution_count": 36,
   "metadata": {},
   "outputs": [
    {
     "data": {
      "text/html": [
       "<div>\n",
       "<style scoped>\n",
       "    .dataframe tbody tr th:only-of-type {\n",
       "        vertical-align: middle;\n",
       "    }\n",
       "\n",
       "    .dataframe tbody tr th {\n",
       "        vertical-align: top;\n",
       "    }\n",
       "\n",
       "    .dataframe thead th {\n",
       "        text-align: right;\n",
       "    }\n",
       "</style>\n",
       "<table border=\"1\" class=\"dataframe\">\n",
       "  <thead>\n",
       "    <tr style=\"text-align: right;\">\n",
       "      <th></th>\n",
       "      <th>id</th>\n",
       "      <th>user_id</th>\n",
       "      <th>lobby_id</th>\n",
       "      <th>seed</th>\n",
       "    </tr>\n",
       "  </thead>\n",
       "  <tbody>\n",
       "  </tbody>\n",
       "</table>\n",
       "</div>"
      ],
      "text/plain": [
       "Empty DataFrame\n",
       "Columns: [id, user_id, lobby_id, seed]\n",
       "Index: []"
      ]
     },
     "execution_count": 36,
     "metadata": {},
     "output_type": "execute_result"
    }
   ],
   "source": [
    "pd.read_sql_query(f'select * from lobby_seeds', cnx)"
   ]
  },
  {
   "cell_type": "code",
   "execution_count": 37,
   "metadata": {},
   "outputs": [],
   "source": [
    "URL_PREFIX = 'http://127.0.0.1:5000/'"
   ]
  },
  {
   "cell_type": "code",
   "execution_count": 76,
   "metadata": {},
   "outputs": [],
   "source": [
    "def handle_progression(tournament, tkn):\n",
    "    \"\"\"Mimic Progression Handling of a Tournament\n",
    "    \n",
    "    Arguments:\n",
    "        tournament {TournamentMode} -- a sqlAlchemy db model represnting\n",
    "        a double elimination bracket tournament\n",
    "        tkn {string} -- a unique authentication token\n",
    "        used to ensure that only the tournament organizer enters scores in a \n",
    "        bracket \n",
    "    \"\"\"\n",
    "    \n",
    "    for bracket in tournament.brackets:\n",
    "        for round in bracket.rounds:\n",
    "            for match in round.matches:\n",
    "                print(match.user_1)\n",
    "                if match.id == 8:\n",
    "                    urlgf = \\\n",
    "                        f'{URL_PREFIX}api/match/{match.id}/report-match'\n",
    "                    payloadgf = json.dumps({\n",
    "                        \"entrant1_score\": 0,\n",
    "                        \"entrant2_score\": 3,\n",
    "                        \"winner\": match.user_2,\n",
    "                        \"loser\": match.user_1\n",
    "                    })\n",
    "                    \n",
    "                    print(payloadgf)\n",
    "                    \n",
    "                elif match.id == 9:\n",
    "                    urlgfr = \\\n",
    "                        f'{URL_PREFIX}api/match/{match.id}/report-match'\n",
    "                    payloadgfr = json.dumps({\n",
    "                        \"entrant1_score\": 3,\n",
    "                        \"entrant2_score\": 0,\n",
    "                        \"winner\": match.user_1,\n",
    "                        \"loser\": match.user_2\n",
    "                    })\n",
    "                    \n",
    "                    print(payloadgfr)\n",
    "                    \n",
    "                else:\n",
    "                    url = \\\n",
    "                        f'{URL_PREFIX}api/match/{match.id}/report-match'\n",
    "                    payload = json.dumps({\n",
    "                        \"entrant1_score\": 2,\n",
    "                        \"entrant2_score\": 0,\n",
    "                        \"winner\": match.user_1,\n",
    "                        \"loser\": match.user_2\n",
    "                    })\n",
    "                    \n",
    "                    print('pl', payload)\n",
    "                    \n",
    "                    r = requests.post(\n",
    "                        url, data=payload, headers=headers, \n",
    "                        auth=(tkn, 'unused')\n",
    "                    )\n",
    "                print(json.loads(r.content))\n",
    "                print('-'*68)\n",
    "    requests.post(urlgf, data=payloadgf, headers=headers, auth=(tkn, 'unused'))\n",
    "    requests.post(urlgfr, data=payloadgfr, headers=headers, auth=(tkn, 'unused'))"
   ]
  },
  {
   "cell_type": "code",
   "execution_count": 66,
   "metadata": {},
   "outputs": [
    {
     "data": {
      "text/html": [
       "<div>\n",
       "<style scoped>\n",
       "    .dataframe tbody tr th:only-of-type {\n",
       "        vertical-align: middle;\n",
       "    }\n",
       "\n",
       "    .dataframe tbody tr th {\n",
       "        vertical-align: top;\n",
       "    }\n",
       "\n",
       "    .dataframe thead th {\n",
       "        text-align: right;\n",
       "    }\n",
       "</style>\n",
       "<table border=\"1\" class=\"dataframe\">\n",
       "  <thead>\n",
       "    <tr style=\"text-align: right;\">\n",
       "      <th></th>\n",
       "      <th>id</th>\n",
       "      <th>n_entrants</th>\n",
       "      <th>name</th>\n",
       "      <th>organizer_id</th>\n",
       "      <th>finished</th>\n",
       "    </tr>\n",
       "  </thead>\n",
       "  <tbody>\n",
       "    <tr>\n",
       "      <th>0</th>\n",
       "      <td>1</td>\n",
       "      <td>10</td>\n",
       "      <td>miguel's tourneys</td>\n",
       "      <td>1</td>\n",
       "      <td>0</td>\n",
       "    </tr>\n",
       "  </tbody>\n",
       "</table>\n",
       "</div>"
      ],
      "text/plain": [
       "   id  n_entrants               name  organizer_id  finished\n",
       "0   1          10  miguel's tourneys             1         0"
      ]
     },
     "execution_count": 66,
     "metadata": {},
     "output_type": "execute_result"
    }
   ],
   "source": [
    "q = 'select * from tournament'\n",
    "\n",
    "# posted a user\n",
    "df = pd.read_sql_query(q, cnx)\n",
    "tid = df.head(1)['id'].values[0]\n",
    "df"
   ]
  },
  {
   "cell_type": "code",
   "execution_count": 40,
   "metadata": {},
   "outputs": [],
   "source": [
    "tournament = TournamentModel.query.filter_by(id=int(tid)).first_or_404()"
   ]
  },
  {
   "cell_type": "code",
   "execution_count": 73,
   "metadata": {},
   "outputs": [
    {
     "data": {
      "text/html": [
       "<div>\n",
       "<style scoped>\n",
       "    .dataframe tbody tr th:only-of-type {\n",
       "        vertical-align: middle;\n",
       "    }\n",
       "\n",
       "    .dataframe tbody tr th {\n",
       "        vertical-align: top;\n",
       "    }\n",
       "\n",
       "    .dataframe thead th {\n",
       "        text-align: right;\n",
       "    }\n",
       "</style>\n",
       "<table border=\"1\" class=\"dataframe\">\n",
       "  <thead>\n",
       "    <tr style=\"text-align: right;\">\n",
       "      <th></th>\n",
       "      <th>user_1</th>\n",
       "    </tr>\n",
       "  </thead>\n",
       "  <tbody>\n",
       "    <tr>\n",
       "      <th>0</th>\n",
       "      <td>2</td>\n",
       "    </tr>\n",
       "  </tbody>\n",
       "</table>\n",
       "</div>"
      ],
      "text/plain": [
       "   user_1\n",
       "0       2"
      ]
     },
     "execution_count": 73,
     "metadata": {},
     "output_type": "execute_result"
    }
   ],
   "source": [
    "q = 'select user_1 from match where id == 5'\n",
    "\n",
    "# posted a user\n",
    "df = pd.read_sql_query(q, cnx)\n",
    "df"
   ]
  },
  {
   "cell_type": "code",
   "execution_count": 47,
   "metadata": {},
   "outputs": [
    {
     "name": "stdout",
     "output_type": "stream",
     "text": [
      "{\"entrant1_score\": 2, \"entrant2_score\": 0, \"winner\": 2, \"loser\": 4}\n",
      "{'Access Denied': 'Only Tournament Organizers can report matches'}\n",
      "{\"entrant1_score\": 2, \"entrant2_score\": 0, \"winner\": 7, \"loser\": 8}\n",
      "{'Access Denied': 'Only Tournament Organizers can report matches'}\n",
      "{\"entrant1_score\": 2, \"entrant2_score\": 0, \"winner\": 3, \"loser\": 5}\n",
      "{'Access Denied': 'Only Tournament Organizers can report matches'}\n",
      "{\"entrant1_score\": 2, \"entrant2_score\": 0, \"winner\": 9, \"loser\": 6}\n",
      "{'Access Denied': 'Only Tournament Organizers can report matches'}\n",
      "{\"entrant1_score\": 2, \"entrant2_score\": 0, \"winner\": null, \"loser\": null}\n",
      "{'Access Denied': 'Only Tournament Organizers can report matches'}\n",
      "{\"entrant1_score\": 2, \"entrant2_score\": 0, \"winner\": null, \"loser\": null}\n",
      "{'Access Denied': 'Only Tournament Organizers can report matches'}\n",
      "{\"entrant1_score\": 2, \"entrant2_score\": 0, \"winner\": null, \"loser\": null}\n",
      "{'Access Denied': 'Only Tournament Organizers can report matches'}\n",
      "{\"entrant1_score\": 0, \"entrant2_score\": 3, \"winner\": null, \"loser\": null}\n",
      "{'Access Denied': 'Only Tournament Organizers can report matches'}\n",
      "{\"entrant1_score\": 3, \"entrant2_score\": 0, \"winner\": null, \"loser\": null}\n",
      "{'Access Denied': 'Only Tournament Organizers can report matches'}\n",
      "{\"entrant1_score\": 2, \"entrant2_score\": 0, \"winner\": null, \"loser\": null}\n",
      "{'Access Denied': 'Only Tournament Organizers can report matches'}\n",
      "{\"entrant1_score\": 2, \"entrant2_score\": 0, \"winner\": null, \"loser\": null}\n",
      "{'Access Denied': 'Only Tournament Organizers can report matches'}\n",
      "{\"entrant1_score\": 2, \"entrant2_score\": 0, \"winner\": null, \"loser\": null}\n",
      "{'Access Denied': 'Only Tournament Organizers can report matches'}\n",
      "{\"entrant1_score\": 2, \"entrant2_score\": 0, \"winner\": null, \"loser\": null}\n",
      "{'Access Denied': 'Only Tournament Organizers can report matches'}\n",
      "{\"entrant1_score\": 2, \"entrant2_score\": 0, \"winner\": null, \"loser\": null}\n",
      "{'Access Denied': 'Only Tournament Organizers can report matches'}\n",
      "{\"entrant1_score\": 2, \"entrant2_score\": 0, \"winner\": null, \"loser\": null}\n",
      "{'Access Denied': 'Only Tournament Organizers can report matches'}\n"
     ]
    }
   ],
   "source": [
    "# get TPN's token / log TPN in\n",
    "url = f'{URL_PREFIX}api/token'\n",
    "r = requests.get(url, auth=('TPN', 'tpn'))\n",
    "c_tkn = json.loads(r.content)['token']\n",
    "\n",
    "# TPN can't enter scores\n",
    "handle_progression(tournament, c_tkn)"
   ]
  },
  {
   "cell_type": "code",
   "execution_count": 77,
   "metadata": {},
   "outputs": [
    {
     "name": "stdout",
     "output_type": "stream",
     "text": [
      "2\n",
      "pl {\"entrant1_score\": 2, \"entrant2_score\": 0, \"winner\": 2, \"loser\": 4}\n",
      "{'id': 1, 'loser_to': 10, 'match_winner': 2, 'round': 1, 'u1': 2, 'u2': 4, 'user_1_score': 2, 'user_2_score': 0, 'uuid': '8440b873-52c7-423d-a5e9-b755a77f77d7', 'winner_to': 5}\n",
      "--------------------------------------------------------------------\n",
      "7\n",
      "pl {\"entrant1_score\": 2, \"entrant2_score\": 0, \"winner\": 7, \"loser\": 8}\n",
      "{'id': 2, 'loser_to': 10, 'match_winner': 7, 'round': 1, 'u1': 7, 'u2': 8, 'user_1_score': 2, 'user_2_score': 0, 'uuid': '62ddd66b-60d9-4d0a-9b34-e56a7a54c323', 'winner_to': 5}\n",
      "--------------------------------------------------------------------\n",
      "3\n",
      "pl {\"entrant1_score\": 2, \"entrant2_score\": 0, \"winner\": 3, \"loser\": 5}\n",
      "{'id': 3, 'loser_to': 11, 'match_winner': 3, 'round': 1, 'u1': 3, 'u2': 5, 'user_1_score': 2, 'user_2_score': 0, 'uuid': 'f8a7ebca-e76e-4275-bec3-24d4af40cc1c', 'winner_to': 6}\n",
      "--------------------------------------------------------------------\n",
      "9\n",
      "pl {\"entrant1_score\": 2, \"entrant2_score\": 0, \"winner\": 9, \"loser\": 6}\n",
      "{'id': 4, 'loser_to': 11, 'match_winner': 9, 'round': 1, 'u1': 9, 'u2': 6, 'user_1_score': 2, 'user_2_score': 0, 'uuid': '0ab27369-1f9f-4134-ad5a-2ea971698a53', 'winner_to': 6}\n",
      "--------------------------------------------------------------------\n",
      "None\n",
      "pl {\"entrant1_score\": 2, \"entrant2_score\": 0, \"winner\": null, \"loser\": null}\n",
      "{'id': 5, 'loser_to': 12, 'match_winner': None, 'round': 2, 'u1': 2, 'u2': 7, 'user_1_score': 2, 'user_2_score': 0, 'uuid': '7fd8551b-f72a-4dc3-a84e-873f8ee7952e', 'winner_to': 7}\n",
      "--------------------------------------------------------------------\n",
      "None\n",
      "pl {\"entrant1_score\": 2, \"entrant2_score\": 0, \"winner\": null, \"loser\": null}\n",
      "{'id': 6, 'loser_to': 13, 'match_winner': None, 'round': 2, 'u1': 3, 'u2': 9, 'user_1_score': 2, 'user_2_score': 0, 'uuid': '2956fe58-297c-480f-97bf-2be497cb2c6b', 'winner_to': 7}\n",
      "--------------------------------------------------------------------\n",
      "None\n",
      "pl {\"entrant1_score\": 2, \"entrant2_score\": 0, \"winner\": null, \"loser\": null}\n",
      "{'This match has not been reached': 'it cannot be reported'}\n",
      "--------------------------------------------------------------------\n",
      "None\n",
      "{\"entrant1_score\": 0, \"entrant2_score\": 3, \"winner\": null, \"loser\": null}\n",
      "{'This match has not been reached': 'it cannot be reported'}\n",
      "--------------------------------------------------------------------\n",
      "None\n",
      "{\"entrant1_score\": 3, \"entrant2_score\": 0, \"winner\": null, \"loser\": null}\n",
      "{'This match has not been reached': 'it cannot be reported'}\n",
      "--------------------------------------------------------------------\n",
      "None\n",
      "pl {\"entrant1_score\": 2, \"entrant2_score\": 0, \"winner\": null, \"loser\": null}\n",
      "{'id': 10, 'loser_to': None, 'match_winner': None, 'round': 6, 'u1': 4, 'u2': 8, 'user_1_score': 2, 'user_2_score': 0, 'uuid': '1bdedede-02c1-4c51-ae29-42a5e4329092', 'winner_to': 12}\n",
      "--------------------------------------------------------------------\n",
      "None\n",
      "pl {\"entrant1_score\": 2, \"entrant2_score\": 0, \"winner\": null, \"loser\": null}\n",
      "{'id': 11, 'loser_to': None, 'match_winner': None, 'round': 6, 'u1': 5, 'u2': 6, 'user_1_score': 2, 'user_2_score': 0, 'uuid': '60d47576-713d-4302-aff6-499d35236785', 'winner_to': 13}\n",
      "--------------------------------------------------------------------\n",
      "None\n",
      "pl {\"entrant1_score\": 2, \"entrant2_score\": 0, \"winner\": null, \"loser\": null}\n",
      "{'This match has not been reached': 'it cannot be reported'}\n",
      "--------------------------------------------------------------------\n",
      "None\n",
      "pl {\"entrant1_score\": 2, \"entrant2_score\": 0, \"winner\": null, \"loser\": null}\n",
      "{'This match has not been reached': 'it cannot be reported'}\n",
      "--------------------------------------------------------------------\n",
      "None\n",
      "pl {\"entrant1_score\": 2, \"entrant2_score\": 0, \"winner\": null, \"loser\": null}\n",
      "{'This match has not been reached': 'it cannot be reported'}\n",
      "--------------------------------------------------------------------\n",
      "None\n",
      "pl {\"entrant1_score\": 2, \"entrant2_score\": 0, \"winner\": null, \"loser\": null}\n",
      "{'This match has not been reached': 'it cannot be reported'}\n",
      "--------------------------------------------------------------------\n"
     ]
    }
   ],
   "source": [
    "\n",
    "tournament = TournamentModel.query.filter_by(id=int(tid)).first_or_404()\n",
    "url = f'{URL_PREFIX}api/token'\n",
    "r = requests.get(url, auth=('miguel', 'python'))\n",
    "tkn = json.loads(r.content)['token']\n",
    "\n",
    "# TO (miguel) can enter scores\n",
    "handle_progression(tournament, tkn)"
   ]
  },
  {
   "cell_type": "code",
   "execution_count": null,
   "metadata": {},
   "outputs": [],
   "source": []
  }
 ],
 "metadata": {
  "kernelspec": {
   "display_name": "venv",
   "language": "python",
   "name": "venv"
  },
  "language_info": {
   "codemirror_mode": {
    "name": "ipython",
    "version": 3
   },
   "file_extension": ".py",
   "mimetype": "text/x-python",
   "name": "python",
   "nbconvert_exporter": "python",
   "pygments_lexer": "ipython3",
   "version": "3.6.9"
  }
 },
 "nbformat": 4,
 "nbformat_minor": 4
}
