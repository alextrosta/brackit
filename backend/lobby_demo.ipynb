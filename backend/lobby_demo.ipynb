{
 "cells": [
  {
   "cell_type": "code",
   "execution_count": 1,
   "metadata": {},
   "outputs": [],
   "source": [
    "%load_ext autoreload\n",
    "%autoreload 2"
   ]
  },
  {
   "cell_type": "code",
   "execution_count": 2,
   "metadata": {},
   "outputs": [],
   "source": [
    "from app import db\n",
    "import numpy as np\n",
    "\n",
    "from app.models import Tournament as TournamentModel\n",
    "from app.models import Lobby as LobbyModel\n",
    "from app.models import Bracket as BracketModel\n",
    "from app.models import Match as MatchModel\n",
    "from app.models import Round as RoundModel\n",
    "from app.models import User as UserModel\n",
    "from app.models import LobbySeed as LobbySeedModel\n",
    "\n",
    "from tournament import Tournament\n",
    "\n",
    "import numpy as np\n",
    "\n",
    "from sqlalchemy.sql.expression import func, select\n",
    "\n",
    "from tournament import (\n",
    "    BracketTypes,\n",
    "    Tournament,\n",
    "    Match\n",
    ")\n",
    "import sqlite3\n",
    "import pandas as pd\n",
    "import uuid\n",
    "import requests\n",
    "import json\n",
    "import random\n"
   ]
  },
  {
   "cell_type": "code",
   "execution_count": 3,
   "metadata": {},
   "outputs": [],
   "source": [
    "db.session.close()"
   ]
  },
  {
   "cell_type": "code",
   "execution_count": 4,
   "metadata": {},
   "outputs": [],
   "source": [
    "def purge(Model):\n",
    "    [db.session.delete(row) for row in Model.query.all()]"
   ]
  },
  {
   "cell_type": "code",
   "execution_count": 5,
   "metadata": {},
   "outputs": [],
   "source": [
    "# purge all tables first\n",
    "\n",
    "Models = [\n",
    "    BracketModel, \n",
    "    LobbyModel,\n",
    "    TournamentModel, \n",
    "    MatchModel, \n",
    "    RoundModel, \n",
    "    UserModel, \n",
    "    LobbySeedModel\n",
    "]\n",
    "\n",
    "for Model in Models:\n",
    "    purge(Model)\n",
    "db.session.commit()"
   ]
  },
  {
   "cell_type": "code",
   "execution_count": 6,
   "metadata": {},
   "outputs": [],
   "source": [
    "# Create the connection\n",
    "cnx = sqlite3.connect(r'./app.db')"
   ]
  },
  {
   "cell_type": "code",
   "execution_count": 7,
   "metadata": {},
   "outputs": [],
   "source": [
    "# register user like\n",
    "# curl -i -X POST -H \"Content-Type: application/json\" -d '{\"username\":\"miguel\",\"password\":\"python\"}' http://127.0.0.1:5000/api/users"
   ]
  },
  {
   "cell_type": "code",
   "execution_count": 8,
   "metadata": {},
   "outputs": [],
   "source": [
    "url = 'http://127.0.0.1:5000/api/users'\n",
    "headers = {'content-type': 'application/json', 'Accept-Charset': 'UTF-8'}\n",
    "payload = json.dumps({\n",
    "    \"username\":\"miguel\",\n",
    "    \"password\":\"python\",\n",
    "    \"email\":\"miguel@gmail.com\"\n",
    "})\n",
    "\n",
    "r = requests.post(url, data=payload, headers=headers)"
   ]
  },
  {
   "cell_type": "code",
   "execution_count": 9,
   "metadata": {},
   "outputs": [
    {
     "data": {
      "text/plain": [
       "b'{\"Success\":\"miguel logged in\"}\\n'"
      ]
     },
     "execution_count": 9,
     "metadata": {},
     "output_type": "execute_result"
    }
   ],
   "source": [
    "# log miguel in\n",
    "url = 'http://127.0.0.1:5000/api/login'\n",
    "headers = {'content-type': 'application/json', 'Accept-Charset': 'UTF-8'}\n",
    "# payload = json.dumps({\n",
    "#     \"username\":\"miguel\",\n",
    "#     \"password\":\"python\",\n",
    "#     \"email\":\"miguel@gmail.com\"\n",
    "# })\n",
    "\n",
    "r = requests.get(url, headers=headers, auth=('miguel', 'python'))\n",
    "r.content"
   ]
  },
  {
   "cell_type": "code",
   "execution_count": 10,
   "metadata": {},
   "outputs": [
    {
     "data": {
      "text/plain": [
       "b'{\"Success\":\"logged out\"}\\n'"
      ]
     },
     "execution_count": 10,
     "metadata": {},
     "output_type": "execute_result"
    }
   ],
   "source": [
    "# log miguel out\n",
    "url = 'http://127.0.0.1:5000/api/logout'\n",
    "headers = {'content-type': 'application/json', 'Accept-Charset': 'UTF-8'}\n",
    "# payload = json.dumps({\n",
    "#     \"username\":\"miguel\",\n",
    "#     \"password\":\"python\",\n",
    "#     \"email\":\"miguel@gmail.com\"\n",
    "# })\n",
    "\n",
    "r = requests.get(url, headers=headers, auth=('miguel', 'python'))\n",
    "r.content"
   ]
  },
  {
   "cell_type": "code",
   "execution_count": 11,
   "metadata": {},
   "outputs": [],
   "source": [
    "url = 'http://127.0.0.1:5000/api/users'\n",
    "# post the rest of the users\n",
    "users = [\n",
    "    ('TPN', 'TPN@example.com'),\n",
    "    ('AngryFalco', 'AngryFalco@example.com'),\n",
    "    ('Sunrisebanana', 'Sunrisebanana@example.com'),\n",
    "    ('Ptolemy', 'Ptolemy@example.com'),\n",
    "    ('Vik', 'Vik@example.com'),\n",
    "    ('Kevin', 'Kevin@example.com'),\n",
    "    ('Spaceghost', 'Spaceghost@example.com'),\n",
    "    ('Burnaby', 'Burnaby@example.com'),\n",
    "]\n",
    "\n",
    "for username, email in users:\n",
    "    payload = json.dumps({\n",
    "        \"username\":username,\n",
    "        \"password\":username.lower(),\n",
    "        \"email\":email.lower()\n",
    "    })\n",
    "    r = requests.post(url, data=payload, headers=headers)\n"
   ]
  },
  {
   "cell_type": "code",
   "execution_count": 12,
   "metadata": {},
   "outputs": [],
   "source": [
    "# or get a token\n",
    "# i.e. curl -u miguel:python -i -X GET http://127.0.0.1:5000/api/token"
   ]
  },
  {
   "cell_type": "code",
   "execution_count": 13,
   "metadata": {},
   "outputs": [
    {
     "data": {
      "text/plain": [
       "'eyJhbGciOiJIUzUxMiIsImlhdCI6MTU4Mzg3MDIxNSwiZXhwIjoxNTgzODcwODE1fQ.eyJpZCI6MX0.xPLYtxiMivF72v70O7-x2IUruRrdC_iWY8huaQE7gRQascnYdtpGszqMt4B_vdCxQj4GUTi9Za2F6Odf1f-MuA'"
      ]
     },
     "execution_count": 13,
     "metadata": {},
     "output_type": "execute_result"
    }
   ],
   "source": [
    "url = 'http://127.0.0.1:5000/api/token'\n",
    "r = requests.get(url, auth=('miguel', 'python'))\n",
    "tkn = json.loads(r.content)['token']\n",
    "tkn"
   ]
  },
  {
   "cell_type": "code",
   "execution_count": 14,
   "metadata": {},
   "outputs": [],
   "source": [
    "# now this user can login with a token\n",
    "url = 'http://127.0.0.1:5000/api/login'\n",
    "\n",
    "r = requests.get(url, auth=(tkn, 'unused'))"
   ]
  },
  {
   "cell_type": "code",
   "execution_count": 15,
   "metadata": {},
   "outputs": [
    {
     "data": {
      "text/plain": [
       "{'Lobby Created': \"Lobby created for tournament: miguel's tourneys\"}"
      ]
     },
     "execution_count": 15,
     "metadata": {},
     "output_type": "execute_result"
    }
   ],
   "source": [
    "# miguel creates lobby\n",
    "\n",
    "url = 'http://127.0.0.1:5000/api/create/lobby/'\n",
    "headers = {'content-type': 'application/json', 'Accept-Charset': 'UTF-8'}\n",
    "payload = json.dumps({\n",
    "    \"tournament_name\" : \"miguel's tourneys\"\n",
    "})\n",
    "r = requests.post(url, data=payload, headers=headers, auth=(tkn, 'unused'))\n",
    "json.loads(r.content)"
   ]
  },
  {
   "cell_type": "markdown",
   "metadata": {},
   "source": [
    "# Empty lobby "
   ]
  },
  {
   "cell_type": "code",
   "execution_count": 16,
   "metadata": {},
   "outputs": [
    {
     "data": {
      "text/html": [
       "<div>\n",
       "<style scoped>\n",
       "    .dataframe tbody tr th:only-of-type {\n",
       "        vertical-align: middle;\n",
       "    }\n",
       "\n",
       "    .dataframe tbody tr th {\n",
       "        vertical-align: top;\n",
       "    }\n",
       "\n",
       "    .dataframe thead th {\n",
       "        text-align: right;\n",
       "    }\n",
       "</style>\n",
       "<table border=\"1\" class=\"dataframe\">\n",
       "  <thead>\n",
       "    <tr style=\"text-align: right;\">\n",
       "      <th></th>\n",
       "      <th>id</th>\n",
       "      <th>user_id</th>\n",
       "      <th>lobby_id</th>\n",
       "      <th>seed</th>\n",
       "    </tr>\n",
       "  </thead>\n",
       "  <tbody>\n",
       "  </tbody>\n",
       "</table>\n",
       "</div>"
      ],
      "text/plain": [
       "Empty DataFrame\n",
       "Columns: [id, user_id, lobby_id, seed]\n",
       "Index: []"
      ]
     },
     "execution_count": 16,
     "metadata": {},
     "output_type": "execute_result"
    }
   ],
   "source": [
    "q = \\\n",
    "\"\"\"\n",
    "    select * from lobby_seeds where lobby_id == 1\n",
    "\"\"\"\n",
    "\n",
    "# posted a user\n",
    "df = pd.read_sql_query(q, cnx)\n",
    "df"
   ]
  },
  {
   "cell_type": "code",
   "execution_count": 17,
   "metadata": {},
   "outputs": [
    {
     "data": {
      "text/html": [
       "<div>\n",
       "<style scoped>\n",
       "    .dataframe tbody tr th:only-of-type {\n",
       "        vertical-align: middle;\n",
       "    }\n",
       "\n",
       "    .dataframe tbody tr th {\n",
       "        vertical-align: top;\n",
       "    }\n",
       "\n",
       "    .dataframe thead th {\n",
       "        text-align: right;\n",
       "    }\n",
       "</style>\n",
       "<table border=\"1\" class=\"dataframe\">\n",
       "  <thead>\n",
       "    <tr style=\"text-align: right;\">\n",
       "      <th></th>\n",
       "      <th>id</th>\n",
       "      <th>tournament_name</th>\n",
       "      <th>tournament_id</th>\n",
       "      <th>to_id</th>\n",
       "    </tr>\n",
       "  </thead>\n",
       "  <tbody>\n",
       "    <tr>\n",
       "      <th>0</th>\n",
       "      <td>1</td>\n",
       "      <td>miguel's tourneys</td>\n",
       "      <td>None</td>\n",
       "      <td>1</td>\n",
       "    </tr>\n",
       "  </tbody>\n",
       "</table>\n",
       "</div>"
      ],
      "text/plain": [
       "   id    tournament_name tournament_id  to_id\n",
       "0   1  miguel's tourneys          None      1"
      ]
     },
     "execution_count": 17,
     "metadata": {},
     "output_type": "execute_result"
    }
   ],
   "source": [
    "q = \\\n",
    "\"\"\"\n",
    "    select * from lobby\n",
    "\"\"\"\n",
    "\n",
    "# posted a user\n",
    "df = pd.read_sql_query(q, cnx)\n",
    "df"
   ]
  },
  {
   "cell_type": "code",
   "execution_count": 18,
   "metadata": {},
   "outputs": [
    {
     "data": {
      "text/html": [
       "<div>\n",
       "<style scoped>\n",
       "    .dataframe tbody tr th:only-of-type {\n",
       "        vertical-align: middle;\n",
       "    }\n",
       "\n",
       "    .dataframe tbody tr th {\n",
       "        vertical-align: top;\n",
       "    }\n",
       "\n",
       "    .dataframe thead th {\n",
       "        text-align: right;\n",
       "    }\n",
       "</style>\n",
       "<table border=\"1\" class=\"dataframe\">\n",
       "  <thead>\n",
       "    <tr style=\"text-align: right;\">\n",
       "      <th></th>\n",
       "      <th>id</th>\n",
       "      <th>role</th>\n",
       "      <th>username</th>\n",
       "      <th>email</th>\n",
       "      <th>password_hash</th>\n",
       "      <th>about_me</th>\n",
       "      <th>last_seen</th>\n",
       "    </tr>\n",
       "  </thead>\n",
       "  <tbody>\n",
       "    <tr>\n",
       "      <th>0</th>\n",
       "      <td>1</td>\n",
       "      <td>User</td>\n",
       "      <td>miguel</td>\n",
       "      <td>miguel@gmail.com</td>\n",
       "      <td>pbkdf2:sha256:150000$NwGLKJDp$18e43b77f747a1ab...</td>\n",
       "      <td>None</td>\n",
       "      <td>2020-03-10 19:56:54.580192</td>\n",
       "    </tr>\n",
       "    <tr>\n",
       "      <th>1</th>\n",
       "      <td>2</td>\n",
       "      <td>User</td>\n",
       "      <td>TPN</td>\n",
       "      <td>tpn@example.com</td>\n",
       "      <td>pbkdf2:sha256:150000$UbjEvSea$5cc2129ebab00c34...</td>\n",
       "      <td>None</td>\n",
       "      <td>2020-03-10 19:56:54.876640</td>\n",
       "    </tr>\n",
       "    <tr>\n",
       "      <th>2</th>\n",
       "      <td>3</td>\n",
       "      <td>User</td>\n",
       "      <td>AngryFalco</td>\n",
       "      <td>angryfalco@example.com</td>\n",
       "      <td>pbkdf2:sha256:150000$tbLT88gs$a3bf765a45a77e2a...</td>\n",
       "      <td>None</td>\n",
       "      <td>2020-03-10 19:56:54.960640</td>\n",
       "    </tr>\n",
       "    <tr>\n",
       "      <th>3</th>\n",
       "      <td>4</td>\n",
       "      <td>User</td>\n",
       "      <td>Sunrisebanana</td>\n",
       "      <td>sunrisebanana@example.com</td>\n",
       "      <td>pbkdf2:sha256:150000$5Ai7JJaU$b3ebb9b92f877c07...</td>\n",
       "      <td>None</td>\n",
       "      <td>2020-03-10 19:56:55.041048</td>\n",
       "    </tr>\n",
       "    <tr>\n",
       "      <th>4</th>\n",
       "      <td>5</td>\n",
       "      <td>User</td>\n",
       "      <td>Ptolemy</td>\n",
       "      <td>ptolemy@example.com</td>\n",
       "      <td>pbkdf2:sha256:150000$E0X6nF90$47901789d6227297...</td>\n",
       "      <td>None</td>\n",
       "      <td>2020-03-10 19:56:55.121539</td>\n",
       "    </tr>\n",
       "    <tr>\n",
       "      <th>5</th>\n",
       "      <td>6</td>\n",
       "      <td>User</td>\n",
       "      <td>Vik</td>\n",
       "      <td>vik@example.com</td>\n",
       "      <td>pbkdf2:sha256:150000$S05Qgyow$f1d7cef53c47f416...</td>\n",
       "      <td>None</td>\n",
       "      <td>2020-03-10 19:56:55.203662</td>\n",
       "    </tr>\n",
       "    <tr>\n",
       "      <th>6</th>\n",
       "      <td>7</td>\n",
       "      <td>User</td>\n",
       "      <td>Kevin</td>\n",
       "      <td>kevin@example.com</td>\n",
       "      <td>pbkdf2:sha256:150000$WrZxarTI$65789a28dca31d67...</td>\n",
       "      <td>None</td>\n",
       "      <td>2020-03-10 19:56:55.284688</td>\n",
       "    </tr>\n",
       "    <tr>\n",
       "      <th>7</th>\n",
       "      <td>8</td>\n",
       "      <td>User</td>\n",
       "      <td>Spaceghost</td>\n",
       "      <td>spaceghost@example.com</td>\n",
       "      <td>pbkdf2:sha256:150000$V1eg1Dsn$fb6dac3194ddb3c1...</td>\n",
       "      <td>None</td>\n",
       "      <td>2020-03-10 19:56:55.366591</td>\n",
       "    </tr>\n",
       "    <tr>\n",
       "      <th>8</th>\n",
       "      <td>9</td>\n",
       "      <td>User</td>\n",
       "      <td>Burnaby</td>\n",
       "      <td>burnaby@example.com</td>\n",
       "      <td>pbkdf2:sha256:150000$jZoGIUx7$564b90116a775a1b...</td>\n",
       "      <td>None</td>\n",
       "      <td>2020-03-10 19:56:55.447110</td>\n",
       "    </tr>\n",
       "  </tbody>\n",
       "</table>\n",
       "</div>"
      ],
      "text/plain": [
       "   id  role       username                      email  \\\n",
       "0   1  User         miguel           miguel@gmail.com   \n",
       "1   2  User            TPN            tpn@example.com   \n",
       "2   3  User     AngryFalco     angryfalco@example.com   \n",
       "3   4  User  Sunrisebanana  sunrisebanana@example.com   \n",
       "4   5  User        Ptolemy        ptolemy@example.com   \n",
       "5   6  User            Vik            vik@example.com   \n",
       "6   7  User          Kevin          kevin@example.com   \n",
       "7   8  User     Spaceghost     spaceghost@example.com   \n",
       "8   9  User        Burnaby        burnaby@example.com   \n",
       "\n",
       "                                       password_hash about_me  \\\n",
       "0  pbkdf2:sha256:150000$NwGLKJDp$18e43b77f747a1ab...     None   \n",
       "1  pbkdf2:sha256:150000$UbjEvSea$5cc2129ebab00c34...     None   \n",
       "2  pbkdf2:sha256:150000$tbLT88gs$a3bf765a45a77e2a...     None   \n",
       "3  pbkdf2:sha256:150000$5Ai7JJaU$b3ebb9b92f877c07...     None   \n",
       "4  pbkdf2:sha256:150000$E0X6nF90$47901789d6227297...     None   \n",
       "5  pbkdf2:sha256:150000$S05Qgyow$f1d7cef53c47f416...     None   \n",
       "6  pbkdf2:sha256:150000$WrZxarTI$65789a28dca31d67...     None   \n",
       "7  pbkdf2:sha256:150000$V1eg1Dsn$fb6dac3194ddb3c1...     None   \n",
       "8  pbkdf2:sha256:150000$jZoGIUx7$564b90116a775a1b...     None   \n",
       "\n",
       "                    last_seen  \n",
       "0  2020-03-10 19:56:54.580192  \n",
       "1  2020-03-10 19:56:54.876640  \n",
       "2  2020-03-10 19:56:54.960640  \n",
       "3  2020-03-10 19:56:55.041048  \n",
       "4  2020-03-10 19:56:55.121539  \n",
       "5  2020-03-10 19:56:55.203662  \n",
       "6  2020-03-10 19:56:55.284688  \n",
       "7  2020-03-10 19:56:55.366591  \n",
       "8  2020-03-10 19:56:55.447110  "
      ]
     },
     "execution_count": 18,
     "metadata": {},
     "output_type": "execute_result"
    }
   ],
   "source": [
    "q = \\\n",
    "\"\"\"\n",
    "    select * from user\n",
    "\"\"\"\n",
    "\n",
    "# posted a user\n",
    "df = pd.read_sql_query(q, cnx)\n",
    "df"
   ]
  },
  {
   "cell_type": "code",
   "execution_count": 19,
   "metadata": {},
   "outputs": [
    {
     "data": {
      "text/plain": [
       "'eyJhbGciOiJIUzUxMiIsImlhdCI6MTU4Mzg3MDIxNSwiZXhwIjoxNTgzODcwODE1fQ.eyJpZCI6MX0.xPLYtxiMivF72v70O7-x2IUruRrdC_iWY8huaQE7gRQascnYdtpGszqMt4B_vdCxQj4GUTi9Za2F6Odf1f-MuA'"
      ]
     },
     "execution_count": 19,
     "metadata": {},
     "output_type": "execute_result"
    }
   ],
   "source": [
    "url = 'http://127.0.0.1:5000/api/token'\n",
    "r = requests.get(url, auth=('miguel', 'python'))\n",
    "tkn = json.loads(r.content)['token']\n",
    "tkn"
   ]
  },
  {
   "cell_type": "code",
   "execution_count": 20,
   "metadata": {},
   "outputs": [
    {
     "name": "stdout",
     "output_type": "stream",
     "text": [
      "adding Sunrisebanana, User, 6\n",
      "{'Added': 'User Sunrisebanana to lobby 1'}\n",
      "adding miguel, User, 9\n",
      "{'Added': 'User miguel to lobby 1'}\n",
      "adding AngryFalco, User, 8\n",
      "{'Added': 'User AngryFalco to lobby 1'}\n",
      "adding Kevin, User, 7\n",
      "{'Added': 'User Kevin to lobby 1'}\n",
      "adding Spaceghost, User, 1\n",
      "{'Added': 'User Spaceghost to lobby 1'}\n",
      "adding Vik, User, 3\n",
      "{'Added': 'User Vik to lobby 1'}\n",
      "adding Burnaby, User, 5\n",
      "{'Added': 'User Burnaby to lobby 1'}\n",
      "adding Ptolemy, User, 2\n",
      "{'Added': 'User Ptolemy to lobby 1'}\n",
      "adding TPN, User, 4\n",
      "{'Added': 'User TPN to lobby 1'}\n"
     ]
    }
   ],
   "source": [
    "users = df.username.values\n",
    "np.random.shuffle(users)\n",
    "import random\n",
    "\n",
    "# miguel adds users to his lobby\n",
    "\n",
    "url = 'http://127.0.0.1:5000/api/lobby/1/add-user/'\n",
    "headers = {'content-type': 'application/json', 'Accept-Charset': 'UTF-8'}\n",
    "\n",
    "seeds = random.sample(range(1, len(users)+1), len(users)) \n",
    "roles = [\"User\" for u in users]\n",
    "for u, s, r in zip(users, roles, seeds):\n",
    "    print(f'adding {u}, {s}, {r}')\n",
    "    payload = json.dumps({\n",
    "        \"username\" : u,\n",
    "        \"role\" : s,\n",
    "        \"seed\" : r\n",
    "    })\n",
    "    r = requests.post(url, data=payload, headers=headers, auth=(tkn, 'unused'))\n",
    "    print(json.loads(r.content))\n",
    "    "
   ]
  },
  {
   "cell_type": "code",
   "execution_count": 21,
   "metadata": {},
   "outputs": [
    {
     "data": {
      "text/plain": [
       "{'id': 1, 'tournament_name': \"miguel's tourneys\"}"
      ]
     },
     "execution_count": 21,
     "metadata": {},
     "output_type": "execute_result"
    }
   ],
   "source": [
    "url = 'http://127.0.0.1:5000/api/lobby/1'\n",
    "headers = {'content-type': 'application/json', 'Accept-Charset': 'UTF-8'}\n",
    "# payload = json.dumps({\n",
    "#     \"username\" : \"AngryFalco\",\n",
    "#     \"role\" : \"User\"\n",
    "# })\n",
    "r = requests.get(url, headers=headers,)\n",
    "json.loads(r.content)"
   ]
  },
  {
   "cell_type": "code",
   "execution_count": 22,
   "metadata": {},
   "outputs": [
    {
     "name": "stdout",
     "output_type": "stream",
     "text": [
      "{'Added': 'Guest guestb to lobby 1'}\n"
     ]
    }
   ],
   "source": [
    "# miguel adds a guest user\n",
    "\n",
    "url = 'http://127.0.0.1:5000/api/lobby/1/add-user/'\n",
    "headers = {'content-type': 'application/json', 'Accept-Charset': 'UTF-8'}\n",
    "\n",
    "payload = json.dumps({\n",
    "    \"username\" : \"guestb\",\n",
    "    \"role\" : \"Guest\",\n",
    "    \"seed\" : 10\n",
    "})\n",
    "r = requests.post(url, data=payload, headers=headers, auth=(tkn, 'unused'))\n",
    "print(json.loads(r.content))"
   ]
  },
  {
   "cell_type": "code",
   "execution_count": 23,
   "metadata": {},
   "outputs": [
    {
     "name": "stdout",
     "output_type": "stream",
     "text": [
      "{'Unauthorized': 'TPN cannot add entrants to this lobby'}\n"
     ]
    },
    {
     "data": {
      "text/plain": [
       "True"
      ]
     },
     "execution_count": 23,
     "metadata": {},
     "output_type": "execute_result"
    }
   ],
   "source": [
    "# log miguel out\n",
    "url = 'http://127.0.0.1:5000/api/lobby/1/add-user/'\n",
    "headers = {'content-type': 'application/json', 'Accept-Charset': 'UTF-8'}\n",
    "\n",
    "# TPN tries to add his own guests to miguel's lobby\n",
    "url = 'http://127.0.0.1:5000/api/lobby/1/add-user/'\n",
    "headers = {'content-type': 'application/json', 'Accept-Charset': 'UTF-8'}\n",
    "\n",
    "payload = json.dumps({\n",
    "    \"username\" : \"guestx\",\n",
    "    \"role\" : \"Guest\",\n",
    "    \"seed\" : 1\n",
    "})\n",
    "r = requests.post(url, data=payload, headers=headers, auth=('TPN', 'tpn'))\n",
    "print(json.loads(r.content))\n",
    "\n",
    "UserModel \\\n",
    "    .query \\\n",
    "    .filter_by(username='guesta', role='Guest') \\\n",
    "    .first() is None"
   ]
  },
  {
   "cell_type": "code",
   "execution_count": 24,
   "metadata": {},
   "outputs": [
    {
     "data": {
      "text/plain": [
       "[{'lobby': 1, 'user': 4, 'id': 1, 'seed': 6},\n",
       " {'lobby': 1, 'user': 1, 'id': 2, 'seed': 9},\n",
       " {'lobby': 1, 'user': 3, 'id': 3, 'seed': 8},\n",
       " {'lobby': 1, 'user': 7, 'id': 4, 'seed': 7},\n",
       " {'lobby': 1, 'user': 8, 'id': 5, 'seed': 1},\n",
       " {'lobby': 1, 'user': 6, 'id': 6, 'seed': 3},\n",
       " {'lobby': 1, 'user': 9, 'id': 7, 'seed': 5},\n",
       " {'lobby': 1, 'user': 5, 'id': 8, 'seed': 2},\n",
       " {'lobby': 1, 'user': 2, 'id': 9, 'seed': 4},\n",
       " {'lobby': 1, 'user': 10, 'id': 10, 'seed': 10}]"
      ]
     },
     "execution_count": 24,
     "metadata": {},
     "output_type": "execute_result"
    }
   ],
   "source": [
    "url = 'http://127.0.0.1:5000/api/lobby/1/entrants'\n",
    "headers = {'content-type': 'application/json', 'Accept-Charset': 'UTF-8'}\n",
    "# payload = json.dumps({\n",
    "#     \"username\" : \"AngryFalco\",\n",
    "#     \"role\" : \"User\"\n",
    "# })\n",
    "r = requests.get(url, headers=headers,)\n",
    "content =  json.loads(r.content)\n",
    "content"
   ]
  },
  {
   "cell_type": "code",
   "execution_count": 25,
   "metadata": {},
   "outputs": [
    {
     "data": {
      "text/html": [
       "<div>\n",
       "<style scoped>\n",
       "    .dataframe tbody tr th:only-of-type {\n",
       "        vertical-align: middle;\n",
       "    }\n",
       "\n",
       "    .dataframe tbody tr th {\n",
       "        vertical-align: top;\n",
       "    }\n",
       "\n",
       "    .dataframe thead th {\n",
       "        text-align: right;\n",
       "    }\n",
       "</style>\n",
       "<table border=\"1\" class=\"dataframe\">\n",
       "  <thead>\n",
       "    <tr style=\"text-align: right;\">\n",
       "      <th></th>\n",
       "      <th>id</th>\n",
       "      <th>tournament_name</th>\n",
       "      <th>tournament_id</th>\n",
       "      <th>to_id</th>\n",
       "    </tr>\n",
       "  </thead>\n",
       "  <tbody>\n",
       "    <tr>\n",
       "      <th>0</th>\n",
       "      <td>1</td>\n",
       "      <td>miguel's tourneys</td>\n",
       "      <td>None</td>\n",
       "      <td>1</td>\n",
       "    </tr>\n",
       "  </tbody>\n",
       "</table>\n",
       "</div>"
      ],
      "text/plain": [
       "   id    tournament_name tournament_id  to_id\n",
       "0   1  miguel's tourneys          None      1"
      ]
     },
     "execution_count": 25,
     "metadata": {},
     "output_type": "execute_result"
    }
   ],
   "source": [
    "pd.read_sql_query(f'select * from lobby', cnx)"
   ]
  },
  {
   "cell_type": "code",
   "execution_count": 26,
   "metadata": {},
   "outputs": [
    {
     "data": {
      "text/html": [
       "<div>\n",
       "<style scoped>\n",
       "    .dataframe tbody tr th:only-of-type {\n",
       "        vertical-align: middle;\n",
       "    }\n",
       "\n",
       "    .dataframe tbody tr th {\n",
       "        vertical-align: top;\n",
       "    }\n",
       "\n",
       "    .dataframe thead th {\n",
       "        text-align: right;\n",
       "    }\n",
       "</style>\n",
       "<table border=\"1\" class=\"dataframe\">\n",
       "  <thead>\n",
       "    <tr style=\"text-align: right;\">\n",
       "      <th></th>\n",
       "      <th>id</th>\n",
       "      <th>user_id</th>\n",
       "      <th>lobby_id</th>\n",
       "      <th>seed</th>\n",
       "    </tr>\n",
       "  </thead>\n",
       "  <tbody>\n",
       "    <tr>\n",
       "      <th>0</th>\n",
       "      <td>1</td>\n",
       "      <td>4</td>\n",
       "      <td>1</td>\n",
       "      <td>6</td>\n",
       "    </tr>\n",
       "    <tr>\n",
       "      <th>1</th>\n",
       "      <td>2</td>\n",
       "      <td>1</td>\n",
       "      <td>1</td>\n",
       "      <td>9</td>\n",
       "    </tr>\n",
       "    <tr>\n",
       "      <th>2</th>\n",
       "      <td>3</td>\n",
       "      <td>3</td>\n",
       "      <td>1</td>\n",
       "      <td>8</td>\n",
       "    </tr>\n",
       "    <tr>\n",
       "      <th>3</th>\n",
       "      <td>4</td>\n",
       "      <td>7</td>\n",
       "      <td>1</td>\n",
       "      <td>7</td>\n",
       "    </tr>\n",
       "    <tr>\n",
       "      <th>4</th>\n",
       "      <td>5</td>\n",
       "      <td>8</td>\n",
       "      <td>1</td>\n",
       "      <td>1</td>\n",
       "    </tr>\n",
       "    <tr>\n",
       "      <th>5</th>\n",
       "      <td>6</td>\n",
       "      <td>6</td>\n",
       "      <td>1</td>\n",
       "      <td>3</td>\n",
       "    </tr>\n",
       "    <tr>\n",
       "      <th>6</th>\n",
       "      <td>7</td>\n",
       "      <td>9</td>\n",
       "      <td>1</td>\n",
       "      <td>5</td>\n",
       "    </tr>\n",
       "    <tr>\n",
       "      <th>7</th>\n",
       "      <td>8</td>\n",
       "      <td>5</td>\n",
       "      <td>1</td>\n",
       "      <td>2</td>\n",
       "    </tr>\n",
       "    <tr>\n",
       "      <th>8</th>\n",
       "      <td>9</td>\n",
       "      <td>2</td>\n",
       "      <td>1</td>\n",
       "      <td>4</td>\n",
       "    </tr>\n",
       "    <tr>\n",
       "      <th>9</th>\n",
       "      <td>10</td>\n",
       "      <td>10</td>\n",
       "      <td>1</td>\n",
       "      <td>10</td>\n",
       "    </tr>\n",
       "  </tbody>\n",
       "</table>\n",
       "</div>"
      ],
      "text/plain": [
       "   id  user_id  lobby_id  seed\n",
       "0   1        4         1     6\n",
       "1   2        1         1     9\n",
       "2   3        3         1     8\n",
       "3   4        7         1     7\n",
       "4   5        8         1     1\n",
       "5   6        6         1     3\n",
       "6   7        9         1     5\n",
       "7   8        5         1     2\n",
       "8   9        2         1     4\n",
       "9  10       10         1    10"
      ]
     },
     "execution_count": 26,
     "metadata": {},
     "output_type": "execute_result"
    }
   ],
   "source": [
    "pd.read_sql_query(f'select * from lobby_seeds', cnx)"
   ]
  },
  {
   "cell_type": "code",
   "execution_count": 27,
   "metadata": {},
   "outputs": [
    {
     "data": {
      "text/plain": [
       "<Response [200]>"
      ]
     },
     "execution_count": 27,
     "metadata": {},
     "output_type": "execute_result"
    }
   ],
   "source": [
    "url = 'http://127.0.0.1:5000/api/lobby/1/create-tournament/'\n",
    "headers = {'content-type': 'application/json', 'Accept-Charset': 'UTF-8'}\n",
    "payload = json.dumps({})\n",
    "r = requests.post(url, payload, headers=headers, auth=(tkn, 'unused'))\n",
    "# r = requests.post(url, payload, headers=headers, auth=('TPN', 'tpn'))\n",
    "r\n",
    "\n"
   ]
  },
  {
   "cell_type": "code",
   "execution_count": 28,
   "metadata": {},
   "outputs": [
    {
     "data": {
      "text/plain": [
       "b'{\"Success\":\"Created tournament 1\"}\\n'"
      ]
     },
     "execution_count": 28,
     "metadata": {},
     "output_type": "execute_result"
    }
   ],
   "source": [
    "r.content"
   ]
  },
  {
   "cell_type": "code",
   "execution_count": 29,
   "metadata": {},
   "outputs": [
    {
     "data": {
      "text/plain": [
       "{'Success': 'Created tournament 1'}"
      ]
     },
     "execution_count": 29,
     "metadata": {},
     "output_type": "execute_result"
    }
   ],
   "source": [
    "json.loads(r.content)"
   ]
  },
  {
   "cell_type": "code",
   "execution_count": 30,
   "metadata": {},
   "outputs": [
    {
     "name": "stdout",
     "output_type": "stream",
     "text": [
      "####################################################################\n",
      "\n",
      "Users' table\n"
     ]
    },
    {
     "data": {
      "text/html": [
       "<div>\n",
       "<style scoped>\n",
       "    .dataframe tbody tr th:only-of-type {\n",
       "        vertical-align: middle;\n",
       "    }\n",
       "\n",
       "    .dataframe tbody tr th {\n",
       "        vertical-align: top;\n",
       "    }\n",
       "\n",
       "    .dataframe thead th {\n",
       "        text-align: right;\n",
       "    }\n",
       "</style>\n",
       "<table border=\"1\" class=\"dataframe\">\n",
       "  <thead>\n",
       "    <tr style=\"text-align: right;\">\n",
       "      <th></th>\n",
       "      <th>id</th>\n",
       "      <th>n_entrants</th>\n",
       "      <th>name</th>\n",
       "      <th>organizer_id</th>\n",
       "      <th>finished</th>\n",
       "    </tr>\n",
       "  </thead>\n",
       "  <tbody>\n",
       "    <tr>\n",
       "      <th>0</th>\n",
       "      <td>1</td>\n",
       "      <td>10</td>\n",
       "      <td>miguel's tourneys</td>\n",
       "      <td>1</td>\n",
       "      <td>0</td>\n",
       "    </tr>\n",
       "  </tbody>\n",
       "</table>\n",
       "</div>"
      ],
      "text/plain": [
       "   id  n_entrants               name  organizer_id  finished\n",
       "0   1          10  miguel's tourneys             1         0"
      ]
     },
     "execution_count": 30,
     "metadata": {},
     "output_type": "execute_result"
    }
   ],
   "source": [
    "# create the dataframe from a query\n",
    "\n",
    "print('#'*68)\n",
    "print()\n",
    "\n",
    "print('Users\\' table')\n",
    "df = pd.read_sql_query(q, cnx)\n",
    "# df\n",
    "\n",
    "['tournament', 'bracket', 'bracket_entrants', 'round', 'match', 'lobby', \n",
    "'lobby_seeds']\n",
    "    \n",
    "pd.read_sql_query(f'select * from tournament', cnx)"
   ]
  },
  {
   "cell_type": "code",
   "execution_count": 31,
   "metadata": {},
   "outputs": [
    {
     "data": {
      "text/html": [
       "<div>\n",
       "<style scoped>\n",
       "    .dataframe tbody tr th:only-of-type {\n",
       "        vertical-align: middle;\n",
       "    }\n",
       "\n",
       "    .dataframe tbody tr th {\n",
       "        vertical-align: top;\n",
       "    }\n",
       "\n",
       "    .dataframe thead th {\n",
       "        text-align: right;\n",
       "    }\n",
       "</style>\n",
       "<table border=\"1\" class=\"dataframe\">\n",
       "  <thead>\n",
       "    <tr style=\"text-align: right;\">\n",
       "      <th></th>\n",
       "      <th>id</th>\n",
       "      <th>bracket_type</th>\n",
       "      <th>tournament_id</th>\n",
       "    </tr>\n",
       "  </thead>\n",
       "  <tbody>\n",
       "    <tr>\n",
       "      <th>0</th>\n",
       "      <td>1</td>\n",
       "      <td>DOUBLE_ELIMINATION</td>\n",
       "      <td>1</td>\n",
       "    </tr>\n",
       "  </tbody>\n",
       "</table>\n",
       "</div>"
      ],
      "text/plain": [
       "   id        bracket_type  tournament_id\n",
       "0   1  DOUBLE_ELIMINATION              1"
      ]
     },
     "execution_count": 31,
     "metadata": {},
     "output_type": "execute_result"
    }
   ],
   "source": [
    "pd.read_sql_query(f'select * from bracket', cnx)"
   ]
  },
  {
   "cell_type": "code",
   "execution_count": 32,
   "metadata": {},
   "outputs": [
    {
     "data": {
      "text/html": [
       "<div>\n",
       "<style scoped>\n",
       "    .dataframe tbody tr th:only-of-type {\n",
       "        vertical-align: middle;\n",
       "    }\n",
       "\n",
       "    .dataframe tbody tr th {\n",
       "        vertical-align: top;\n",
       "    }\n",
       "\n",
       "    .dataframe thead th {\n",
       "        text-align: right;\n",
       "    }\n",
       "</style>\n",
       "<table border=\"1\" class=\"dataframe\">\n",
       "  <thead>\n",
       "    <tr style=\"text-align: right;\">\n",
       "      <th></th>\n",
       "      <th>user_id</th>\n",
       "      <th>bracket_id</th>\n",
       "    </tr>\n",
       "  </thead>\n",
       "  <tbody>\n",
       "    <tr>\n",
       "      <th>0</th>\n",
       "      <td>8</td>\n",
       "      <td>1</td>\n",
       "    </tr>\n",
       "    <tr>\n",
       "      <th>1</th>\n",
       "      <td>5</td>\n",
       "      <td>1</td>\n",
       "    </tr>\n",
       "    <tr>\n",
       "      <th>2</th>\n",
       "      <td>6</td>\n",
       "      <td>1</td>\n",
       "    </tr>\n",
       "    <tr>\n",
       "      <th>3</th>\n",
       "      <td>2</td>\n",
       "      <td>1</td>\n",
       "    </tr>\n",
       "    <tr>\n",
       "      <th>4</th>\n",
       "      <td>9</td>\n",
       "      <td>1</td>\n",
       "    </tr>\n",
       "    <tr>\n",
       "      <th>5</th>\n",
       "      <td>4</td>\n",
       "      <td>1</td>\n",
       "    </tr>\n",
       "    <tr>\n",
       "      <th>6</th>\n",
       "      <td>7</td>\n",
       "      <td>1</td>\n",
       "    </tr>\n",
       "    <tr>\n",
       "      <th>7</th>\n",
       "      <td>3</td>\n",
       "      <td>1</td>\n",
       "    </tr>\n",
       "    <tr>\n",
       "      <th>8</th>\n",
       "      <td>1</td>\n",
       "      <td>1</td>\n",
       "    </tr>\n",
       "    <tr>\n",
       "      <th>9</th>\n",
       "      <td>10</td>\n",
       "      <td>1</td>\n",
       "    </tr>\n",
       "  </tbody>\n",
       "</table>\n",
       "</div>"
      ],
      "text/plain": [
       "   user_id  bracket_id\n",
       "0        8           1\n",
       "1        5           1\n",
       "2        6           1\n",
       "3        2           1\n",
       "4        9           1\n",
       "5        4           1\n",
       "6        7           1\n",
       "7        3           1\n",
       "8        1           1\n",
       "9       10           1"
      ]
     },
     "execution_count": 32,
     "metadata": {},
     "output_type": "execute_result"
    }
   ],
   "source": [
    "pd.read_sql_query(f'select * from bracket_entrants', cnx)"
   ]
  },
  {
   "cell_type": "code",
   "execution_count": 33,
   "metadata": {},
   "outputs": [
    {
     "data": {
      "text/html": [
       "<div>\n",
       "<style scoped>\n",
       "    .dataframe tbody tr th:only-of-type {\n",
       "        vertical-align: middle;\n",
       "    }\n",
       "\n",
       "    .dataframe tbody tr th {\n",
       "        vertical-align: top;\n",
       "    }\n",
       "\n",
       "    .dataframe thead th {\n",
       "        text-align: right;\n",
       "    }\n",
       "</style>\n",
       "<table border=\"1\" class=\"dataframe\">\n",
       "  <thead>\n",
       "    <tr style=\"text-align: right;\">\n",
       "      <th></th>\n",
       "      <th>id</th>\n",
       "      <th>number</th>\n",
       "      <th>winners</th>\n",
       "      <th>bracket_id</th>\n",
       "    </tr>\n",
       "  </thead>\n",
       "  <tbody>\n",
       "    <tr>\n",
       "      <th>0</th>\n",
       "      <td>1</td>\n",
       "      <td>1</td>\n",
       "      <td>1</td>\n",
       "      <td>1</td>\n",
       "    </tr>\n",
       "    <tr>\n",
       "      <th>1</th>\n",
       "      <td>2</td>\n",
       "      <td>2</td>\n",
       "      <td>1</td>\n",
       "      <td>1</td>\n",
       "    </tr>\n",
       "    <tr>\n",
       "      <th>2</th>\n",
       "      <td>3</td>\n",
       "      <td>3</td>\n",
       "      <td>1</td>\n",
       "      <td>1</td>\n",
       "    </tr>\n",
       "    <tr>\n",
       "      <th>3</th>\n",
       "      <td>4</td>\n",
       "      <td>4</td>\n",
       "      <td>1</td>\n",
       "      <td>1</td>\n",
       "    </tr>\n",
       "    <tr>\n",
       "      <th>4</th>\n",
       "      <td>5</td>\n",
       "      <td>5</td>\n",
       "      <td>1</td>\n",
       "      <td>1</td>\n",
       "    </tr>\n",
       "    <tr>\n",
       "      <th>5</th>\n",
       "      <td>6</td>\n",
       "      <td>1</td>\n",
       "      <td>0</td>\n",
       "      <td>1</td>\n",
       "    </tr>\n",
       "    <tr>\n",
       "      <th>6</th>\n",
       "      <td>7</td>\n",
       "      <td>2</td>\n",
       "      <td>0</td>\n",
       "      <td>1</td>\n",
       "    </tr>\n",
       "    <tr>\n",
       "      <th>7</th>\n",
       "      <td>8</td>\n",
       "      <td>3</td>\n",
       "      <td>0</td>\n",
       "      <td>1</td>\n",
       "    </tr>\n",
       "    <tr>\n",
       "      <th>8</th>\n",
       "      <td>9</td>\n",
       "      <td>4</td>\n",
       "      <td>0</td>\n",
       "      <td>1</td>\n",
       "    </tr>\n",
       "  </tbody>\n",
       "</table>\n",
       "</div>"
      ],
      "text/plain": [
       "   id  number  winners  bracket_id\n",
       "0   1       1        1           1\n",
       "1   2       2        1           1\n",
       "2   3       3        1           1\n",
       "3   4       4        1           1\n",
       "4   5       5        1           1\n",
       "5   6       1        0           1\n",
       "6   7       2        0           1\n",
       "7   8       3        0           1\n",
       "8   9       4        0           1"
      ]
     },
     "execution_count": 33,
     "metadata": {},
     "output_type": "execute_result"
    }
   ],
   "source": [
    "pd.read_sql_query(f'select * from round', cnx)"
   ]
  },
  {
   "cell_type": "code",
   "execution_count": 34,
   "metadata": {},
   "outputs": [
    {
     "data": {
      "text/html": [
       "<div>\n",
       "<style scoped>\n",
       "    .dataframe tbody tr th:only-of-type {\n",
       "        vertical-align: middle;\n",
       "    }\n",
       "\n",
       "    .dataframe tbody tr th {\n",
       "        vertical-align: top;\n",
       "    }\n",
       "\n",
       "    .dataframe thead th {\n",
       "        text-align: right;\n",
       "    }\n",
       "</style>\n",
       "<table border=\"1\" class=\"dataframe\">\n",
       "  <thead>\n",
       "    <tr style=\"text-align: right;\">\n",
       "      <th></th>\n",
       "      <th>id</th>\n",
       "      <th>uuid</th>\n",
       "      <th>user_1</th>\n",
       "      <th>user_1_score</th>\n",
       "      <th>user_2</th>\n",
       "      <th>user_2_score</th>\n",
       "      <th>winner</th>\n",
       "      <th>round_id</th>\n",
       "      <th>winner_advance_to</th>\n",
       "      <th>loser_advance_to</th>\n",
       "    </tr>\n",
       "  </thead>\n",
       "  <tbody>\n",
       "    <tr>\n",
       "      <th>0</th>\n",
       "      <td>1</td>\n",
       "      <td>0f2d2f07-f213-4a25-951b-060e86ca5a14</td>\n",
       "      <td>8.0</td>\n",
       "      <td>None</td>\n",
       "      <td>3.0</td>\n",
       "      <td>None</td>\n",
       "      <td>None</td>\n",
       "      <td>1</td>\n",
       "      <td>5.0</td>\n",
       "      <td>10.0</td>\n",
       "    </tr>\n",
       "    <tr>\n",
       "      <th>1</th>\n",
       "      <td>2</td>\n",
       "      <td>c6d7fb14-2d98-4740-b949-a509dbd01755</td>\n",
       "      <td>5.0</td>\n",
       "      <td>None</td>\n",
       "      <td>7.0</td>\n",
       "      <td>None</td>\n",
       "      <td>None</td>\n",
       "      <td>1</td>\n",
       "      <td>5.0</td>\n",
       "      <td>10.0</td>\n",
       "    </tr>\n",
       "    <tr>\n",
       "      <th>2</th>\n",
       "      <td>3</td>\n",
       "      <td>8133c2ed-940f-4fb8-839b-286aabab15b4</td>\n",
       "      <td>6.0</td>\n",
       "      <td>None</td>\n",
       "      <td>4.0</td>\n",
       "      <td>None</td>\n",
       "      <td>None</td>\n",
       "      <td>1</td>\n",
       "      <td>6.0</td>\n",
       "      <td>11.0</td>\n",
       "    </tr>\n",
       "    <tr>\n",
       "      <th>3</th>\n",
       "      <td>4</td>\n",
       "      <td>fb913a08-ca10-4eac-b58e-c9e37ef83da4</td>\n",
       "      <td>2.0</td>\n",
       "      <td>None</td>\n",
       "      <td>9.0</td>\n",
       "      <td>None</td>\n",
       "      <td>None</td>\n",
       "      <td>1</td>\n",
       "      <td>6.0</td>\n",
       "      <td>11.0</td>\n",
       "    </tr>\n",
       "    <tr>\n",
       "      <th>4</th>\n",
       "      <td>5</td>\n",
       "      <td>77780c3a-c819-41e0-b4a9-659cb83668a0</td>\n",
       "      <td>NaN</td>\n",
       "      <td>None</td>\n",
       "      <td>NaN</td>\n",
       "      <td>None</td>\n",
       "      <td>None</td>\n",
       "      <td>2</td>\n",
       "      <td>7.0</td>\n",
       "      <td>12.0</td>\n",
       "    </tr>\n",
       "    <tr>\n",
       "      <th>5</th>\n",
       "      <td>6</td>\n",
       "      <td>8ef31752-0f0c-415e-b4ad-208818d61c69</td>\n",
       "      <td>NaN</td>\n",
       "      <td>None</td>\n",
       "      <td>NaN</td>\n",
       "      <td>None</td>\n",
       "      <td>None</td>\n",
       "      <td>2</td>\n",
       "      <td>7.0</td>\n",
       "      <td>13.0</td>\n",
       "    </tr>\n",
       "    <tr>\n",
       "      <th>6</th>\n",
       "      <td>7</td>\n",
       "      <td>1d3824a6-6f96-4897-81d1-cf6f30baad61</td>\n",
       "      <td>NaN</td>\n",
       "      <td>None</td>\n",
       "      <td>NaN</td>\n",
       "      <td>None</td>\n",
       "      <td>None</td>\n",
       "      <td>3</td>\n",
       "      <td>8.0</td>\n",
       "      <td>15.0</td>\n",
       "    </tr>\n",
       "    <tr>\n",
       "      <th>7</th>\n",
       "      <td>8</td>\n",
       "      <td>d7dce989-52e3-413e-ad07-c815a242a331</td>\n",
       "      <td>NaN</td>\n",
       "      <td>None</td>\n",
       "      <td>NaN</td>\n",
       "      <td>None</td>\n",
       "      <td>None</td>\n",
       "      <td>4</td>\n",
       "      <td>9.0</td>\n",
       "      <td>9.0</td>\n",
       "    </tr>\n",
       "    <tr>\n",
       "      <th>8</th>\n",
       "      <td>9</td>\n",
       "      <td>f2b708bc-6b49-4015-944d-6230b5066582</td>\n",
       "      <td>NaN</td>\n",
       "      <td>None</td>\n",
       "      <td>NaN</td>\n",
       "      <td>None</td>\n",
       "      <td>None</td>\n",
       "      <td>5</td>\n",
       "      <td>NaN</td>\n",
       "      <td>NaN</td>\n",
       "    </tr>\n",
       "    <tr>\n",
       "      <th>9</th>\n",
       "      <td>10</td>\n",
       "      <td>b4838fe2-ee89-403a-afd3-5569c050738b</td>\n",
       "      <td>NaN</td>\n",
       "      <td>None</td>\n",
       "      <td>NaN</td>\n",
       "      <td>None</td>\n",
       "      <td>None</td>\n",
       "      <td>6</td>\n",
       "      <td>12.0</td>\n",
       "      <td>NaN</td>\n",
       "    </tr>\n",
       "    <tr>\n",
       "      <th>10</th>\n",
       "      <td>11</td>\n",
       "      <td>d29c6d63-e620-42cc-a6c0-286d9e8d0e83</td>\n",
       "      <td>NaN</td>\n",
       "      <td>None</td>\n",
       "      <td>NaN</td>\n",
       "      <td>None</td>\n",
       "      <td>None</td>\n",
       "      <td>6</td>\n",
       "      <td>13.0</td>\n",
       "      <td>NaN</td>\n",
       "    </tr>\n",
       "    <tr>\n",
       "      <th>11</th>\n",
       "      <td>12</td>\n",
       "      <td>b60fe706-6fd6-4aea-bbbb-f1c94a193bbc</td>\n",
       "      <td>NaN</td>\n",
       "      <td>None</td>\n",
       "      <td>NaN</td>\n",
       "      <td>None</td>\n",
       "      <td>None</td>\n",
       "      <td>7</td>\n",
       "      <td>14.0</td>\n",
       "      <td>NaN</td>\n",
       "    </tr>\n",
       "    <tr>\n",
       "      <th>12</th>\n",
       "      <td>13</td>\n",
       "      <td>da5fb377-b721-4009-a4d7-72fe8606a30d</td>\n",
       "      <td>NaN</td>\n",
       "      <td>None</td>\n",
       "      <td>NaN</td>\n",
       "      <td>None</td>\n",
       "      <td>None</td>\n",
       "      <td>7</td>\n",
       "      <td>14.0</td>\n",
       "      <td>NaN</td>\n",
       "    </tr>\n",
       "    <tr>\n",
       "      <th>13</th>\n",
       "      <td>14</td>\n",
       "      <td>8724e50e-b480-4e42-8b81-52e63b5fa3f3</td>\n",
       "      <td>NaN</td>\n",
       "      <td>None</td>\n",
       "      <td>NaN</td>\n",
       "      <td>None</td>\n",
       "      <td>None</td>\n",
       "      <td>8</td>\n",
       "      <td>15.0</td>\n",
       "      <td>NaN</td>\n",
       "    </tr>\n",
       "    <tr>\n",
       "      <th>14</th>\n",
       "      <td>15</td>\n",
       "      <td>a039d02d-5488-4b6b-8a04-136da07269aa</td>\n",
       "      <td>NaN</td>\n",
       "      <td>None</td>\n",
       "      <td>NaN</td>\n",
       "      <td>None</td>\n",
       "      <td>None</td>\n",
       "      <td>9</td>\n",
       "      <td>8.0</td>\n",
       "      <td>NaN</td>\n",
       "    </tr>\n",
       "  </tbody>\n",
       "</table>\n",
       "</div>"
      ],
      "text/plain": [
       "    id                                  uuid  user_1 user_1_score  user_2  \\\n",
       "0    1  0f2d2f07-f213-4a25-951b-060e86ca5a14     8.0         None     3.0   \n",
       "1    2  c6d7fb14-2d98-4740-b949-a509dbd01755     5.0         None     7.0   \n",
       "2    3  8133c2ed-940f-4fb8-839b-286aabab15b4     6.0         None     4.0   \n",
       "3    4  fb913a08-ca10-4eac-b58e-c9e37ef83da4     2.0         None     9.0   \n",
       "4    5  77780c3a-c819-41e0-b4a9-659cb83668a0     NaN         None     NaN   \n",
       "5    6  8ef31752-0f0c-415e-b4ad-208818d61c69     NaN         None     NaN   \n",
       "6    7  1d3824a6-6f96-4897-81d1-cf6f30baad61     NaN         None     NaN   \n",
       "7    8  d7dce989-52e3-413e-ad07-c815a242a331     NaN         None     NaN   \n",
       "8    9  f2b708bc-6b49-4015-944d-6230b5066582     NaN         None     NaN   \n",
       "9   10  b4838fe2-ee89-403a-afd3-5569c050738b     NaN         None     NaN   \n",
       "10  11  d29c6d63-e620-42cc-a6c0-286d9e8d0e83     NaN         None     NaN   \n",
       "11  12  b60fe706-6fd6-4aea-bbbb-f1c94a193bbc     NaN         None     NaN   \n",
       "12  13  da5fb377-b721-4009-a4d7-72fe8606a30d     NaN         None     NaN   \n",
       "13  14  8724e50e-b480-4e42-8b81-52e63b5fa3f3     NaN         None     NaN   \n",
       "14  15  a039d02d-5488-4b6b-8a04-136da07269aa     NaN         None     NaN   \n",
       "\n",
       "   user_2_score winner  round_id  winner_advance_to  loser_advance_to  \n",
       "0          None   None         1                5.0              10.0  \n",
       "1          None   None         1                5.0              10.0  \n",
       "2          None   None         1                6.0              11.0  \n",
       "3          None   None         1                6.0              11.0  \n",
       "4          None   None         2                7.0              12.0  \n",
       "5          None   None         2                7.0              13.0  \n",
       "6          None   None         3                8.0              15.0  \n",
       "7          None   None         4                9.0               9.0  \n",
       "8          None   None         5                NaN               NaN  \n",
       "9          None   None         6               12.0               NaN  \n",
       "10         None   None         6               13.0               NaN  \n",
       "11         None   None         7               14.0               NaN  \n",
       "12         None   None         7               14.0               NaN  \n",
       "13         None   None         8               15.0               NaN  \n",
       "14         None   None         9                8.0               NaN  "
      ]
     },
     "execution_count": 34,
     "metadata": {},
     "output_type": "execute_result"
    }
   ],
   "source": [
    "pd.read_sql_query(f'select * from match', cnx)"
   ]
  },
  {
   "cell_type": "code",
   "execution_count": 35,
   "metadata": {},
   "outputs": [
    {
     "data": {
      "text/html": [
       "<div>\n",
       "<style scoped>\n",
       "    .dataframe tbody tr th:only-of-type {\n",
       "        vertical-align: middle;\n",
       "    }\n",
       "\n",
       "    .dataframe tbody tr th {\n",
       "        vertical-align: top;\n",
       "    }\n",
       "\n",
       "    .dataframe thead th {\n",
       "        text-align: right;\n",
       "    }\n",
       "</style>\n",
       "<table border=\"1\" class=\"dataframe\">\n",
       "  <thead>\n",
       "    <tr style=\"text-align: right;\">\n",
       "      <th></th>\n",
       "      <th>id</th>\n",
       "      <th>tournament_name</th>\n",
       "      <th>tournament_id</th>\n",
       "      <th>to_id</th>\n",
       "    </tr>\n",
       "  </thead>\n",
       "  <tbody>\n",
       "  </tbody>\n",
       "</table>\n",
       "</div>"
      ],
      "text/plain": [
       "Empty DataFrame\n",
       "Columns: [id, tournament_name, tournament_id, to_id]\n",
       "Index: []"
      ]
     },
     "execution_count": 35,
     "metadata": {},
     "output_type": "execute_result"
    }
   ],
   "source": [
    "pd.read_sql_query(f'select * from lobby', cnx)"
   ]
  },
  {
   "cell_type": "code",
   "execution_count": 36,
   "metadata": {},
   "outputs": [
    {
     "data": {
      "text/html": [
       "<div>\n",
       "<style scoped>\n",
       "    .dataframe tbody tr th:only-of-type {\n",
       "        vertical-align: middle;\n",
       "    }\n",
       "\n",
       "    .dataframe tbody tr th {\n",
       "        vertical-align: top;\n",
       "    }\n",
       "\n",
       "    .dataframe thead th {\n",
       "        text-align: right;\n",
       "    }\n",
       "</style>\n",
       "<table border=\"1\" class=\"dataframe\">\n",
       "  <thead>\n",
       "    <tr style=\"text-align: right;\">\n",
       "      <th></th>\n",
       "      <th>id</th>\n",
       "      <th>user_id</th>\n",
       "      <th>lobby_id</th>\n",
       "      <th>seed</th>\n",
       "    </tr>\n",
       "  </thead>\n",
       "  <tbody>\n",
       "  </tbody>\n",
       "</table>\n",
       "</div>"
      ],
      "text/plain": [
       "Empty DataFrame\n",
       "Columns: [id, user_id, lobby_id, seed]\n",
       "Index: []"
      ]
     },
     "execution_count": 36,
     "metadata": {},
     "output_type": "execute_result"
    }
   ],
   "source": [
    "pd.read_sql_query(f'select * from lobby_seeds', cnx)"
   ]
  }
 ],
 "metadata": {
  "kernelspec": {
   "display_name": "venv",
   "language": "python",
   "name": "venv"
  },
  "language_info": {
   "codemirror_mode": {
    "name": "ipython",
    "version": 3
   },
   "file_extension": ".py",
   "mimetype": "text/x-python",
   "name": "python",
   "nbconvert_exporter": "python",
   "pygments_lexer": "ipython3",
   "version": "3.6.9"
  }
 },
 "nbformat": 4,
 "nbformat_minor": 4
}
