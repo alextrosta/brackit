{
 "cells": [
  {
   "cell_type": "code",
   "execution_count": null,
   "metadata": {},
   "outputs": [],
   "source": [
    "%load_ext autoreload\n",
    "%autoreload 2"
   ]
  },
  {
   "cell_type": "code",
   "execution_count": 2,
   "metadata": {},
   "outputs": [],
   "source": [
    "from app import db\n",
    "import numpy as np\n",
    "\n",
    "from app.models import Tournament as TournamentModel\n",
    "from app.models import Bracket as BracketModel\n",
    "from app.models import Match as MatchModel\n",
    "from app.models import Round as RoundModel\n",
    "from app.models import User as UserModel\n",
    "\n",
    "from tournament import Tournament\n",
    "\n",
    "import numpy as np\n",
    "\n",
    "from sqlalchemy.sql.expression import func, select\n",
    "\n",
    "from tournament import (\n",
    "    BracketTypes,\n",
    "    Tournament,\n",
    "    Match\n",
    ")\n",
    "import sqlite3\n",
    "import pandas as pd\n",
    "import uuid\n",
    "import requests\n",
    "import json\n",
    "import random\n"
   ]
  },
  {
   "cell_type": "code",
   "execution_count": 3,
   "metadata": {},
   "outputs": [],
   "source": [
    "db.session.close()"
   ]
  },
  {
   "cell_type": "code",
   "execution_count": 4,
   "metadata": {},
   "outputs": [],
   "source": [
    "def purge(Model):\n",
    "    [db.session.delete(row) for row in Model.query.all()]"
   ]
  },
  {
   "cell_type": "code",
   "execution_count": 5,
   "metadata": {},
   "outputs": [
    {
     "name": "stdout",
     "output_type": "stream",
     "text": [
      "<class 'app.models.Bracket'>\n",
      "<class 'app.models.Tournament'>\n",
      "<class 'app.models.Match'>\n",
      "<class 'app.models.Round'>\n",
      "<class 'app.models.User'>\n"
     ]
    }
   ],
   "source": [
    "# purge all tables first\n",
    "\n",
    "for Model in [BracketModel, TournamentModel, MatchModel, RoundModel, UserModel]:\n",
    "    print(Model)\n",
    "    purge(Model)\n",
    "db.session.commit()"
   ]
  },
  {
   "cell_type": "code",
   "execution_count": 6,
   "metadata": {},
   "outputs": [
    {
     "data": {
      "text/html": [
       "<div>\n",
       "<style scoped>\n",
       "    .dataframe tbody tr th:only-of-type {\n",
       "        vertical-align: middle;\n",
       "    }\n",
       "\n",
       "    .dataframe tbody tr th {\n",
       "        vertical-align: top;\n",
       "    }\n",
       "\n",
       "    .dataframe thead th {\n",
       "        text-align: right;\n",
       "    }\n",
       "</style>\n",
       "<table border=\"1\" class=\"dataframe\">\n",
       "  <thead>\n",
       "    <tr style=\"text-align: right;\">\n",
       "      <th></th>\n",
       "      <th>id</th>\n",
       "      <th>role</th>\n",
       "      <th>username</th>\n",
       "      <th>email</th>\n",
       "      <th>password_hash</th>\n",
       "      <th>about_me</th>\n",
       "      <th>last_seen</th>\n",
       "    </tr>\n",
       "  </thead>\n",
       "  <tbody>\n",
       "  </tbody>\n",
       "</table>\n",
       "</div>"
      ],
      "text/plain": [
       "Empty DataFrame\n",
       "Columns: [id, role, username, email, password_hash, about_me, last_seen]\n",
       "Index: []"
      ]
     },
     "execution_count": 6,
     "metadata": {},
     "output_type": "execute_result"
    }
   ],
   "source": [
    "# Create the connection\n",
    "cnx = sqlite3.connect(r'./app.db')\n",
    "\n",
    "q = \\\n",
    "\"\"\"\n",
    "    select * from user where\n",
    "    username like '%TPN%'\n",
    "\"\"\"\n",
    "q = \\\n",
    "\"\"\"\n",
    "    select * from user\n",
    "\"\"\"\n",
    "# create the dataframe from a query\n",
    "df = pd.read_sql_query(q, cnx)\n",
    "\n",
    "# print empty user table\n",
    "df"
   ]
  },
  {
   "cell_type": "code",
   "execution_count": 7,
   "metadata": {},
   "outputs": [],
   "source": [
    "# register user like\n",
    "# curl -i -X POST -H \"Content-Type: application/json\" -d '{\"username\":\"miguel\",\"password\":\"python\"}' http://127.0.0.1:5000/api/users"
   ]
  },
  {
   "cell_type": "code",
   "execution_count": 8,
   "metadata": {},
   "outputs": [],
   "source": [
    "url = 'http://127.0.0.1:5000/api/users'\n",
    "headers = {'content-type': 'application/json', 'Accept-Charset': 'UTF-8'}\n",
    "payload = json.dumps({\n",
    "    \"username\":\"miguel\",\n",
    "    \"password\":\"python\",\n",
    "    \"email\":\"miguel@gmail.com\"\n",
    "})\n",
    "\n",
    "r = requests.post(url, data=payload, headers=headers)"
   ]
  },
  {
   "cell_type": "code",
   "execution_count": 9,
   "metadata": {},
   "outputs": [
    {
     "data": {
      "text/html": [
       "<div>\n",
       "<style scoped>\n",
       "    .dataframe tbody tr th:only-of-type {\n",
       "        vertical-align: middle;\n",
       "    }\n",
       "\n",
       "    .dataframe tbody tr th {\n",
       "        vertical-align: top;\n",
       "    }\n",
       "\n",
       "    .dataframe thead th {\n",
       "        text-align: right;\n",
       "    }\n",
       "</style>\n",
       "<table border=\"1\" class=\"dataframe\">\n",
       "  <thead>\n",
       "    <tr style=\"text-align: right;\">\n",
       "      <th></th>\n",
       "      <th>id</th>\n",
       "      <th>role</th>\n",
       "      <th>username</th>\n",
       "      <th>email</th>\n",
       "      <th>password_hash</th>\n",
       "      <th>about_me</th>\n",
       "      <th>last_seen</th>\n",
       "    </tr>\n",
       "  </thead>\n",
       "  <tbody>\n",
       "    <tr>\n",
       "      <th>0</th>\n",
       "      <td>1</td>\n",
       "      <td>User</td>\n",
       "      <td>miguel</td>\n",
       "      <td>miguel@gmail.com</td>\n",
       "      <td>pbkdf2:sha256:150000$3YTworc0$9b450d0f0f7d6858...</td>\n",
       "      <td>None</td>\n",
       "      <td>2020-03-23 22:35:20.528096</td>\n",
       "    </tr>\n",
       "  </tbody>\n",
       "</table>\n",
       "</div>"
      ],
      "text/plain": [
       "   id  role username             email  \\\n",
       "0   1  User   miguel  miguel@gmail.com   \n",
       "\n",
       "                                       password_hash about_me  \\\n",
       "0  pbkdf2:sha256:150000$3YTworc0$9b450d0f0f7d6858...     None   \n",
       "\n",
       "                    last_seen  \n",
       "0  2020-03-23 22:35:20.528096  "
      ]
     },
     "execution_count": 9,
     "metadata": {},
     "output_type": "execute_result"
    }
   ],
   "source": [
    "# create the dataframe from a query\n",
    "df = pd.read_sql_query(q, cnx)\n",
    "\n",
    "# print empty user table\n",
    "df\n"
   ]
  },
  {
   "cell_type": "code",
   "execution_count": 10,
   "metadata": {},
   "outputs": [
    {
     "data": {
      "text/plain": [
       "'http://127.0.0.1:5000/api/user/1'"
      ]
     },
     "execution_count": 10,
     "metadata": {},
     "output_type": "execute_result"
    }
   ],
   "source": [
    "r.headers['location']"
   ]
  },
  {
   "cell_type": "code",
   "execution_count": 11,
   "metadata": {},
   "outputs": [],
   "source": [
    "# post the rest of the users\n",
    "users = [\n",
    "    ('TPN', 'TPN@example.com'),\n",
    "    ('AngryFalco', 'AngryFalco@example.com'),\n",
    "    ('Sunrisebanana', 'Sunrisebanana@example.com'),\n",
    "    ('Ptolemy', 'Ptolemy@example.com'),\n",
    "    ('Vik', 'Vik@example.com'),\n",
    "    ('Kevin', 'Kevin@example.com'),\n",
    "    ('Spaceghost', 'Spaceghost@example.com'),\n",
    "    ('Burnaby', 'Burnaby@example.com'),\n",
    "]\n",
    "\n",
    "for username, email in users:\n",
    "    payload = json.dumps({\n",
    "        \"username\":username,\n",
    "        \"password\":username.lower(),\n",
    "        \"email\":email.lower()\n",
    "    })\n",
    "\n",
    "    r = requests.post(url, data=payload, headers=headers)\n",
    "#     print(vars(r))"
   ]
  },
  {
   "cell_type": "code",
   "execution_count": 12,
   "metadata": {},
   "outputs": [
    {
     "data": {
      "text/html": [
       "<div>\n",
       "<style scoped>\n",
       "    .dataframe tbody tr th:only-of-type {\n",
       "        vertical-align: middle;\n",
       "    }\n",
       "\n",
       "    .dataframe tbody tr th {\n",
       "        vertical-align: top;\n",
       "    }\n",
       "\n",
       "    .dataframe thead th {\n",
       "        text-align: right;\n",
       "    }\n",
       "</style>\n",
       "<table border=\"1\" class=\"dataframe\">\n",
       "  <thead>\n",
       "    <tr style=\"text-align: right;\">\n",
       "      <th></th>\n",
       "      <th>id</th>\n",
       "      <th>role</th>\n",
       "      <th>username</th>\n",
       "      <th>email</th>\n",
       "      <th>password_hash</th>\n",
       "      <th>about_me</th>\n",
       "      <th>last_seen</th>\n",
       "    </tr>\n",
       "  </thead>\n",
       "  <tbody>\n",
       "    <tr>\n",
       "      <th>0</th>\n",
       "      <td>1</td>\n",
       "      <td>User</td>\n",
       "      <td>miguel</td>\n",
       "      <td>miguel@gmail.com</td>\n",
       "      <td>pbkdf2:sha256:150000$3YTworc0$9b450d0f0f7d6858...</td>\n",
       "      <td>None</td>\n",
       "      <td>2020-03-23 22:35:20.528096</td>\n",
       "    </tr>\n",
       "    <tr>\n",
       "      <th>1</th>\n",
       "      <td>2</td>\n",
       "      <td>User</td>\n",
       "      <td>TPN</td>\n",
       "      <td>tpn@example.com</td>\n",
       "      <td>pbkdf2:sha256:150000$4wzxlnD4$bc05cb6444d54aac...</td>\n",
       "      <td>None</td>\n",
       "      <td>2020-03-23 22:35:20.953799</td>\n",
       "    </tr>\n",
       "    <tr>\n",
       "      <th>2</th>\n",
       "      <td>3</td>\n",
       "      <td>User</td>\n",
       "      <td>AngryFalco</td>\n",
       "      <td>angryfalco@example.com</td>\n",
       "      <td>pbkdf2:sha256:150000$RkGYtixR$ef7033e46a27bbc4...</td>\n",
       "      <td>None</td>\n",
       "      <td>2020-03-23 22:35:21.248119</td>\n",
       "    </tr>\n",
       "    <tr>\n",
       "      <th>3</th>\n",
       "      <td>4</td>\n",
       "      <td>User</td>\n",
       "      <td>Sunrisebanana</td>\n",
       "      <td>sunrisebanana@example.com</td>\n",
       "      <td>pbkdf2:sha256:150000$AS8nVKYd$9fa4088f91634e50...</td>\n",
       "      <td>None</td>\n",
       "      <td>2020-03-23 22:35:21.401728</td>\n",
       "    </tr>\n",
       "    <tr>\n",
       "      <th>4</th>\n",
       "      <td>5</td>\n",
       "      <td>User</td>\n",
       "      <td>Ptolemy</td>\n",
       "      <td>ptolemy@example.com</td>\n",
       "      <td>pbkdf2:sha256:150000$GJyRhpWx$95833b39241e3931...</td>\n",
       "      <td>None</td>\n",
       "      <td>2020-03-23 22:35:21.499937</td>\n",
       "    </tr>\n",
       "    <tr>\n",
       "      <th>5</th>\n",
       "      <td>6</td>\n",
       "      <td>User</td>\n",
       "      <td>Vik</td>\n",
       "      <td>vik@example.com</td>\n",
       "      <td>pbkdf2:sha256:150000$P3pOfCWo$785c09a1fb600034...</td>\n",
       "      <td>None</td>\n",
       "      <td>2020-03-23 22:35:21.583449</td>\n",
       "    </tr>\n",
       "    <tr>\n",
       "      <th>6</th>\n",
       "      <td>7</td>\n",
       "      <td>User</td>\n",
       "      <td>Kevin</td>\n",
       "      <td>kevin@example.com</td>\n",
       "      <td>pbkdf2:sha256:150000$kb4t9pal$383ad35d2d64acbe...</td>\n",
       "      <td>None</td>\n",
       "      <td>2020-03-23 22:35:21.669998</td>\n",
       "    </tr>\n",
       "    <tr>\n",
       "      <th>7</th>\n",
       "      <td>8</td>\n",
       "      <td>User</td>\n",
       "      <td>Spaceghost</td>\n",
       "      <td>spaceghost@example.com</td>\n",
       "      <td>pbkdf2:sha256:150000$hRxyvTAW$96808b5b78bf1195...</td>\n",
       "      <td>None</td>\n",
       "      <td>2020-03-23 22:35:21.771172</td>\n",
       "    </tr>\n",
       "    <tr>\n",
       "      <th>8</th>\n",
       "      <td>9</td>\n",
       "      <td>User</td>\n",
       "      <td>Burnaby</td>\n",
       "      <td>burnaby@example.com</td>\n",
       "      <td>pbkdf2:sha256:150000$Do1HW6Oi$3fa44281753d6f31...</td>\n",
       "      <td>None</td>\n",
       "      <td>2020-03-23 22:35:21.887128</td>\n",
       "    </tr>\n",
       "  </tbody>\n",
       "</table>\n",
       "</div>"
      ],
      "text/plain": [
       "   id  role       username                      email  \\\n",
       "0   1  User         miguel           miguel@gmail.com   \n",
       "1   2  User            TPN            tpn@example.com   \n",
       "2   3  User     AngryFalco     angryfalco@example.com   \n",
       "3   4  User  Sunrisebanana  sunrisebanana@example.com   \n",
       "4   5  User        Ptolemy        ptolemy@example.com   \n",
       "5   6  User            Vik            vik@example.com   \n",
       "6   7  User          Kevin          kevin@example.com   \n",
       "7   8  User     Spaceghost     spaceghost@example.com   \n",
       "8   9  User        Burnaby        burnaby@example.com   \n",
       "\n",
       "                                       password_hash about_me  \\\n",
       "0  pbkdf2:sha256:150000$3YTworc0$9b450d0f0f7d6858...     None   \n",
       "1  pbkdf2:sha256:150000$4wzxlnD4$bc05cb6444d54aac...     None   \n",
       "2  pbkdf2:sha256:150000$RkGYtixR$ef7033e46a27bbc4...     None   \n",
       "3  pbkdf2:sha256:150000$AS8nVKYd$9fa4088f91634e50...     None   \n",
       "4  pbkdf2:sha256:150000$GJyRhpWx$95833b39241e3931...     None   \n",
       "5  pbkdf2:sha256:150000$P3pOfCWo$785c09a1fb600034...     None   \n",
       "6  pbkdf2:sha256:150000$kb4t9pal$383ad35d2d64acbe...     None   \n",
       "7  pbkdf2:sha256:150000$hRxyvTAW$96808b5b78bf1195...     None   \n",
       "8  pbkdf2:sha256:150000$Do1HW6Oi$3fa44281753d6f31...     None   \n",
       "\n",
       "                    last_seen  \n",
       "0  2020-03-23 22:35:20.528096  \n",
       "1  2020-03-23 22:35:20.953799  \n",
       "2  2020-03-23 22:35:21.248119  \n",
       "3  2020-03-23 22:35:21.401728  \n",
       "4  2020-03-23 22:35:21.499937  \n",
       "5  2020-03-23 22:35:21.583449  \n",
       "6  2020-03-23 22:35:21.669998  \n",
       "7  2020-03-23 22:35:21.771172  \n",
       "8  2020-03-23 22:35:21.887128  "
      ]
     },
     "execution_count": 12,
     "metadata": {},
     "output_type": "execute_result"
    }
   ],
   "source": [
    "# posted a user\n",
    "df = pd.read_sql_query(q, cnx)\n",
    "df"
   ]
  },
  {
   "cell_type": "code",
   "execution_count": 13,
   "metadata": {},
   "outputs": [
    {
     "data": {
      "text/html": [
       "<div>\n",
       "<style scoped>\n",
       "    .dataframe tbody tr th:only-of-type {\n",
       "        vertical-align: middle;\n",
       "    }\n",
       "\n",
       "    .dataframe tbody tr th {\n",
       "        vertical-align: top;\n",
       "    }\n",
       "\n",
       "    .dataframe thead th {\n",
       "        text-align: right;\n",
       "    }\n",
       "</style>\n",
       "<table border=\"1\" class=\"dataframe\">\n",
       "  <thead>\n",
       "    <tr style=\"text-align: right;\">\n",
       "      <th></th>\n",
       "      <th>id</th>\n",
       "      <th>user_id</th>\n",
       "      <th>lobby_id</th>\n",
       "      <th>seed</th>\n",
       "    </tr>\n",
       "  </thead>\n",
       "  <tbody>\n",
       "  </tbody>\n",
       "</table>\n",
       "</div>"
      ],
      "text/plain": [
       "Empty DataFrame\n",
       "Columns: [id, user_id, lobby_id, seed]\n",
       "Index: []"
      ]
     },
     "execution_count": 13,
     "metadata": {},
     "output_type": "execute_result"
    }
   ],
   "source": [
    "q = \"\"\"\n",
    "select * from lobby_seeds\n",
    "\"\"\"\n",
    "# posted a user\n",
    "df = pd.read_sql_query(q, cnx)\n",
    "df"
   ]
  },
  {
   "cell_type": "code",
   "execution_count": 14,
   "metadata": {},
   "outputs": [
    {
     "data": {
      "text/plain": [
       "'http://127.0.0.1:5000/api/user/9'"
      ]
     },
     "execution_count": 14,
     "metadata": {},
     "output_type": "execute_result"
    }
   ],
   "source": [
    "# whenever a user registers, the response contains the url to that user's homepage\n",
    "r.headers['location']"
   ]
  },
  {
   "cell_type": "code",
   "execution_count": 15,
   "metadata": {},
   "outputs": [],
   "source": [
    "# login with miguel credentials\n",
    "# i.e. curl -u miguel:python -i -X GET http://127.0.0.1:5000/api/login\n",
    "\n",
    "url = 'http://127.0.0.1:5000/api/login'\n",
    "\n",
    "r = requests.get(url, auth=('miguel', 'python'))"
   ]
  },
  {
   "cell_type": "code",
   "execution_count": 16,
   "metadata": {},
   "outputs": [],
   "source": [
    "# or get a token\n",
    "# i.e. curl -u miguel:python -i -X GET http://127.0.0.1:5000/api/token"
   ]
  },
  {
   "cell_type": "code",
   "execution_count": 17,
   "metadata": {},
   "outputs": [
    {
     "data": {
      "text/plain": [
       "'eyJhbGciOiJIUzUxMiIsImlhdCI6MTU4NTAwMjkyMiwiZXhwIjoxNTg1MDA2NTIyfQ.eyJpZCI6MX0.QV3SHMVwHzx0I-wlHAyIkuBOZv7YyGfIgJGmUEHZP0-rHs4xgMK-5y8tFLh7kBlycQybbO5XYw9azre04gJ1wg'"
      ]
     },
     "execution_count": 17,
     "metadata": {},
     "output_type": "execute_result"
    }
   ],
   "source": [
    "url = 'http://127.0.0.1:5000/api/token'\n",
    "r = requests.get(url, auth=('miguel', 'python'))\n",
    "tkn = json.loads(r.content)['token']\n",
    "tkn"
   ]
  },
  {
   "cell_type": "code",
   "execution_count": 18,
   "metadata": {},
   "outputs": [],
   "source": [
    "# now this user can login with a token\n",
    "url = 'http://127.0.0.1:5000/api/login'\n",
    "\n",
    "r = requests.get(url, auth=(tkn, 'unused'))"
   ]
  },
  {
   "cell_type": "code",
   "execution_count": 19,
   "metadata": {},
   "outputs": [
    {
     "data": {
      "text/plain": [
       "b'{\"Unique Constraint Failed\":\"User \\\\\"1\\\\\" already created tournament \\\\\"miguel\\'s tourney\\\\\"\"}\\n'"
      ]
     },
     "execution_count": 19,
     "metadata": {},
     "output_type": "execute_result"
    }
   ],
   "source": [
    "# miguel creates lobby\n",
    "\n",
    "url = 'http://127.0.0.1:5000/api/create/lobby/'\n",
    "headers = {'content-type': 'application/json', 'Accept-Charset': 'UTF-8'}\n",
    "payload = json.dumps({\n",
    "    \"tournament_name\" : \"miguel's tourney\"\n",
    "})\n",
    "r = requests.post(url, data=payload, headers=headers, auth=(tkn, 'unused'))\n",
    "r.content"
   ]
  },
  {
   "cell_type": "code",
   "execution_count": 20,
   "metadata": {},
   "outputs": [
    {
     "data": {
      "text/html": [
       "<div>\n",
       "<style scoped>\n",
       "    .dataframe tbody tr th:only-of-type {\n",
       "        vertical-align: middle;\n",
       "    }\n",
       "\n",
       "    .dataframe tbody tr th {\n",
       "        vertical-align: top;\n",
       "    }\n",
       "\n",
       "    .dataframe thead th {\n",
       "        text-align: right;\n",
       "    }\n",
       "</style>\n",
       "<table border=\"1\" class=\"dataframe\">\n",
       "  <thead>\n",
       "    <tr style=\"text-align: right;\">\n",
       "      <th></th>\n",
       "      <th>id</th>\n",
       "      <th>tournament_name</th>\n",
       "      <th>tournament_id</th>\n",
       "      <th>to_id</th>\n",
       "    </tr>\n",
       "  </thead>\n",
       "  <tbody>\n",
       "    <tr>\n",
       "      <th>0</th>\n",
       "      <td>1</td>\n",
       "      <td>miguel's tourney</td>\n",
       "      <td>None</td>\n",
       "      <td>1</td>\n",
       "    </tr>\n",
       "  </tbody>\n",
       "</table>\n",
       "</div>"
      ],
      "text/plain": [
       "   id   tournament_name tournament_id  to_id\n",
       "0   1  miguel's tourney          None      1"
      ]
     },
     "execution_count": 20,
     "metadata": {},
     "output_type": "execute_result"
    }
   ],
   "source": [
    "q = \\\n",
    "\"\"\"\n",
    "    select * from lobby\n",
    "\"\"\"\n",
    "\n",
    "# posted a user\n",
    "df = pd.read_sql_query(q, cnx)\n",
    "df"
   ]
  },
  {
   "cell_type": "code",
   "execution_count": 21,
   "metadata": {},
   "outputs": [],
   "source": [
    "# now this user will create a tournament"
   ]
  },
  {
   "cell_type": "code",
   "execution_count": 22,
   "metadata": {},
   "outputs": [],
   "source": [
    "# Fall Charity LAN 2018 Melee Singles users\n",
    "N_COMPETITORS = 8\n",
    "seeds = [i+1 for i in range(N_COMPETITORS)]\n",
    "usernames = [\n",
    "    'TPN',\n",
    "    'AngryFalco',\n",
    "    'Sunrisebanana',\n",
    "    'Ptolemy',\n",
    "    'Vik',\n",
    "    'Kevin',\n",
    "    'Spaceghost',\n",
    "    'Burnaby',\n",
    "]\n",
    "np.random.shuffle(usernames)\n",
    "np.random.shuffle(seeds)"
   ]
  },
  {
   "cell_type": "code",
   "execution_count": 23,
   "metadata": {},
   "outputs": [],
   "source": [
    "tuple_list = [(usernames[i], seeds[i]) for i in range(N_COMPETITORS)]"
   ]
  },
  {
   "cell_type": "code",
   "execution_count": 24,
   "metadata": {},
   "outputs": [
    {
     "data": {
      "text/plain": [
       "[('TPN', 5),\n",
       " ('AngryFalco', 1),\n",
       " ('Kevin', 4),\n",
       " ('Burnaby', 2),\n",
       " ('Spaceghost', 8),\n",
       " ('Ptolemy', 6),\n",
       " ('Vik', 7),\n",
       " ('Sunrisebanana', 3)]"
      ]
     },
     "execution_count": 24,
     "metadata": {},
     "output_type": "execute_result"
    }
   ],
   "source": [
    "# this our bracket (input to bracket creation):\n",
    "tuple_list"
   ]
  },
  {
   "cell_type": "code",
   "execution_count": 25,
   "metadata": {},
   "outputs": [
    {
     "data": {
      "text/plain": [
       "<Response [200]>"
      ]
     },
     "execution_count": 25,
     "metadata": {},
     "output_type": "execute_result"
    }
   ],
   "source": [
    "# create a json payload from the tuple list\n",
    "url = 'http://127.0.0.1:5000/api/created-tournaments/'\n",
    "headers = {'content-type': 'application/json', 'Accept-Charset': 'UTF-8'}\n",
    "payload = json.dumps({\n",
    "    \"users\":usernames,\n",
    "    \"seeds\":seeds,\n",
    "    \"tournament_name\":\"Fall Charity LAN 2018 Melee Singles\"\n",
    "})\n",
    "r = requests.post(url, data=payload, headers=headers, auth=(tkn, 'unused'))\n",
    "r"
   ]
  },
  {
   "cell_type": "code",
   "execution_count": 26,
   "metadata": {},
   "outputs": [],
   "source": [
    "q = \\\n",
    "\"\"\"\n",
    "    select * from match where user_1 and user_2\n",
    "\"\"\""
   ]
  },
  {
   "cell_type": "code",
   "execution_count": 27,
   "metadata": {},
   "outputs": [
    {
     "data": {
      "text/html": [
       "<div>\n",
       "<style scoped>\n",
       "    .dataframe tbody tr th:only-of-type {\n",
       "        vertical-align: middle;\n",
       "    }\n",
       "\n",
       "    .dataframe tbody tr th {\n",
       "        vertical-align: top;\n",
       "    }\n",
       "\n",
       "    .dataframe thead th {\n",
       "        text-align: right;\n",
       "    }\n",
       "</style>\n",
       "<table border=\"1\" class=\"dataframe\">\n",
       "  <thead>\n",
       "    <tr style=\"text-align: right;\">\n",
       "      <th></th>\n",
       "      <th>id</th>\n",
       "      <th>uuid</th>\n",
       "      <th>user_1</th>\n",
       "      <th>user_1_score</th>\n",
       "      <th>user_2</th>\n",
       "      <th>user_2_score</th>\n",
       "      <th>winner</th>\n",
       "      <th>round_id</th>\n",
       "      <th>winner_advance_to</th>\n",
       "      <th>loser_advance_to</th>\n",
       "    </tr>\n",
       "  </thead>\n",
       "  <tbody>\n",
       "    <tr>\n",
       "      <th>0</th>\n",
       "      <td>1</td>\n",
       "      <td>cc71d1e6-4af4-4e9c-a730-188d13c207dd</td>\n",
       "      <td>3</td>\n",
       "      <td>None</td>\n",
       "      <td>8</td>\n",
       "      <td>None</td>\n",
       "      <td>None</td>\n",
       "      <td>1</td>\n",
       "      <td>5</td>\n",
       "      <td>10</td>\n",
       "    </tr>\n",
       "    <tr>\n",
       "      <th>1</th>\n",
       "      <td>2</td>\n",
       "      <td>acb7d3ba-b2e8-4888-b1e6-91c8d3755b9e</td>\n",
       "      <td>7</td>\n",
       "      <td>None</td>\n",
       "      <td>2</td>\n",
       "      <td>None</td>\n",
       "      <td>None</td>\n",
       "      <td>1</td>\n",
       "      <td>5</td>\n",
       "      <td>10</td>\n",
       "    </tr>\n",
       "    <tr>\n",
       "      <th>2</th>\n",
       "      <td>3</td>\n",
       "      <td>ce5194fa-d616-48de-beb6-8a5e30e10072</td>\n",
       "      <td>9</td>\n",
       "      <td>None</td>\n",
       "      <td>6</td>\n",
       "      <td>None</td>\n",
       "      <td>None</td>\n",
       "      <td>1</td>\n",
       "      <td>6</td>\n",
       "      <td>11</td>\n",
       "    </tr>\n",
       "    <tr>\n",
       "      <th>3</th>\n",
       "      <td>4</td>\n",
       "      <td>788bf752-be66-4abe-a9a5-538e0901272c</td>\n",
       "      <td>4</td>\n",
       "      <td>None</td>\n",
       "      <td>5</td>\n",
       "      <td>None</td>\n",
       "      <td>None</td>\n",
       "      <td>1</td>\n",
       "      <td>6</td>\n",
       "      <td>11</td>\n",
       "    </tr>\n",
       "  </tbody>\n",
       "</table>\n",
       "</div>"
      ],
      "text/plain": [
       "   id                                  uuid  user_1 user_1_score  user_2  \\\n",
       "0   1  cc71d1e6-4af4-4e9c-a730-188d13c207dd       3         None       8   \n",
       "1   2  acb7d3ba-b2e8-4888-b1e6-91c8d3755b9e       7         None       2   \n",
       "2   3  ce5194fa-d616-48de-beb6-8a5e30e10072       9         None       6   \n",
       "3   4  788bf752-be66-4abe-a9a5-538e0901272c       4         None       5   \n",
       "\n",
       "  user_2_score winner  round_id  winner_advance_to  loser_advance_to  \n",
       "0         None   None         1                  5                10  \n",
       "1         None   None         1                  5                10  \n",
       "2         None   None         1                  6                11  \n",
       "3         None   None         1                  6                11  "
      ]
     },
     "execution_count": 27,
     "metadata": {},
     "output_type": "execute_result"
    }
   ],
   "source": [
    "df = pd.read_sql_query(q, cnx)\n",
    "df"
   ]
  },
  {
   "cell_type": "code",
   "execution_count": 28,
   "metadata": {},
   "outputs": [
    {
     "data": {
      "text/plain": [
       "array([1, 2, 3, 4])"
      ]
     },
     "execution_count": 28,
     "metadata": {},
     "output_type": "execute_result"
    }
   ],
   "source": [
    "active_match_ids = df.id.values\n",
    "active_match_ids"
   ]
  },
  {
   "cell_type": "code",
   "execution_count": 29,
   "metadata": {},
   "outputs": [
    {
     "data": {
      "text/plain": [
       "'eyJhbGciOiJIUzUxMiIsImlhdCI6MTU4NTAwMjkyMiwiZXhwIjoxNTg1MDA2NTIyfQ.eyJpZCI6MX0.QV3SHMVwHzx0I-wlHAyIkuBOZv7YyGfIgJGmUEHZP0-rHs4xgMK-5y8tFLh7kBlycQybbO5XYw9azre04gJ1wg'"
      ]
     },
     "execution_count": 29,
     "metadata": {},
     "output_type": "execute_result"
    }
   ],
   "source": [
    "url = 'http://127.0.0.1:5000/api/token'\n",
    "r = requests.get(url, auth=('miguel', 'python'))\n",
    "tkn = json.loads(r.content)['token']\n",
    "tkn"
   ]
  },
  {
   "cell_type": "code",
   "execution_count": 30,
   "metadata": {},
   "outputs": [
    {
     "data": {
      "text/plain": [
       "'eyJhbGciOiJIUzUxMiIsImlhdCI6MTU4NTAwMjkyMiwiZXhwIjoxNTg1MDA2NTIyfQ.eyJpZCI6Mn0.K_5_PznfPROWtLm_4Ynp1DkaUUgjT5q8Toy0dksAQ5BIRQrsg6bopk1Rnl6yK-tO-6UO-k_2T85rPKOpz8s2qg'"
      ]
     },
     "execution_count": 30,
     "metadata": {},
     "output_type": "execute_result"
    }
   ],
   "source": [
    "r = requests.get(url, auth=('TPN', 'tpn'))\n",
    "tkn = json.loads(r.content)['token']\n",
    "tkn"
   ]
  },
  {
   "cell_type": "code",
   "execution_count": 31,
   "metadata": {},
   "outputs": [],
   "source": [
    "payload = json.dumps({\n",
    "        \"entrant1_score\" : 3,\n",
    "        \"entrant2_score\" : 2,\n",
    "        \"winner\" : 9,\n",
    "        \"loser\" : 8\n",
    "})"
   ]
  },
  {
   "cell_type": "code",
   "execution_count": 32,
   "metadata": {},
   "outputs": [
    {
     "data": {
      "text/plain": [
       "b'{\"Access Denied\":\"Only Tournament Organizers can report matches\"}\\n'"
      ]
     },
     "execution_count": 32,
     "metadata": {},
     "output_type": "execute_result"
    }
   ],
   "source": [
    "url = f'http://127.0.0.1:5000/api/match/1/report-match'\n",
    "headers = {'content-type': 'application/json', 'Accept-Charset': 'UTF-8'}\n",
    "r = requests.post(url, data=payload, headers=headers, auth=(tkn, 'unused'))\n",
    "r.content"
   ]
  },
  {
   "cell_type": "code",
   "execution_count": null,
   "metadata": {},
   "outputs": [],
   "source": []
  },
  {
   "cell_type": "code",
   "execution_count": 33,
   "metadata": {},
   "outputs": [],
   "source": [
    "# for i in active_match_ids:\n",
    "#     user_ids = [\n",
    "#         df.loc[df['id'] == i].user_1.values[0],\n",
    "#         df.loc[df['id'] == i].user_2.values[0]\n",
    "#     ]\n",
    "#     scores = random.sample(range(5), 2)\n",
    "#     w_id = user_ids[np.argmax(scores)]\n",
    "#     l_id = user_ids[np.argmin(scores)]\n",
    "# #     print(w_id)\n",
    "# #     print(l_id)\n",
    "#     payload = json.dumps({\n",
    "#         \"entrant1_score\" : str(scores[0]),\n",
    "#         \"entrant2_score\" : str(scores[1]),\n",
    "#         \"winner\" : str(w_id),\n",
    "#         \"loser\" : str(l_id)\n",
    "#     })\n",
    "#     url = f'http://127.0.0.1:5000/api/match/{i}/report-match'\n",
    "#     headers = {'content-type': 'application/json', 'Accept-Charset': 'UTF-8'}\n",
    "#     r = requests.post(url, data=payload, headers=headers, auth=(tkn, 'unused'))\n",
    "#     print(r.content)\n",
    "#     break\n",
    "    "
   ]
  },
  {
   "cell_type": "code",
   "execution_count": 34,
   "metadata": {},
   "outputs": [],
   "source": [
    "# headers = {'content-type': 'application/json', 'Accept-Charset': 'UTF-8'}\n",
    "# payload = json.dumps({\n",
    "#     \"entrant1_score\":4,\n",
    "#     \"entrant2_score\":3,\n",
    "#     \"winner\":,\n",
    "#     \"loser\":,\n",
    "# })"
   ]
  },
  {
   "cell_type": "code",
   "execution_count": 35,
   "metadata": {},
   "outputs": [],
   "source": [
    "\n",
    "# TO = t.bracket.entrants[0]\n",
    "\n",
    "# # initial post to db\n",
    "# t.post_to_db(tournament_name, TO,)"
   ]
  },
  {
   "cell_type": "code",
   "execution_count": 36,
   "metadata": {},
   "outputs": [],
   "source": [
    "# # post self references in matches separately\n",
    "# for r in t.bracket.rounds:\n",
    "#     for m in r.matches:\n",
    "#         m.post_self_refs()"
   ]
  },
  {
   "cell_type": "code",
   "execution_count": 37,
   "metadata": {},
   "outputs": [
    {
     "data": {
      "text/html": [
       "<div>\n",
       "<style scoped>\n",
       "    .dataframe tbody tr th:only-of-type {\n",
       "        vertical-align: middle;\n",
       "    }\n",
       "\n",
       "    .dataframe tbody tr th {\n",
       "        vertical-align: top;\n",
       "    }\n",
       "\n",
       "    .dataframe thead th {\n",
       "        text-align: right;\n",
       "    }\n",
       "</style>\n",
       "<table border=\"1\" class=\"dataframe\">\n",
       "  <thead>\n",
       "    <tr style=\"text-align: right;\">\n",
       "      <th></th>\n",
       "      <th>id</th>\n",
       "      <th>role</th>\n",
       "      <th>username</th>\n",
       "      <th>email</th>\n",
       "      <th>password_hash</th>\n",
       "      <th>about_me</th>\n",
       "      <th>last_seen</th>\n",
       "    </tr>\n",
       "  </thead>\n",
       "  <tbody>\n",
       "    <tr>\n",
       "      <th>0</th>\n",
       "      <td>1</td>\n",
       "      <td>User</td>\n",
       "      <td>miguel</td>\n",
       "      <td>miguel@gmail.com</td>\n",
       "      <td>pbkdf2:sha256:150000$3YTworc0$9b450d0f0f7d6858...</td>\n",
       "      <td>None</td>\n",
       "      <td>2020-03-23 22:35:20.528096</td>\n",
       "    </tr>\n",
       "    <tr>\n",
       "      <th>1</th>\n",
       "      <td>2</td>\n",
       "      <td>User</td>\n",
       "      <td>TPN</td>\n",
       "      <td>tpn@example.com</td>\n",
       "      <td>pbkdf2:sha256:150000$4wzxlnD4$bc05cb6444d54aac...</td>\n",
       "      <td>None</td>\n",
       "      <td>2020-03-23 22:35:20.953799</td>\n",
       "    </tr>\n",
       "    <tr>\n",
       "      <th>2</th>\n",
       "      <td>3</td>\n",
       "      <td>User</td>\n",
       "      <td>AngryFalco</td>\n",
       "      <td>angryfalco@example.com</td>\n",
       "      <td>pbkdf2:sha256:150000$RkGYtixR$ef7033e46a27bbc4...</td>\n",
       "      <td>None</td>\n",
       "      <td>2020-03-23 22:35:21.248119</td>\n",
       "    </tr>\n",
       "    <tr>\n",
       "      <th>3</th>\n",
       "      <td>4</td>\n",
       "      <td>User</td>\n",
       "      <td>Sunrisebanana</td>\n",
       "      <td>sunrisebanana@example.com</td>\n",
       "      <td>pbkdf2:sha256:150000$AS8nVKYd$9fa4088f91634e50...</td>\n",
       "      <td>None</td>\n",
       "      <td>2020-03-23 22:35:21.401728</td>\n",
       "    </tr>\n",
       "    <tr>\n",
       "      <th>4</th>\n",
       "      <td>5</td>\n",
       "      <td>User</td>\n",
       "      <td>Ptolemy</td>\n",
       "      <td>ptolemy@example.com</td>\n",
       "      <td>pbkdf2:sha256:150000$GJyRhpWx$95833b39241e3931...</td>\n",
       "      <td>None</td>\n",
       "      <td>2020-03-23 22:35:21.499937</td>\n",
       "    </tr>\n",
       "    <tr>\n",
       "      <th>5</th>\n",
       "      <td>6</td>\n",
       "      <td>User</td>\n",
       "      <td>Vik</td>\n",
       "      <td>vik@example.com</td>\n",
       "      <td>pbkdf2:sha256:150000$P3pOfCWo$785c09a1fb600034...</td>\n",
       "      <td>None</td>\n",
       "      <td>2020-03-23 22:35:21.583449</td>\n",
       "    </tr>\n",
       "    <tr>\n",
       "      <th>6</th>\n",
       "      <td>7</td>\n",
       "      <td>User</td>\n",
       "      <td>Kevin</td>\n",
       "      <td>kevin@example.com</td>\n",
       "      <td>pbkdf2:sha256:150000$kb4t9pal$383ad35d2d64acbe...</td>\n",
       "      <td>None</td>\n",
       "      <td>2020-03-23 22:35:21.669998</td>\n",
       "    </tr>\n",
       "    <tr>\n",
       "      <th>7</th>\n",
       "      <td>8</td>\n",
       "      <td>User</td>\n",
       "      <td>Spaceghost</td>\n",
       "      <td>spaceghost@example.com</td>\n",
       "      <td>pbkdf2:sha256:150000$hRxyvTAW$96808b5b78bf1195...</td>\n",
       "      <td>None</td>\n",
       "      <td>2020-03-23 22:35:21.771172</td>\n",
       "    </tr>\n",
       "    <tr>\n",
       "      <th>8</th>\n",
       "      <td>9</td>\n",
       "      <td>User</td>\n",
       "      <td>Burnaby</td>\n",
       "      <td>burnaby@example.com</td>\n",
       "      <td>pbkdf2:sha256:150000$Do1HW6Oi$3fa44281753d6f31...</td>\n",
       "      <td>None</td>\n",
       "      <td>2020-03-23 22:35:21.887128</td>\n",
       "    </tr>\n",
       "  </tbody>\n",
       "</table>\n",
       "</div>"
      ],
      "text/plain": [
       "   id  role       username                      email  \\\n",
       "0   1  User         miguel           miguel@gmail.com   \n",
       "1   2  User            TPN            tpn@example.com   \n",
       "2   3  User     AngryFalco     angryfalco@example.com   \n",
       "3   4  User  Sunrisebanana  sunrisebanana@example.com   \n",
       "4   5  User        Ptolemy        ptolemy@example.com   \n",
       "5   6  User            Vik            vik@example.com   \n",
       "6   7  User          Kevin          kevin@example.com   \n",
       "7   8  User     Spaceghost     spaceghost@example.com   \n",
       "8   9  User        Burnaby        burnaby@example.com   \n",
       "\n",
       "                                       password_hash about_me  \\\n",
       "0  pbkdf2:sha256:150000$3YTworc0$9b450d0f0f7d6858...     None   \n",
       "1  pbkdf2:sha256:150000$4wzxlnD4$bc05cb6444d54aac...     None   \n",
       "2  pbkdf2:sha256:150000$RkGYtixR$ef7033e46a27bbc4...     None   \n",
       "3  pbkdf2:sha256:150000$AS8nVKYd$9fa4088f91634e50...     None   \n",
       "4  pbkdf2:sha256:150000$GJyRhpWx$95833b39241e3931...     None   \n",
       "5  pbkdf2:sha256:150000$P3pOfCWo$785c09a1fb600034...     None   \n",
       "6  pbkdf2:sha256:150000$kb4t9pal$383ad35d2d64acbe...     None   \n",
       "7  pbkdf2:sha256:150000$hRxyvTAW$96808b5b78bf1195...     None   \n",
       "8  pbkdf2:sha256:150000$Do1HW6Oi$3fa44281753d6f31...     None   \n",
       "\n",
       "                    last_seen  \n",
       "0  2020-03-23 22:35:20.528096  \n",
       "1  2020-03-23 22:35:20.953799  \n",
       "2  2020-03-23 22:35:21.248119  \n",
       "3  2020-03-23 22:35:21.401728  \n",
       "4  2020-03-23 22:35:21.499937  \n",
       "5  2020-03-23 22:35:21.583449  \n",
       "6  2020-03-23 22:35:21.669998  \n",
       "7  2020-03-23 22:35:21.771172  \n",
       "8  2020-03-23 22:35:21.887128  "
      ]
     },
     "execution_count": 37,
     "metadata": {},
     "output_type": "execute_result"
    }
   ],
   "source": [
    "import sqlite3\n",
    "import pandas as pd\n",
    "\n",
    "# Create the connection\n",
    "cnx = sqlite3.connect(r'./app.db')\n",
    "\n",
    "q = \\\n",
    "\"\"\"\n",
    "    select * from user where\n",
    "    username like '%TPN%'\n",
    "\"\"\"\n",
    "q = \\\n",
    "\"\"\"\n",
    "    select * from user\n",
    "\"\"\"\n",
    "# create the dataframe from a query\n",
    "df = pd.read_sql_query(q, cnx)\n",
    "df"
   ]
  },
  {
   "cell_type": "code",
   "execution_count": 38,
   "metadata": {},
   "outputs": [
    {
     "data": {
      "text/html": [
       "<div>\n",
       "<style scoped>\n",
       "    .dataframe tbody tr th:only-of-type {\n",
       "        vertical-align: middle;\n",
       "    }\n",
       "\n",
       "    .dataframe tbody tr th {\n",
       "        vertical-align: top;\n",
       "    }\n",
       "\n",
       "    .dataframe thead th {\n",
       "        text-align: right;\n",
       "    }\n",
       "</style>\n",
       "<table border=\"1\" class=\"dataframe\">\n",
       "  <thead>\n",
       "    <tr style=\"text-align: right;\">\n",
       "      <th></th>\n",
       "      <th>id</th>\n",
       "      <th>n_entrants</th>\n",
       "      <th>name</th>\n",
       "      <th>organizer_id</th>\n",
       "      <th>finished</th>\n",
       "    </tr>\n",
       "  </thead>\n",
       "  <tbody>\n",
       "    <tr>\n",
       "      <th>0</th>\n",
       "      <td>1</td>\n",
       "      <td>8</td>\n",
       "      <td>Fall Charity LAN 2018 Melee Singles</td>\n",
       "      <td>1</td>\n",
       "      <td>0</td>\n",
       "    </tr>\n",
       "  </tbody>\n",
       "</table>\n",
       "</div>"
      ],
      "text/plain": [
       "   id  n_entrants                                 name  organizer_id  finished\n",
       "0   1           8  Fall Charity LAN 2018 Melee Singles             1         0"
      ]
     },
     "execution_count": 38,
     "metadata": {},
     "output_type": "execute_result"
    }
   ],
   "source": [
    "pd.read_sql_query('select * from tournament', cnx)"
   ]
  },
  {
   "cell_type": "code",
   "execution_count": 39,
   "metadata": {},
   "outputs": [
    {
     "data": {
      "text/html": [
       "<div>\n",
       "<style scoped>\n",
       "    .dataframe tbody tr th:only-of-type {\n",
       "        vertical-align: middle;\n",
       "    }\n",
       "\n",
       "    .dataframe tbody tr th {\n",
       "        vertical-align: top;\n",
       "    }\n",
       "\n",
       "    .dataframe thead th {\n",
       "        text-align: right;\n",
       "    }\n",
       "</style>\n",
       "<table border=\"1\" class=\"dataframe\">\n",
       "  <thead>\n",
       "    <tr style=\"text-align: right;\">\n",
       "      <th></th>\n",
       "      <th>id</th>\n",
       "      <th>bracket_type</th>\n",
       "      <th>tournament_id</th>\n",
       "    </tr>\n",
       "  </thead>\n",
       "  <tbody>\n",
       "    <tr>\n",
       "      <th>0</th>\n",
       "      <td>1</td>\n",
       "      <td>DOUBLE_ELIMINATION</td>\n",
       "      <td>1</td>\n",
       "    </tr>\n",
       "  </tbody>\n",
       "</table>\n",
       "</div>"
      ],
      "text/plain": [
       "   id        bracket_type  tournament_id\n",
       "0   1  DOUBLE_ELIMINATION              1"
      ]
     },
     "execution_count": 39,
     "metadata": {},
     "output_type": "execute_result"
    }
   ],
   "source": [
    "pd.read_sql_query('select * from bracket', cnx)"
   ]
  },
  {
   "cell_type": "code",
   "execution_count": 40,
   "metadata": {},
   "outputs": [
    {
     "data": {
      "text/html": [
       "<div>\n",
       "<style scoped>\n",
       "    .dataframe tbody tr th:only-of-type {\n",
       "        vertical-align: middle;\n",
       "    }\n",
       "\n",
       "    .dataframe tbody tr th {\n",
       "        vertical-align: top;\n",
       "    }\n",
       "\n",
       "    .dataframe thead th {\n",
       "        text-align: right;\n",
       "    }\n",
       "</style>\n",
       "<table border=\"1\" class=\"dataframe\">\n",
       "  <thead>\n",
       "    <tr style=\"text-align: right;\">\n",
       "      <th></th>\n",
       "      <th>user_id</th>\n",
       "      <th>bracket_id</th>\n",
       "    </tr>\n",
       "  </thead>\n",
       "  <tbody>\n",
       "    <tr>\n",
       "      <th>0</th>\n",
       "      <td>3</td>\n",
       "      <td>1</td>\n",
       "    </tr>\n",
       "    <tr>\n",
       "      <th>1</th>\n",
       "      <td>9</td>\n",
       "      <td>1</td>\n",
       "    </tr>\n",
       "    <tr>\n",
       "      <th>2</th>\n",
       "      <td>4</td>\n",
       "      <td>1</td>\n",
       "    </tr>\n",
       "    <tr>\n",
       "      <th>3</th>\n",
       "      <td>7</td>\n",
       "      <td>1</td>\n",
       "    </tr>\n",
       "    <tr>\n",
       "      <th>4</th>\n",
       "      <td>2</td>\n",
       "      <td>1</td>\n",
       "    </tr>\n",
       "    <tr>\n",
       "      <th>5</th>\n",
       "      <td>5</td>\n",
       "      <td>1</td>\n",
       "    </tr>\n",
       "    <tr>\n",
       "      <th>6</th>\n",
       "      <td>6</td>\n",
       "      <td>1</td>\n",
       "    </tr>\n",
       "    <tr>\n",
       "      <th>7</th>\n",
       "      <td>8</td>\n",
       "      <td>1</td>\n",
       "    </tr>\n",
       "  </tbody>\n",
       "</table>\n",
       "</div>"
      ],
      "text/plain": [
       "   user_id  bracket_id\n",
       "0        3           1\n",
       "1        9           1\n",
       "2        4           1\n",
       "3        7           1\n",
       "4        2           1\n",
       "5        5           1\n",
       "6        6           1\n",
       "7        8           1"
      ]
     },
     "execution_count": 40,
     "metadata": {},
     "output_type": "execute_result"
    }
   ],
   "source": [
    "pd.read_sql_query('select * from bracket_entrants', cnx)"
   ]
  },
  {
   "cell_type": "code",
   "execution_count": 41,
   "metadata": {},
   "outputs": [
    {
     "data": {
      "text/html": [
       "<div>\n",
       "<style scoped>\n",
       "    .dataframe tbody tr th:only-of-type {\n",
       "        vertical-align: middle;\n",
       "    }\n",
       "\n",
       "    .dataframe tbody tr th {\n",
       "        vertical-align: top;\n",
       "    }\n",
       "\n",
       "    .dataframe thead th {\n",
       "        text-align: right;\n",
       "    }\n",
       "</style>\n",
       "<table border=\"1\" class=\"dataframe\">\n",
       "  <thead>\n",
       "    <tr style=\"text-align: right;\">\n",
       "      <th></th>\n",
       "      <th>id</th>\n",
       "      <th>number</th>\n",
       "      <th>winners</th>\n",
       "      <th>bracket_id</th>\n",
       "    </tr>\n",
       "  </thead>\n",
       "  <tbody>\n",
       "    <tr>\n",
       "      <th>0</th>\n",
       "      <td>1</td>\n",
       "      <td>1</td>\n",
       "      <td>1</td>\n",
       "      <td>1</td>\n",
       "    </tr>\n",
       "    <tr>\n",
       "      <th>1</th>\n",
       "      <td>2</td>\n",
       "      <td>2</td>\n",
       "      <td>1</td>\n",
       "      <td>1</td>\n",
       "    </tr>\n",
       "    <tr>\n",
       "      <th>2</th>\n",
       "      <td>3</td>\n",
       "      <td>3</td>\n",
       "      <td>1</td>\n",
       "      <td>1</td>\n",
       "    </tr>\n",
       "    <tr>\n",
       "      <th>3</th>\n",
       "      <td>4</td>\n",
       "      <td>4</td>\n",
       "      <td>1</td>\n",
       "      <td>1</td>\n",
       "    </tr>\n",
       "    <tr>\n",
       "      <th>4</th>\n",
       "      <td>5</td>\n",
       "      <td>5</td>\n",
       "      <td>1</td>\n",
       "      <td>1</td>\n",
       "    </tr>\n",
       "    <tr>\n",
       "      <th>5</th>\n",
       "      <td>6</td>\n",
       "      <td>1</td>\n",
       "      <td>0</td>\n",
       "      <td>1</td>\n",
       "    </tr>\n",
       "    <tr>\n",
       "      <th>6</th>\n",
       "      <td>7</td>\n",
       "      <td>2</td>\n",
       "      <td>0</td>\n",
       "      <td>1</td>\n",
       "    </tr>\n",
       "    <tr>\n",
       "      <th>7</th>\n",
       "      <td>8</td>\n",
       "      <td>3</td>\n",
       "      <td>0</td>\n",
       "      <td>1</td>\n",
       "    </tr>\n",
       "    <tr>\n",
       "      <th>8</th>\n",
       "      <td>9</td>\n",
       "      <td>4</td>\n",
       "      <td>0</td>\n",
       "      <td>1</td>\n",
       "    </tr>\n",
       "  </tbody>\n",
       "</table>\n",
       "</div>"
      ],
      "text/plain": [
       "   id  number  winners  bracket_id\n",
       "0   1       1        1           1\n",
       "1   2       2        1           1\n",
       "2   3       3        1           1\n",
       "3   4       4        1           1\n",
       "4   5       5        1           1\n",
       "5   6       1        0           1\n",
       "6   7       2        0           1\n",
       "7   8       3        0           1\n",
       "8   9       4        0           1"
      ]
     },
     "execution_count": 41,
     "metadata": {},
     "output_type": "execute_result"
    }
   ],
   "source": [
    "pd.read_sql_query('select * from round', cnx)"
   ]
  },
  {
   "cell_type": "code",
   "execution_count": 42,
   "metadata": {},
   "outputs": [
    {
     "data": {
      "text/html": [
       "<div>\n",
       "<style scoped>\n",
       "    .dataframe tbody tr th:only-of-type {\n",
       "        vertical-align: middle;\n",
       "    }\n",
       "\n",
       "    .dataframe tbody tr th {\n",
       "        vertical-align: top;\n",
       "    }\n",
       "\n",
       "    .dataframe thead th {\n",
       "        text-align: right;\n",
       "    }\n",
       "</style>\n",
       "<table border=\"1\" class=\"dataframe\">\n",
       "  <thead>\n",
       "    <tr style=\"text-align: right;\">\n",
       "      <th></th>\n",
       "      <th>id</th>\n",
       "      <th>uuid</th>\n",
       "      <th>user_1</th>\n",
       "      <th>user_1_score</th>\n",
       "      <th>user_2</th>\n",
       "      <th>user_2_score</th>\n",
       "      <th>winner</th>\n",
       "      <th>round_id</th>\n",
       "      <th>winner_advance_to</th>\n",
       "      <th>loser_advance_to</th>\n",
       "    </tr>\n",
       "  </thead>\n",
       "  <tbody>\n",
       "    <tr>\n",
       "      <th>0</th>\n",
       "      <td>1</td>\n",
       "      <td>cc71d1e6-4af4-4e9c-a730-188d13c207dd</td>\n",
       "      <td>3.0</td>\n",
       "      <td>NaN</td>\n",
       "      <td>8.0</td>\n",
       "      <td>NaN</td>\n",
       "      <td>None</td>\n",
       "      <td>1</td>\n",
       "      <td>5.0</td>\n",
       "      <td>10.0</td>\n",
       "    </tr>\n",
       "    <tr>\n",
       "      <th>1</th>\n",
       "      <td>2</td>\n",
       "      <td>acb7d3ba-b2e8-4888-b1e6-91c8d3755b9e</td>\n",
       "      <td>7.0</td>\n",
       "      <td>NaN</td>\n",
       "      <td>2.0</td>\n",
       "      <td>NaN</td>\n",
       "      <td>None</td>\n",
       "      <td>1</td>\n",
       "      <td>5.0</td>\n",
       "      <td>10.0</td>\n",
       "    </tr>\n",
       "    <tr>\n",
       "      <th>2</th>\n",
       "      <td>3</td>\n",
       "      <td>ce5194fa-d616-48de-beb6-8a5e30e10072</td>\n",
       "      <td>9.0</td>\n",
       "      <td>NaN</td>\n",
       "      <td>6.0</td>\n",
       "      <td>NaN</td>\n",
       "      <td>None</td>\n",
       "      <td>1</td>\n",
       "      <td>6.0</td>\n",
       "      <td>11.0</td>\n",
       "    </tr>\n",
       "    <tr>\n",
       "      <th>3</th>\n",
       "      <td>4</td>\n",
       "      <td>788bf752-be66-4abe-a9a5-538e0901272c</td>\n",
       "      <td>4.0</td>\n",
       "      <td>NaN</td>\n",
       "      <td>5.0</td>\n",
       "      <td>NaN</td>\n",
       "      <td>None</td>\n",
       "      <td>1</td>\n",
       "      <td>6.0</td>\n",
       "      <td>11.0</td>\n",
       "    </tr>\n",
       "    <tr>\n",
       "      <th>4</th>\n",
       "      <td>5</td>\n",
       "      <td>24cd436c-3e81-45c0-af0b-edab581e50f0</td>\n",
       "      <td>NaN</td>\n",
       "      <td>NaN</td>\n",
       "      <td>NaN</td>\n",
       "      <td>NaN</td>\n",
       "      <td>None</td>\n",
       "      <td>2</td>\n",
       "      <td>7.0</td>\n",
       "      <td>12.0</td>\n",
       "    </tr>\n",
       "    <tr>\n",
       "      <th>5</th>\n",
       "      <td>6</td>\n",
       "      <td>468424c3-a137-47ac-b1db-3c58ceb8cf00</td>\n",
       "      <td>NaN</td>\n",
       "      <td>NaN</td>\n",
       "      <td>NaN</td>\n",
       "      <td>NaN</td>\n",
       "      <td>None</td>\n",
       "      <td>2</td>\n",
       "      <td>7.0</td>\n",
       "      <td>13.0</td>\n",
       "    </tr>\n",
       "    <tr>\n",
       "      <th>6</th>\n",
       "      <td>7</td>\n",
       "      <td>1542054c-18f7-46f6-8401-7747617beb05</td>\n",
       "      <td>NaN</td>\n",
       "      <td>NaN</td>\n",
       "      <td>NaN</td>\n",
       "      <td>NaN</td>\n",
       "      <td>None</td>\n",
       "      <td>3</td>\n",
       "      <td>8.0</td>\n",
       "      <td>15.0</td>\n",
       "    </tr>\n",
       "    <tr>\n",
       "      <th>7</th>\n",
       "      <td>8</td>\n",
       "      <td>a51582ee-6503-4202-93c7-40d9ee53383c</td>\n",
       "      <td>NaN</td>\n",
       "      <td>NaN</td>\n",
       "      <td>NaN</td>\n",
       "      <td>NaN</td>\n",
       "      <td>None</td>\n",
       "      <td>4</td>\n",
       "      <td>9.0</td>\n",
       "      <td>9.0</td>\n",
       "    </tr>\n",
       "    <tr>\n",
       "      <th>8</th>\n",
       "      <td>9</td>\n",
       "      <td>4d270c78-09cb-4f92-9ea0-2a21494c03b8</td>\n",
       "      <td>NaN</td>\n",
       "      <td>NaN</td>\n",
       "      <td>NaN</td>\n",
       "      <td>NaN</td>\n",
       "      <td>None</td>\n",
       "      <td>5</td>\n",
       "      <td>NaN</td>\n",
       "      <td>NaN</td>\n",
       "    </tr>\n",
       "    <tr>\n",
       "      <th>9</th>\n",
       "      <td>10</td>\n",
       "      <td>bf17e541-081d-41cc-96da-6780a66a4e03</td>\n",
       "      <td>NaN</td>\n",
       "      <td>-1.0</td>\n",
       "      <td>NaN</td>\n",
       "      <td>0.0</td>\n",
       "      <td>None</td>\n",
       "      <td>6</td>\n",
       "      <td>12.0</td>\n",
       "      <td>NaN</td>\n",
       "    </tr>\n",
       "    <tr>\n",
       "      <th>10</th>\n",
       "      <td>11</td>\n",
       "      <td>9ee712cd-e442-4903-8d99-d8903f17f20d</td>\n",
       "      <td>NaN</td>\n",
       "      <td>-1.0</td>\n",
       "      <td>NaN</td>\n",
       "      <td>0.0</td>\n",
       "      <td>None</td>\n",
       "      <td>6</td>\n",
       "      <td>13.0</td>\n",
       "      <td>NaN</td>\n",
       "    </tr>\n",
       "    <tr>\n",
       "      <th>11</th>\n",
       "      <td>12</td>\n",
       "      <td>f1feb0ac-f013-400e-b89c-ce635598f2c3</td>\n",
       "      <td>NaN</td>\n",
       "      <td>NaN</td>\n",
       "      <td>NaN</td>\n",
       "      <td>NaN</td>\n",
       "      <td>None</td>\n",
       "      <td>7</td>\n",
       "      <td>14.0</td>\n",
       "      <td>NaN</td>\n",
       "    </tr>\n",
       "    <tr>\n",
       "      <th>12</th>\n",
       "      <td>13</td>\n",
       "      <td>bd4e9826-814a-4aa3-a973-d261e09ab476</td>\n",
       "      <td>NaN</td>\n",
       "      <td>NaN</td>\n",
       "      <td>NaN</td>\n",
       "      <td>NaN</td>\n",
       "      <td>None</td>\n",
       "      <td>7</td>\n",
       "      <td>14.0</td>\n",
       "      <td>NaN</td>\n",
       "    </tr>\n",
       "    <tr>\n",
       "      <th>13</th>\n",
       "      <td>14</td>\n",
       "      <td>0d12633d-89f1-4428-9fe0-a55ba4a32bae</td>\n",
       "      <td>NaN</td>\n",
       "      <td>NaN</td>\n",
       "      <td>NaN</td>\n",
       "      <td>NaN</td>\n",
       "      <td>None</td>\n",
       "      <td>8</td>\n",
       "      <td>15.0</td>\n",
       "      <td>NaN</td>\n",
       "    </tr>\n",
       "    <tr>\n",
       "      <th>14</th>\n",
       "      <td>15</td>\n",
       "      <td>3fce1889-247d-4ad3-9567-88239f3be94f</td>\n",
       "      <td>NaN</td>\n",
       "      <td>NaN</td>\n",
       "      <td>NaN</td>\n",
       "      <td>NaN</td>\n",
       "      <td>None</td>\n",
       "      <td>9</td>\n",
       "      <td>8.0</td>\n",
       "      <td>NaN</td>\n",
       "    </tr>\n",
       "  </tbody>\n",
       "</table>\n",
       "</div>"
      ],
      "text/plain": [
       "    id                                  uuid  user_1  user_1_score  user_2  \\\n",
       "0    1  cc71d1e6-4af4-4e9c-a730-188d13c207dd     3.0           NaN     8.0   \n",
       "1    2  acb7d3ba-b2e8-4888-b1e6-91c8d3755b9e     7.0           NaN     2.0   \n",
       "2    3  ce5194fa-d616-48de-beb6-8a5e30e10072     9.0           NaN     6.0   \n",
       "3    4  788bf752-be66-4abe-a9a5-538e0901272c     4.0           NaN     5.0   \n",
       "4    5  24cd436c-3e81-45c0-af0b-edab581e50f0     NaN           NaN     NaN   \n",
       "5    6  468424c3-a137-47ac-b1db-3c58ceb8cf00     NaN           NaN     NaN   \n",
       "6    7  1542054c-18f7-46f6-8401-7747617beb05     NaN           NaN     NaN   \n",
       "7    8  a51582ee-6503-4202-93c7-40d9ee53383c     NaN           NaN     NaN   \n",
       "8    9  4d270c78-09cb-4f92-9ea0-2a21494c03b8     NaN           NaN     NaN   \n",
       "9   10  bf17e541-081d-41cc-96da-6780a66a4e03     NaN          -1.0     NaN   \n",
       "10  11  9ee712cd-e442-4903-8d99-d8903f17f20d     NaN          -1.0     NaN   \n",
       "11  12  f1feb0ac-f013-400e-b89c-ce635598f2c3     NaN           NaN     NaN   \n",
       "12  13  bd4e9826-814a-4aa3-a973-d261e09ab476     NaN           NaN     NaN   \n",
       "13  14  0d12633d-89f1-4428-9fe0-a55ba4a32bae     NaN           NaN     NaN   \n",
       "14  15  3fce1889-247d-4ad3-9567-88239f3be94f     NaN           NaN     NaN   \n",
       "\n",
       "    user_2_score winner  round_id  winner_advance_to  loser_advance_to  \n",
       "0            NaN   None         1                5.0              10.0  \n",
       "1            NaN   None         1                5.0              10.0  \n",
       "2            NaN   None         1                6.0              11.0  \n",
       "3            NaN   None         1                6.0              11.0  \n",
       "4            NaN   None         2                7.0              12.0  \n",
       "5            NaN   None         2                7.0              13.0  \n",
       "6            NaN   None         3                8.0              15.0  \n",
       "7            NaN   None         4                9.0               9.0  \n",
       "8            NaN   None         5                NaN               NaN  \n",
       "9            0.0   None         6               12.0               NaN  \n",
       "10           0.0   None         6               13.0               NaN  \n",
       "11           NaN   None         7               14.0               NaN  \n",
       "12           NaN   None         7               14.0               NaN  \n",
       "13           NaN   None         8               15.0               NaN  \n",
       "14           NaN   None         9                8.0               NaN  "
      ]
     },
     "execution_count": 42,
     "metadata": {},
     "output_type": "execute_result"
    }
   ],
   "source": [
    "df = pd.read_sql_query('select * from match', cnx)\n",
    "df\n",
    "# df.loc[df['uuid'] == '94de92a2-13ac-4e9a-9bf2-78636100a7b1']"
   ]
  },
  {
   "cell_type": "code",
   "execution_count": 43,
   "metadata": {},
   "outputs": [
    {
     "data": {
      "text/plain": [
       "{'about_me': None,\n",
       " 'bracket_users': [],\n",
       " 'brackets': [],\n",
       " 'email': 'miguel@gmail.com',\n",
       " 'id': 1,\n",
       " 'last_seen': '2020-03-23T22:35:20.528096',\n",
       " 'lobby_seeds': [],\n",
       " 'password_hash': 'pbkdf2:sha256:150000$3YTworc0$9b450d0f0f7d6858c7dff1b3dbf02cb8e5942dc8496ec24d0f9b397bc7edfc0a',\n",
       " 'role': 'User',\n",
       " 'username': 'miguel'}"
      ]
     },
     "execution_count": 43,
     "metadata": {},
     "output_type": "execute_result"
    }
   ],
   "source": [
    "url = 'http://127.0.0.1:5000/api/user/1'\n",
    "headers = {'content-type': 'application/json', 'Accept-Charset': 'UTF-8'}\n",
    "payload = json.dumps({})\n",
    "r = requests.get(url, data=payload, headers=headers, auth=(tkn, 'unused'))\n",
    "r.content\n",
    "json.loads(r.content)"
   ]
  },
  {
   "cell_type": "code",
   "execution_count": 44,
   "metadata": {},
   "outputs": [],
   "source": [
    "# tpn tries to modify miguel"
   ]
  },
  {
   "cell_type": "code",
   "execution_count": 45,
   "metadata": {},
   "outputs": [
    {
     "data": {
      "text/plain": [
       "'eyJhbGciOiJIUzUxMiIsImlhdCI6MTU4NTAwMjkyMywiZXhwIjoxNTg1MDA2NTIzfQ.eyJpZCI6Mn0.U48acbuzU1s6Fp-1-tdN4Ay_qC5XWxXZWDw9kUcn5aYgzZKW7GpYVu_Js2kuwYOBfxjRQUL-1Nqv4Vw18kmN3Q'"
      ]
     },
     "execution_count": 45,
     "metadata": {},
     "output_type": "execute_result"
    }
   ],
   "source": [
    "url = 'http://127.0.0.1:5000/api/token'\n",
    "\n",
    "r = requests.get(url, auth=('TPN', 'tpn'))\n",
    "tkn = json.loads(r.content)['token']\n",
    "tkn"
   ]
  },
  {
   "cell_type": "code",
   "execution_count": 46,
   "metadata": {},
   "outputs": [
    {
     "data": {
      "text/plain": [
       "{'Unauthorized': 'TPN is not authorized to modify this user'}"
      ]
     },
     "execution_count": 46,
     "metadata": {},
     "output_type": "execute_result"
    }
   ],
   "source": [
    "url = 'http://127.0.0.1:5000/api/user/1/modify/'\n",
    "headers = {'content-type': 'application/json', 'Accept-Charset': 'UTF-8'}\n",
    "payload = json.dumps({\n",
    "    'username' : 'miguel_is_stupid',\n",
    "    'about_me' : 'he sucks'\n",
    "})\n",
    "r = requests.post(url, data=payload, headers=headers, auth=(tkn, 'unused'))\n",
    "json.loads(r.content)"
   ]
  },
  {
   "cell_type": "code",
   "execution_count": 47,
   "metadata": {},
   "outputs": [],
   "source": [
    "# log miguel back in"
   ]
  },
  {
   "cell_type": "code",
   "execution_count": 48,
   "metadata": {},
   "outputs": [
    {
     "data": {
      "text/plain": [
       "'eyJhbGciOiJIUzUxMiIsImlhdCI6MTU4NTAwMjkyMywiZXhwIjoxNTg1MDA2NTIzfQ.eyJpZCI6MX0.BRALS-dEt0rb2wCGA36eGYYToKzct3WRtf-_ptqkIvJUfvpAr2E2TZPLBugpcupYnHnq1pyaEEtub_fQmYvmCg'"
      ]
     },
     "execution_count": 48,
     "metadata": {},
     "output_type": "execute_result"
    }
   ],
   "source": [
    "url = 'http://127.0.0.1:5000/api/token'\n",
    "\n",
    "r = requests.get(url, auth=('miguel', 'python'))\n",
    "tkn = json.loads(r.content)['token']\n",
    "tkn"
   ]
  },
  {
   "cell_type": "code",
   "execution_count": 49,
   "metadata": {},
   "outputs": [
    {
     "data": {
      "text/plain": [
       "{'Success': 'Updated username and about_me'}"
      ]
     },
     "execution_count": 49,
     "metadata": {},
     "output_type": "execute_result"
    }
   ],
   "source": [
    "url = 'http://127.0.0.1:5000/api/user/1/modify/'\n",
    "headers = {'content-type': 'application/json', 'Accept-Charset': 'UTF-8'}\n",
    "payload = json.dumps({\n",
    "    'username' : 'miguel_is_great',\n",
    "    'about_me' : 'he\\'s awesome'\n",
    "}) \n",
    "r = requests.post(url, data=payload, headers=headers, auth=(tkn, 'unused'))\n",
    "json.loads(r.content)"
   ]
  },
  {
   "cell_type": "code",
   "execution_count": 50,
   "metadata": {},
   "outputs": [
    {
     "data": {
      "text/plain": [
       "{'_content': b'{\"Success\":\"Updated username and about_me\"}\\n',\n",
       " '_content_consumed': True,\n",
       " '_next': None,\n",
       " 'status_code': 202,\n",
       " 'headers': {'Content-Type': 'application/json', 'Content-Length': '44', 'Server': 'Werkzeug/1.0.0 Python/3.6.9', 'Date': 'Mon, 23 Mar 2020 22:35:23 GMT'},\n",
       " 'raw': <urllib3.response.HTTPResponse at 0x7f4700c46dd8>,\n",
       " 'url': 'http://127.0.0.1:5000/api/user/1/modify/',\n",
       " 'encoding': None,\n",
       " 'history': [],\n",
       " 'reason': 'ACCEPTED',\n",
       " 'cookies': <RequestsCookieJar[]>,\n",
       " 'elapsed': datetime.timedelta(0, 0, 16134),\n",
       " 'request': <PreparedRequest [POST]>,\n",
       " 'connection': <requests.adapters.HTTPAdapter at 0x7f4700c46780>}"
      ]
     },
     "execution_count": 50,
     "metadata": {},
     "output_type": "execute_result"
    }
   ],
   "source": [
    "vars(r)"
   ]
  },
  {
   "cell_type": "code",
   "execution_count": 51,
   "metadata": {},
   "outputs": [
    {
     "data": {
      "text/html": [
       "<div>\n",
       "<style scoped>\n",
       "    .dataframe tbody tr th:only-of-type {\n",
       "        vertical-align: middle;\n",
       "    }\n",
       "\n",
       "    .dataframe tbody tr th {\n",
       "        vertical-align: top;\n",
       "    }\n",
       "\n",
       "    .dataframe thead th {\n",
       "        text-align: right;\n",
       "    }\n",
       "</style>\n",
       "<table border=\"1\" class=\"dataframe\">\n",
       "  <thead>\n",
       "    <tr style=\"text-align: right;\">\n",
       "      <th></th>\n",
       "      <th>id</th>\n",
       "      <th>role</th>\n",
       "      <th>username</th>\n",
       "      <th>email</th>\n",
       "      <th>password_hash</th>\n",
       "      <th>about_me</th>\n",
       "      <th>last_seen</th>\n",
       "    </tr>\n",
       "  </thead>\n",
       "  <tbody>\n",
       "    <tr>\n",
       "      <th>0</th>\n",
       "      <td>1</td>\n",
       "      <td>User</td>\n",
       "      <td>miguel_is_great</td>\n",
       "      <td>miguel@gmail.com</td>\n",
       "      <td>pbkdf2:sha256:150000$3YTworc0$9b450d0f0f7d6858...</td>\n",
       "      <td>he's awesome</td>\n",
       "      <td>2020-03-23 22:35:20.528096</td>\n",
       "    </tr>\n",
       "    <tr>\n",
       "      <th>1</th>\n",
       "      <td>2</td>\n",
       "      <td>User</td>\n",
       "      <td>TPN</td>\n",
       "      <td>tpn@example.com</td>\n",
       "      <td>pbkdf2:sha256:150000$4wzxlnD4$bc05cb6444d54aac...</td>\n",
       "      <td>None</td>\n",
       "      <td>2020-03-23 22:35:20.953799</td>\n",
       "    </tr>\n",
       "    <tr>\n",
       "      <th>2</th>\n",
       "      <td>3</td>\n",
       "      <td>User</td>\n",
       "      <td>AngryFalco</td>\n",
       "      <td>angryfalco@example.com</td>\n",
       "      <td>pbkdf2:sha256:150000$RkGYtixR$ef7033e46a27bbc4...</td>\n",
       "      <td>None</td>\n",
       "      <td>2020-03-23 22:35:21.248119</td>\n",
       "    </tr>\n",
       "    <tr>\n",
       "      <th>3</th>\n",
       "      <td>4</td>\n",
       "      <td>User</td>\n",
       "      <td>Sunrisebanana</td>\n",
       "      <td>sunrisebanana@example.com</td>\n",
       "      <td>pbkdf2:sha256:150000$AS8nVKYd$9fa4088f91634e50...</td>\n",
       "      <td>None</td>\n",
       "      <td>2020-03-23 22:35:21.401728</td>\n",
       "    </tr>\n",
       "    <tr>\n",
       "      <th>4</th>\n",
       "      <td>5</td>\n",
       "      <td>User</td>\n",
       "      <td>Ptolemy</td>\n",
       "      <td>ptolemy@example.com</td>\n",
       "      <td>pbkdf2:sha256:150000$GJyRhpWx$95833b39241e3931...</td>\n",
       "      <td>None</td>\n",
       "      <td>2020-03-23 22:35:21.499937</td>\n",
       "    </tr>\n",
       "    <tr>\n",
       "      <th>5</th>\n",
       "      <td>6</td>\n",
       "      <td>User</td>\n",
       "      <td>Vik</td>\n",
       "      <td>vik@example.com</td>\n",
       "      <td>pbkdf2:sha256:150000$P3pOfCWo$785c09a1fb600034...</td>\n",
       "      <td>None</td>\n",
       "      <td>2020-03-23 22:35:21.583449</td>\n",
       "    </tr>\n",
       "    <tr>\n",
       "      <th>6</th>\n",
       "      <td>7</td>\n",
       "      <td>User</td>\n",
       "      <td>Kevin</td>\n",
       "      <td>kevin@example.com</td>\n",
       "      <td>pbkdf2:sha256:150000$kb4t9pal$383ad35d2d64acbe...</td>\n",
       "      <td>None</td>\n",
       "      <td>2020-03-23 22:35:21.669998</td>\n",
       "    </tr>\n",
       "    <tr>\n",
       "      <th>7</th>\n",
       "      <td>8</td>\n",
       "      <td>User</td>\n",
       "      <td>Spaceghost</td>\n",
       "      <td>spaceghost@example.com</td>\n",
       "      <td>pbkdf2:sha256:150000$hRxyvTAW$96808b5b78bf1195...</td>\n",
       "      <td>None</td>\n",
       "      <td>2020-03-23 22:35:21.771172</td>\n",
       "    </tr>\n",
       "    <tr>\n",
       "      <th>8</th>\n",
       "      <td>9</td>\n",
       "      <td>User</td>\n",
       "      <td>Burnaby</td>\n",
       "      <td>burnaby@example.com</td>\n",
       "      <td>pbkdf2:sha256:150000$Do1HW6Oi$3fa44281753d6f31...</td>\n",
       "      <td>None</td>\n",
       "      <td>2020-03-23 22:35:21.887128</td>\n",
       "    </tr>\n",
       "  </tbody>\n",
       "</table>\n",
       "</div>"
      ],
      "text/plain": [
       "   id  role         username                      email  \\\n",
       "0   1  User  miguel_is_great           miguel@gmail.com   \n",
       "1   2  User              TPN            tpn@example.com   \n",
       "2   3  User       AngryFalco     angryfalco@example.com   \n",
       "3   4  User    Sunrisebanana  sunrisebanana@example.com   \n",
       "4   5  User          Ptolemy        ptolemy@example.com   \n",
       "5   6  User              Vik            vik@example.com   \n",
       "6   7  User            Kevin          kevin@example.com   \n",
       "7   8  User       Spaceghost     spaceghost@example.com   \n",
       "8   9  User          Burnaby        burnaby@example.com   \n",
       "\n",
       "                                       password_hash      about_me  \\\n",
       "0  pbkdf2:sha256:150000$3YTworc0$9b450d0f0f7d6858...  he's awesome   \n",
       "1  pbkdf2:sha256:150000$4wzxlnD4$bc05cb6444d54aac...          None   \n",
       "2  pbkdf2:sha256:150000$RkGYtixR$ef7033e46a27bbc4...          None   \n",
       "3  pbkdf2:sha256:150000$AS8nVKYd$9fa4088f91634e50...          None   \n",
       "4  pbkdf2:sha256:150000$GJyRhpWx$95833b39241e3931...          None   \n",
       "5  pbkdf2:sha256:150000$P3pOfCWo$785c09a1fb600034...          None   \n",
       "6  pbkdf2:sha256:150000$kb4t9pal$383ad35d2d64acbe...          None   \n",
       "7  pbkdf2:sha256:150000$hRxyvTAW$96808b5b78bf1195...          None   \n",
       "8  pbkdf2:sha256:150000$Do1HW6Oi$3fa44281753d6f31...          None   \n",
       "\n",
       "                    last_seen  \n",
       "0  2020-03-23 22:35:20.528096  \n",
       "1  2020-03-23 22:35:20.953799  \n",
       "2  2020-03-23 22:35:21.248119  \n",
       "3  2020-03-23 22:35:21.401728  \n",
       "4  2020-03-23 22:35:21.499937  \n",
       "5  2020-03-23 22:35:21.583449  \n",
       "6  2020-03-23 22:35:21.669998  \n",
       "7  2020-03-23 22:35:21.771172  \n",
       "8  2020-03-23 22:35:21.887128  "
      ]
     },
     "execution_count": 51,
     "metadata": {},
     "output_type": "execute_result"
    }
   ],
   "source": [
    "q = \\\n",
    "\"\"\"\n",
    "    select * from user\n",
    "\"\"\"\n",
    "# create the dataframe from a query\n",
    "df = pd.read_sql_query(q, cnx)\n",
    "df"
   ]
  },
  {
   "cell_type": "code",
   "execution_count": 52,
   "metadata": {},
   "outputs": [
    {
     "data": {
      "text/plain": [
       "{'Invalid Username': 'Sunrisebanana Already Taken'}"
      ]
     },
     "execution_count": 52,
     "metadata": {},
     "output_type": "execute_result"
    }
   ],
   "source": [
    "# try to steal jaime's name\n",
    "\n",
    "url = 'http://127.0.0.1:5000/api/user/1/modify/'\n",
    "headers = {'content-type': 'application/json', 'Accept-Charset': 'UTF-8'}\n",
    "payload = json.dumps({\n",
    "    'username' : 'Sunrisebanana',\n",
    "#     'about_me' : 'he\\'s awesome'\n",
    "}) \n",
    "r = requests.post(url, data=payload, headers=headers, auth=(tkn, 'unused'))\n",
    "json.loads(r.content)"
   ]
  },
  {
   "cell_type": "code",
   "execution_count": null,
   "metadata": {},
   "outputs": [],
   "source": [
    "# plagiarize jaime's name\n",
    "\n",
    "url = 'http://127.0.0.1:5000/api/user/1/modify/'\n",
    "headers = {'content-type': 'application/json', 'Accept-Charset': 'UTF-8'}\n",
    "payload = json.dumps({\n",
    "    'username' : 'Sunrisebanana',\n",
    "#     'about_me' : 'he\\'s awesome'\n",
    "}) \n",
    "r = requests.post(url, data=payload, headers=headers, auth=(tkn, 'unused'))\n",
    "json.loads(r.content)"
   ]
  },
  {
   "cell_type": "code",
   "execution_count": null,
   "metadata": {},
   "outputs": [],
   "source": [
    "\n",
    "\n",
    "\n",
    "\n",
    "\n",
    "\n",
    "\n",
    "\n",
    "\n",
    "\n",
    "\n",
    "\n",
    "\n",
    "\n",
    "\n",
    "\n",
    "\n",
    "\n",
    "\n",
    "\n",
    "\n",
    "\n",
    "\n",
    "\n",
    "\n",
    "\n",
    "\n",
    "\n",
    "\n",
    "\n",
    "\n",
    "\n",
    "\n",
    "\n",
    "\n",
    "\n",
    "\n",
    "\n",
    "\n",
    "\n",
    "\n",
    "\n",
    "\n",
    "\n",
    "\n",
    "\n",
    "\n",
    "\n",
    "\n",
    "\n",
    "\n",
    "\n",
    "\n",
    "\n",
    "\n",
    "\n",
    "\n",
    "\n",
    "\n",
    "\n",
    "\n",
    "\n",
    "\n",
    "\n",
    "\n",
    "\n",
    "\n",
    "\n",
    "\n",
    "\n",
    "\n",
    "\n",
    "\n",
    "\n",
    "\n",
    "\n",
    "\n",
    "\n",
    "\n",
    "\n",
    "\n",
    "\n",
    "\n",
    "\n",
    "\n",
    "\n",
    "\n",
    "\n",
    "\n",
    "\n",
    "\n",
    "\n",
    "\n",
    "\n",
    "\n",
    "\n",
    "\n",
    "\n",
    "\n",
    "\n",
    "\n",
    "\n",
    "\n",
    "\n"
   ]
  }
 ],
 "metadata": {
  "kernelspec": {
   "display_name": "venv",
   "language": "python",
   "name": "venv"
  },
  "language_info": {
   "codemirror_mode": {
    "name": "ipython",
    "version": 3
   },
   "file_extension": ".py",
   "mimetype": "text/x-python",
   "name": "python",
   "nbconvert_exporter": "python",
   "pygments_lexer": "ipython3",
   "version": "3.6.9"
  }
 },
 "nbformat": 4,
 "nbformat_minor": 4
}
