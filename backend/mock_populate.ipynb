{
 "cells": [
  {
   "cell_type": "code",
   "execution_count": 1,
   "metadata": {},
   "outputs": [],
   "source": [
    "from app import db\n",
    "import numpy as np\n",
    "\n",
    "from app.models import Tournament as TournamentModel\n",
    "from app.models import Bracket as BracketModel\n",
    "from app.models import Match as MatchModel\n",
    "from app.models import Round as RoundModel\n",
    "from app.models import User as UserModel\n",
    "\n",
    "from tournament import Tournament\n",
    "\n",
    "import numpy as np\n",
    "\n",
    "from sqlalchemy.sql.expression import func, select\n",
    "\n",
    "from tournament import (\n",
    "    BracketTypes,\n",
    "    Tournament,\n",
    "    Match\n",
    ")\n",
    "import sqlite3\n",
    "import pandas as pd\n",
    "import uuid\n",
    "import requests\n",
    "import json"
   ]
  },
  {
   "cell_type": "code",
   "execution_count": 2,
   "metadata": {},
   "outputs": [],
   "source": [
    "# purge all tables first\n",
    "db.session.close()\n",
    "def purge(Model):\n",
    "    [db.session.delete(row) for row in Model.query.all()]\n",
    "\n",
    "for Model in [BracketModel, TournamentModel, MatchModel, RoundModel, UserModel]:\n",
    "    purge(Model)\n",
    "db.session.commit()"
   ]
  },
  {
   "cell_type": "code",
   "execution_count": 3,
   "metadata": {},
   "outputs": [],
   "source": [
    "url = 'http://127.0.0.1:5000/api/users'\n",
    "headers = {'content-type': 'application/json', 'Accept-Charset': 'UTF-8'}\n",
    "\n",
    "# post miguel\n",
    "payload = json.dumps({\n",
    "    \"username\":\"miguel\",\n",
    "    \"password\":\"python\",\n",
    "    \"email\":\"miguel@gmail.com\"\n",
    "})\n",
    "\n",
    "r = requests.post(url, data=payload, headers=headers)"
   ]
  },
  {
   "cell_type": "code",
   "execution_count": 4,
   "metadata": {},
   "outputs": [],
   "source": [
    "# post the rest of the users\n",
    "users = [\n",
    "    ('A', 'TPN@example.com'),\n",
    "    ('B', 'AngryFalco@example.com'),\n",
    "    ('C', 'Sunrisebanana@example.com'),\n",
    "    ('D', 'Ptolemy@example.com'),\n",
    "    ('E', 'Vik@example.com'),\n",
    "    ('F', 'Kevin@example.com'),\n",
    "    ('G', 'Spaceghost@example.com'),\n",
    "    ('H', 'Burnaby@example.com'),\n",
    "]\n",
    "\n",
    "for username, email in users:\n",
    "    payload = json.dumps({\n",
    "        \"username\":username,\n",
    "        \"password\":username.lower(),\n",
    "        \"email\":email.lower()\n",
    "    })\n",
    "\n",
    "    r = requests.post(url, data=payload, headers=headers)"
   ]
  },
  {
   "cell_type": "code",
   "execution_count": 5,
   "metadata": {},
   "outputs": [
    {
     "name": "stdout",
     "output_type": "stream",
     "text": [
      "b'{\"tournament_id\":1}\\n'\n"
     ]
    }
   ],
   "source": [
    "# get miguel's token\n",
    "url = 'http://127.0.0.1:5000/api/token'\n",
    "r = requests.get(url, auth=('miguel', 'python'))\n",
    "tkn = json.loads(r.content)['token']\n",
    "\n",
    "# miguel creates tournament\\\n",
    "# Fall Charity LAN 2018 Melee Singles users\n",
    "N_COMPETITORS = 8\n",
    "seeds = [i+1 for i in range(N_COMPETITORS)]\n",
    "usernames = [\n",
    "    'A',\n",
    "    'B',\n",
    "    'C',\n",
    "    'D',\n",
    "    'E',\n",
    "    'F',\n",
    "    'G',\n",
    "    'H',\n",
    "]\n",
    "np.random.shuffle(usernames)\n",
    "np.random.shuffle(seeds)\n",
    "\n",
    "tuple_list = [(usernames[i], seeds[i]) for i in range(N_COMPETITORS)]\n",
    "\n",
    "# create a json payload from the tuple list\n",
    "url = 'http://127.0.0.1:5000/api/created-tournaments/'\n",
    "headers = {'content-type': 'application/json', 'Accept-Charset': 'UTF-8'}\n",
    "payload = json.dumps({\n",
    "    \"users\":usernames,\n",
    "    \"seeds\":seeds,\n",
    "    \"tournament_name\":\"Fall Charity LAN 2018 Melee Singles\"\n",
    "})\n",
    "r = requests.post(url, data=payload, headers=headers, auth=(\"miguel\", 'python'))\n",
    "print(r.content)"
   ]
  },
  {
   "cell_type": "code",
   "execution_count": 6,
   "metadata": {},
   "outputs": [
    {
     "name": "stdout",
     "output_type": "stream",
     "text": [
      "####################################################################\n",
      "\n",
      "Users' table\n",
      "   id username                      email  \\\n",
      "0   1   miguel           miguel@gmail.com   \n",
      "1   2        A            tpn@example.com   \n",
      "2   3        B     angryfalco@example.com   \n",
      "3   4        C  sunrisebanana@example.com   \n",
      "4   5        D        ptolemy@example.com   \n",
      "5   6        E            vik@example.com   \n",
      "6   7        F          kevin@example.com   \n",
      "7   8        G     spaceghost@example.com   \n",
      "8   9        H        burnaby@example.com   \n",
      "\n",
      "                                       password_hash about_me  \\\n",
      "0  pbkdf2:sha256:150000$fI889Rn3$515f691e94ff1958...     None   \n",
      "1  pbkdf2:sha256:150000$wa8cpV2b$3023c94cda1b958d...     None   \n",
      "2  pbkdf2:sha256:150000$Oz7udf1F$2a841f3c10757942...     None   \n",
      "3  pbkdf2:sha256:150000$IXpK1TVP$26368b8bbc520bff...     None   \n",
      "4  pbkdf2:sha256:150000$CfBTdPua$79abc7dbf738d448...     None   \n",
      "5  pbkdf2:sha256:150000$Sxor0NI2$48648dcce6f7343a...     None   \n",
      "6  pbkdf2:sha256:150000$ga2UdlpP$256dac641ef775d0...     None   \n",
      "7  pbkdf2:sha256:150000$tbVHs9ry$304a6d304c6bccff...     None   \n",
      "8  pbkdf2:sha256:150000$OXFaDBeS$52f1af3a7cf6ac70...     None   \n",
      "\n",
      "                    last_seen  \n",
      "0  2020-03-04 14:49:01.644934  \n",
      "1  2020-03-04 14:49:01.754633  \n",
      "2  2020-03-04 14:49:01.836981  \n",
      "3  2020-03-04 14:49:01.921113  \n",
      "4  2020-03-04 14:49:02.008314  \n",
      "5  2020-03-04 14:49:02.092501  \n",
      "6  2020-03-04 14:49:02.177331  \n",
      "7  2020-03-04 14:49:02.262033  \n",
      "8  2020-03-04 14:49:02.347900  \n",
      "\n",
      "####################################################################\n",
      "\n",
      "tournament table\n",
      "   id  n_entrants                                 name  organizer_id\n",
      "0   1           8  Fall Charity LAN 2018 Melee Singles             1\n",
      "\n",
      "####################################################################\n",
      "\n",
      "bracket table\n",
      "   id        bracket_type  tournament_id\n",
      "0   1  DOUBLE_ELIMINATION              1\n",
      "\n",
      "####################################################################\n",
      "\n",
      "bracket_entrants table\n",
      "   user_id  bracket_id\n",
      "0        9           1\n",
      "1        4           1\n",
      "2        6           1\n",
      "3        2           1\n",
      "4        8           1\n",
      "5        3           1\n",
      "6        7           1\n",
      "7        5           1\n",
      "\n",
      "####################################################################\n",
      "\n",
      "round table\n",
      "   id  number  winners  bracket_id\n",
      "0   1       1        1           1\n",
      "1   2       2        1           1\n",
      "2   3       3        1           1\n",
      "3   4       4        1           1\n",
      "4   5       5        1           1\n",
      "5   6       1        0           1\n",
      "6   7       2        0           1\n",
      "7   8       3        0           1\n",
      "8   9       4        0           1\n",
      "\n",
      "####################################################################\n",
      "\n",
      "match table\n",
      "    id                                  uuid  user_1 user_1_score  user_2  \\\n",
      "0    1  25f87bea-3321-4b6c-b2c3-930e3f7aed9f     9.0         None     5.0   \n",
      "1    2  df4ef2d8-7fae-4f59-a8d3-67d7dd9c2b9e     4.0         None     7.0   \n",
      "2    3  1d830ce1-a03d-4aac-bc10-9879314be52d     6.0         None     3.0   \n",
      "3    4  349c5af0-be82-44dd-9187-57efec8dd533     2.0         None     8.0   \n",
      "4    5  3450bddc-44f7-4c37-82bf-e6cc283acefc     NaN         None     NaN   \n",
      "5    6  152d6d87-0e43-4d3b-bf1c-18b759b1fdf0     NaN         None     NaN   \n",
      "6    7  e6d8627e-ce4b-4f1b-a816-916de652d871     NaN         None     NaN   \n",
      "7    8  a9962869-4ae8-4ac3-9232-b2417647458c     NaN         None     NaN   \n",
      "8    9  7c8bdc55-64f7-414a-8516-8c948aa75f4a     NaN         None     NaN   \n",
      "9   10  f955874f-8608-4684-a986-25522a9185e5     NaN         None     NaN   \n",
      "10  11  2f197829-da96-4f55-9b0e-ce6382024941     NaN         None     NaN   \n",
      "11  12  7d77f789-4af0-44d9-9672-4cec6250a754     NaN         None     NaN   \n",
      "12  13  2b0bc17d-0da3-40d3-9cde-a71253da861d     NaN         None     NaN   \n",
      "13  14  f700d899-f64b-4b79-9d9b-ae2065c44edd     NaN         None     NaN   \n",
      "14  15  c6658278-acd5-433b-ba01-07e4c506c3b9     NaN         None     NaN   \n",
      "\n",
      "   user_2_score winner  round_id  winner_advance_to  loser_advance_to  \n",
      "0          None   None         1                5.0              10.0  \n",
      "1          None   None         1                5.0              10.0  \n",
      "2          None   None         1                6.0              11.0  \n",
      "3          None   None         1                6.0              11.0  \n",
      "4          None   None         2                7.0              12.0  \n",
      "5          None   None         2                7.0              13.0  \n",
      "6          None   None         3                8.0              15.0  \n",
      "7          None   None         4                NaN               NaN  \n",
      "8          None   None         5                NaN               NaN  \n",
      "9          None   None         6               12.0               NaN  \n",
      "10         None   None         6               13.0               NaN  \n",
      "11         None   None         7               14.0               NaN  \n",
      "12         None   None         7               14.0               NaN  \n",
      "13         None   None         8               15.0               NaN  \n",
      "14         None   None         9               10.0               NaN  \n",
      "\n"
     ]
    }
   ],
   "source": [
    "# print all the tables for good measure\n",
    "\n",
    "# Create the connection\n",
    "cnx = sqlite3.connect(r'./app.db')\n",
    "\n",
    "q = \\\n",
    "\"\"\"\n",
    "    select * from user where\n",
    "    username like '%TPN%'\n",
    "\"\"\"\n",
    "q = \\\n",
    "\"\"\"\n",
    "    select * from user\n",
    "\"\"\"\n",
    "# create the dataframe from a query\n",
    "\n",
    "print('#'*68)\n",
    "print()\n",
    "\n",
    "print('Users\\' table')\n",
    "df = pd.read_sql_query(q, cnx)\n",
    "print(df)\n",
    "print()\n",
    "for table in ['tournament', 'bracket', 'bracket_entrants', 'round', 'match']:\n",
    "    print('#'*68)\n",
    "    print()\n",
    "\n",
    "    print(f'{table} table')\n",
    "    print(pd.read_sql_query(f'select * from {table}', cnx))\n",
    "    print()"
   ]
  },
  {
   "cell_type": "code",
   "execution_count": 7,
   "metadata": {},
   "outputs": [
    {
     "data": {
      "text/plain": [
       "'eyJhbGciOiJIUzUxMiIsImlhdCI6MTU4MzMzMzM0MiwiZXhwIjoxNTgzMzMzOTQyfQ.eyJpZCI6MX0.WUWwANycH7JJKbnsgv5OCg-BFNQ7pSI-o-ObmmY3KP8QID3MK-ee37rhDppS2aOwsgE1t3vv6xyDmVqNnfXFwA'"
      ]
     },
     "execution_count": 7,
     "metadata": {},
     "output_type": "execute_result"
    }
   ],
   "source": [
    "# get miguel's token\n",
    "url = 'http://127.0.0.1:5000/api/token'\n",
    "r = requests.get(url, auth=('miguel', 'python'))\n",
    "tkn = json.loads(r.content)['token']\n",
    "tkn"
   ]
  },
  {
   "cell_type": "code",
   "execution_count": 8,
   "metadata": {},
   "outputs": [
    {
     "data": {
      "text/plain": [
       "<Response [200]>"
      ]
     },
     "execution_count": 8,
     "metadata": {},
     "output_type": "execute_result"
    }
   ],
   "source": [
    "# get miguel's token\n",
    "mid = 1\n",
    "url = f'http://127.0.0.1:5000/api/match/{mid}/update'\n",
    "r = requests.post(url, auth=(tkn, 'unused'))\n",
    "r"
   ]
  },
  {
   "cell_type": "code",
   "execution_count": 9,
   "metadata": {},
   "outputs": [
    {
     "data": {
      "text/plain": [
       "'http://127.0.0.1:5000/api/match/1/update'"
      ]
     },
     "execution_count": 9,
     "metadata": {},
     "output_type": "execute_result"
    }
   ],
   "source": [
    "url"
   ]
  },
  {
   "cell_type": "code",
   "execution_count": 10,
   "metadata": {},
   "outputs": [
    {
     "data": {
      "text/plain": [
       "{'id': 1,\n",
       " 'loser_to': 10,\n",
       " 'match_winner': None,\n",
       " 'round': 1,\n",
       " 'u1': 9,\n",
       " 'u2': 5,\n",
       " 'user_1_score': None,\n",
       " 'user_2_score': None,\n",
       " 'uuid': '25f87bea-3321-4b6c-b2c3-930e3f7aed9f',\n",
       " 'winner_to': 5}"
      ]
     },
     "execution_count": 10,
     "metadata": {},
     "output_type": "execute_result"
    }
   ],
   "source": [
    "json.loads(r.content)"
   ]
  },
  {
   "cell_type": "code",
   "execution_count": 11,
   "metadata": {},
   "outputs": [
    {
     "data": {
      "text/plain": [
       "'http://127.0.0.1:5000/api/match/1/update'"
      ]
     },
     "execution_count": 11,
     "metadata": {},
     "output_type": "execute_result"
    }
   ],
   "source": [
    "url"
   ]
  },
  {
   "cell_type": "code",
   "execution_count": null,
   "metadata": {},
   "outputs": [],
   "source": []
  }
 ],
 "metadata": {
  "kernelspec": {
   "display_name": "venv",
   "language": "python",
   "name": "venv"
  },
  "language_info": {
   "codemirror_mode": {
    "name": "ipython",
    "version": 3
   },
   "file_extension": ".py",
   "mimetype": "text/x-python",
   "name": "python",
   "nbconvert_exporter": "python",
   "pygments_lexer": "ipython3",
   "version": "3.6.9"
  }
 },
 "nbformat": 4,
 "nbformat_minor": 4
}
