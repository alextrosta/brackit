{
 "cells": [
  {
   "cell_type": "code",
   "execution_count": 1,
   "metadata": {},
   "outputs": [],
   "source": [
    "%load_ext autoreload\n",
    "%autoreload 2\n",
    "from app import db\n",
    "import numpy as np\n",
    "\n",
    "from app.models import Tournament as TournamentModel\n",
    "from app.models import Bracket as BracketModel\n",
    "from app.models import Match as MatchModel\n",
    "from app.models import Round as RoundModel\n",
    "from app.models import User as UserModel\n",
    "\n",
    "from tournament import Tournament\n",
    "\n",
    "import numpy as np\n",
    "\n",
    "from sqlalchemy.sql.expression import func, select\n",
    "\n",
    "from tournament import (\n",
    "    BracketTypes,\n",
    "    Tournament\n",
    ")"
   ]
  },
  {
   "cell_type": "code",
   "execution_count": 2,
   "metadata": {},
   "outputs": [],
   "source": [
    "db.session.close()"
   ]
  },
  {
   "cell_type": "code",
   "execution_count": 3,
   "metadata": {},
   "outputs": [],
   "source": [
    "def purge(Model):\n",
    "    [db.session.delete(row) for row in Model.query.all()]"
   ]
  },
  {
   "cell_type": "code",
   "execution_count": 4,
   "metadata": {},
   "outputs": [],
   "source": [
    "# purge all tables first\n",
    "\n",
    "for Model in [TournamentModel, BracketModel, MatchModel, RoundModel, UserModel]:\n",
    "    purge(Model)\n",
    "db.session.commit()"
   ]
  },
  {
   "cell_type": "code",
   "execution_count": 5,
   "metadata": {},
   "outputs": [],
   "source": [
    "# add all users to users table\n",
    "users = [\n",
    "    UserModel(username='TPN', email='TPN@example.com'.lower()), \n",
    "    UserModel(username='AngryFalco', email='AngryFalco@example.com'.lower()), \n",
    "    UserModel(username='Sunrisebanana', email='Sunrisebanana@example.com'.lower()), \n",
    "    UserModel(username='Ptolemy', email='Ptolemy@example.com'.lower()), \n",
    "    UserModel(username='Vik', email='Vik@example.com'.lower()), \n",
    "    UserModel(username='Kevin', email='Kevin@example.com'.lower()), \n",
    "    UserModel(username='Spaceghost', email='Spaceghost@example.com'.lower()), \n",
    "    UserModel(username='Burnaby', email='Burnaby@example.com'.lower()), \n",
    "]\n",
    "[db.session.add(u) for u in users]\n",
    "db.session.commit()"
   ]
  },
  {
   "cell_type": "code",
   "execution_count": 6,
   "metadata": {},
   "outputs": [],
   "source": [
    "# Fall Charity LAN 2018 Melee Singles users\n",
    "N_COMPETITORS = 8\n",
    "seeds = [i+1 for i in range(N_COMPETITORS)]\n",
    "usernames = [\n",
    "    'TPN',\n",
    "    'AngryFalco',\n",
    "    'Sunrisebanana',\n",
    "    'Ptolemy',\n",
    "    'Vik',\n",
    "    'Kevin',\n",
    "    'Spaceghost',\n",
    "    'Burnaby',\n",
    "]\n",
    "np.random.shuffle(usernames)\n",
    "np.random.shuffle(seeds)"
   ]
  },
  {
   "cell_type": "code",
   "execution_count": 7,
   "metadata": {},
   "outputs": [],
   "source": [
    "tuple_list = [(usernames[i], seeds[i]) for i in range(N_COMPETITORS)]"
   ]
  },
  {
   "cell_type": "code",
   "execution_count": 8,
   "metadata": {},
   "outputs": [],
   "source": [
    "btype = BracketTypes.DOUBLE_ELIMINATION\n",
    "t = Tournament(tuple_list, btype)"
   ]
  },
  {
   "cell_type": "code",
   "execution_count": 9,
   "metadata": {},
   "outputs": [],
   "source": [
    "tournament_name = 'Fall Charity LAN 2018 Melee Singles'\n",
    "TO = t.bracket.entrants[0]\n",
    "\n",
    "t.post_to_db(tournament_name, TO,)"
   ]
  },
  {
   "cell_type": "code",
   "execution_count": 16,
   "metadata": {},
   "outputs": [],
   "source": [
    "# t.bracket.post_to_db()"
   ]
  },
  {
   "cell_type": "code",
   "execution_count": null,
   "metadata": {},
   "outputs": [],
   "source": [
    "rds = t.bracket.rounds"
   ]
  },
  {
   "cell_type": "code",
   "execution_count": 18,
   "metadata": {},
   "outputs": [
    {
     "name": "stdout",
     "output_type": "stream",
     "text": [
      "<tournament.Round object at 0x7f5f10980490>\n",
      "<tournament.Round object at 0x7f5f10980210>\n",
      "<tournament.Round object at 0x7f5f109805d0>\n",
      "<tournament.Round object at 0x7f5f10980290>\n",
      "<tournament.Round object at 0x7f5f109802d0>\n",
      "<tournament.Round object at 0x7f5f10980610>\n",
      "<tournament.Round object at 0x7f5f109806d0>\n",
      "<tournament.Round object at 0x7f5f10980790>\n",
      "<tournament.Round object at 0x7f5f10980fd0>\n"
     ]
    }
   ],
   "source": [
    "for r in t.bracket.rounds:\n",
    "    print(r)"
   ]
  },
  {
   "cell_type": "code",
   "execution_count": 12,
   "metadata": {},
   "outputs": [],
   "source": [
    "def post_tournament_to_db(t, t_name, TO, db):\n",
    "    \n",
    "    def post_bracket_to_db(t_model):\n",
    "        \n",
    "        u_models = \\\n",
    "            [UserModel.query.filter_by(username=u).first_or_404() for u \\\n",
    "             in t.bracket.entrants]\n",
    "        \n",
    "        b_model = BracketModel(\n",
    "            bracket_type=t.bracket.bracketType.name,\n",
    "            users=u_models,\n",
    "            tournament=t_model,\n",
    "        )\n",
    "\n",
    "        db.session.add(b_model)\n",
    "        db.session.commit()\n",
    "        \n",
    "        return \n",
    "    \n",
    "    \n",
    "    o_id = \\\n",
    "        UserModel.query.filter_by(username=TO).first_or_404().id\n",
    "    \n",
    "    t_model = TournamentModel(\n",
    "        n_entrants = len(t.bracket.entrants),\n",
    "        name = t_name,\n",
    "        organizer_id = o_id\n",
    "    )\n",
    "    \n",
    "    db.session.add(t_model)\n",
    "    db.session.commit()\n",
    "    \n",
    "    post_bracket_to_db(t_model)\n",
    "    \n",
    "    return "
   ]
  },
  {
   "cell_type": "code",
   "execution_count": 13,
   "metadata": {},
   "outputs": [],
   "source": [
    "tournament_name = 'Fall Charity LAN 2018 Melee Singles'\n",
    "TO = t.bracket.entrants[0]\n",
    "\n",
    "post_tournament_to_db(t, tournament_name, TO, db)"
   ]
  },
  {
   "cell_type": "code",
   "execution_count": null,
   "metadata": {},
   "outputs": [],
   "source": []
  },
  {
   "cell_type": "code",
   "execution_count": 34,
   "metadata": {},
   "outputs": [
    {
     "name": "stdout",
     "output_type": "stream",
     "text": [
      "DOUBLE_ELIMINATION\n",
      "['Kevin', 'Spaceghost', 'Sunrisebanana', 'TPN', 'AngryFalco', 'Vik', 'Burnaby', 'Ptolemy']\n"
     ]
    }
   ],
   "source": [
    "print(t.bracket.bracketType.name)\n",
    "print(t.bracket.entrants)"
   ]
  },
  {
   "cell_type": "code",
   "execution_count": 37,
   "metadata": {},
   "outputs": [
    {
     "data": {
      "text/plain": [
       "[<User Kevin>,\n",
       " <User Spaceghost>,\n",
       " <User Sunrisebanana>,\n",
       " <User TPN>,\n",
       " <User AngryFalco>,\n",
       " <User Vik>,\n",
       " <User Burnaby>,\n",
       " <User Ptolemy>]"
      ]
     },
     "execution_count": 37,
     "metadata": {},
     "output_type": "execute_result"
    }
   ],
   "source": [
    "u_models = \\\n",
    "    [UserModel.query.filter_by(username=u).first_or_404() for u \\\n",
    "     in t.bracket.entrants]\n",
    "u_models"
   ]
  },
  {
   "cell_type": "code",
   "execution_count": 9,
   "metadata": {},
   "outputs": [],
   "source": [
    "b = \\\n",
    "    Bracket(\n",
    "        bracket_type='Winners',\n",
    "        users=[u for u in User.query.order_by(func.random()).limit(t.n_entrants).all()],\n",
    "        tournament=t,\n",
    "    )\n",
    "\n",
    "db.session.add(b)\n",
    "db.session.commit()"
   ]
  },
  {
   "cell_type": "code",
   "execution_count": 10,
   "metadata": {},
   "outputs": [
    {
     "data": {
      "text/plain": [
       "<Winners bracket: tournament 1>"
      ]
     },
     "execution_count": 10,
     "metadata": {},
     "output_type": "execute_result"
    }
   ],
   "source": [
    "b"
   ]
  },
  {
   "cell_type": "code",
   "execution_count": 11,
   "metadata": {},
   "outputs": [],
   "source": [
    "usrs = [u for u in User.query.order_by(func.random()).limit(t.n_entrants).all()]\n",
    "# usrs = [(usrs[i], usrs[i+1]) for i in range(0, len(usrs)//2)]"
   ]
  },
  {
   "cell_type": "code",
   "execution_count": 12,
   "metadata": {},
   "outputs": [
    {
     "data": {
      "text/plain": [
       "<User Sunrisebanana>"
      ]
     },
     "execution_count": 12,
     "metadata": {},
     "output_type": "execute_result"
    }
   ],
   "source": [
    "usrs[0]"
   ]
  },
  {
   "cell_type": "code",
   "execution_count": 13,
   "metadata": {},
   "outputs": [
    {
     "data": {
      "text/plain": [
       "round 1 in bracket None"
      ]
     },
     "execution_count": 13,
     "metadata": {},
     "output_type": "execute_result"
    }
   ],
   "source": [
    "r = \\\n",
    "    Round(\n",
    "        number=1,\n",
    "        winners=True,\n",
    "        bracket=b,\n",
    "#         matches=matches\n",
    "    )\n",
    "r"
   ]
  },
  {
   "cell_type": "code",
   "execution_count": 14,
   "metadata": {},
   "outputs": [],
   "source": [
    "db.session.add(r)\n",
    "db.session.commit()"
   ]
  },
  {
   "cell_type": "code",
   "execution_count": null,
   "metadata": {},
   "outputs": [],
   "source": []
  },
  {
   "cell_type": "code",
   "execution_count": 15,
   "metadata": {},
   "outputs": [
    {
     "data": {
      "text/plain": [
       "1"
      ]
     },
     "execution_count": 15,
     "metadata": {},
     "output_type": "execute_result"
    }
   ],
   "source": [
    "r.id"
   ]
  },
  {
   "cell_type": "code",
   "execution_count": 16,
   "metadata": {},
   "outputs": [
    {
     "data": {
      "text/plain": [
       "<match None between 3 and 2>"
      ]
     },
     "execution_count": 16,
     "metadata": {},
     "output_type": "execute_result"
    }
   ],
   "source": [
    "matches = \\\n",
    "    [Match(\n",
    "#         users=list((usrs[i], usrs[i+1])),\n",
    "        user_1 = usrs[i].id,\n",
    "        user_2 = usrs[i+1].id,\n",
    "        round_id=r.id\n",
    "    ) for i in range(0, len(usrs), 2)]\n",
    "m = matches[0]\n",
    "m"
   ]
  },
  {
   "cell_type": "code",
   "execution_count": 17,
   "metadata": {},
   "outputs": [],
   "source": [
    "for m in matches:\n",
    "    db.session.add(m)"
   ]
  },
  {
   "cell_type": "code",
   "execution_count": 18,
   "metadata": {},
   "outputs": [],
   "source": [
    "db.session.commit()"
   ]
  },
  {
   "cell_type": "code",
   "execution_count": 10,
   "metadata": {},
   "outputs": [
    {
     "data": {
      "text/html": [
       "<div>\n",
       "<style scoped>\n",
       "    .dataframe tbody tr th:only-of-type {\n",
       "        vertical-align: middle;\n",
       "    }\n",
       "\n",
       "    .dataframe tbody tr th {\n",
       "        vertical-align: top;\n",
       "    }\n",
       "\n",
       "    .dataframe thead th {\n",
       "        text-align: right;\n",
       "    }\n",
       "</style>\n",
       "<table border=\"1\" class=\"dataframe\">\n",
       "  <thead>\n",
       "    <tr style=\"text-align: right;\">\n",
       "      <th></th>\n",
       "      <th>id</th>\n",
       "      <th>username</th>\n",
       "      <th>email</th>\n",
       "      <th>password_hash</th>\n",
       "      <th>about_me</th>\n",
       "      <th>last_seen</th>\n",
       "    </tr>\n",
       "  </thead>\n",
       "  <tbody>\n",
       "    <tr>\n",
       "      <th>0</th>\n",
       "      <td>1</td>\n",
       "      <td>TPN</td>\n",
       "      <td>tpn@example.com</td>\n",
       "      <td>None</td>\n",
       "      <td>None</td>\n",
       "      <td>2020-02-18 23:57:34.644749</td>\n",
       "    </tr>\n",
       "    <tr>\n",
       "      <th>1</th>\n",
       "      <td>2</td>\n",
       "      <td>AngryFalco</td>\n",
       "      <td>angryfalco@example.com</td>\n",
       "      <td>None</td>\n",
       "      <td>None</td>\n",
       "      <td>2020-02-18 23:57:34.645228</td>\n",
       "    </tr>\n",
       "    <tr>\n",
       "      <th>2</th>\n",
       "      <td>3</td>\n",
       "      <td>Sunrisebanana</td>\n",
       "      <td>sunrisebanana@example.com</td>\n",
       "      <td>None</td>\n",
       "      <td>None</td>\n",
       "      <td>2020-02-18 23:57:34.645362</td>\n",
       "    </tr>\n",
       "    <tr>\n",
       "      <th>3</th>\n",
       "      <td>4</td>\n",
       "      <td>Ptolemy</td>\n",
       "      <td>ptolemy@example.com</td>\n",
       "      <td>None</td>\n",
       "      <td>None</td>\n",
       "      <td>2020-02-18 23:57:34.645478</td>\n",
       "    </tr>\n",
       "    <tr>\n",
       "      <th>4</th>\n",
       "      <td>5</td>\n",
       "      <td>Vik</td>\n",
       "      <td>vik@example.com</td>\n",
       "      <td>None</td>\n",
       "      <td>None</td>\n",
       "      <td>2020-02-18 23:57:34.645569</td>\n",
       "    </tr>\n",
       "    <tr>\n",
       "      <th>5</th>\n",
       "      <td>6</td>\n",
       "      <td>Kevin</td>\n",
       "      <td>kevin@example.com</td>\n",
       "      <td>None</td>\n",
       "      <td>None</td>\n",
       "      <td>2020-02-18 23:57:34.645661</td>\n",
       "    </tr>\n",
       "    <tr>\n",
       "      <th>6</th>\n",
       "      <td>7</td>\n",
       "      <td>Spaceghost</td>\n",
       "      <td>spaceghost@example.com</td>\n",
       "      <td>None</td>\n",
       "      <td>None</td>\n",
       "      <td>2020-02-18 23:57:34.645743</td>\n",
       "    </tr>\n",
       "    <tr>\n",
       "      <th>7</th>\n",
       "      <td>8</td>\n",
       "      <td>Burnaby</td>\n",
       "      <td>burnaby@example.com</td>\n",
       "      <td>None</td>\n",
       "      <td>None</td>\n",
       "      <td>2020-02-18 23:57:34.645813</td>\n",
       "    </tr>\n",
       "  </tbody>\n",
       "</table>\n",
       "</div>"
      ],
      "text/plain": [
       "   id       username                      email password_hash about_me  \\\n",
       "0   1            TPN            tpn@example.com          None     None   \n",
       "1   2     AngryFalco     angryfalco@example.com          None     None   \n",
       "2   3  Sunrisebanana  sunrisebanana@example.com          None     None   \n",
       "3   4        Ptolemy        ptolemy@example.com          None     None   \n",
       "4   5            Vik            vik@example.com          None     None   \n",
       "5   6          Kevin          kevin@example.com          None     None   \n",
       "6   7     Spaceghost     spaceghost@example.com          None     None   \n",
       "7   8        Burnaby        burnaby@example.com          None     None   \n",
       "\n",
       "                    last_seen  \n",
       "0  2020-02-18 23:57:34.644749  \n",
       "1  2020-02-18 23:57:34.645228  \n",
       "2  2020-02-18 23:57:34.645362  \n",
       "3  2020-02-18 23:57:34.645478  \n",
       "4  2020-02-18 23:57:34.645569  \n",
       "5  2020-02-18 23:57:34.645661  \n",
       "6  2020-02-18 23:57:34.645743  \n",
       "7  2020-02-18 23:57:34.645813  "
      ]
     },
     "execution_count": 10,
     "metadata": {},
     "output_type": "execute_result"
    }
   ],
   "source": [
    "import sqlite3\n",
    "import pandas as pd\n",
    "\n",
    "# Create the connection\n",
    "cnx = sqlite3.connect(r'./app.db')\n",
    "\n",
    "q = \\\n",
    "\"\"\"\n",
    "    select * from user where\n",
    "    username like '%TPN%'\n",
    "\"\"\"\n",
    "q = \\\n",
    "\"\"\"\n",
    "    select * from user\n",
    "\"\"\"\n",
    "# create the dataframe from a query\n",
    "df = pd.read_sql_query(q, cnx)\n",
    "df"
   ]
  },
  {
   "cell_type": "code",
   "execution_count": 11,
   "metadata": {},
   "outputs": [
    {
     "data": {
      "text/html": [
       "<div>\n",
       "<style scoped>\n",
       "    .dataframe tbody tr th:only-of-type {\n",
       "        vertical-align: middle;\n",
       "    }\n",
       "\n",
       "    .dataframe tbody tr th {\n",
       "        vertical-align: top;\n",
       "    }\n",
       "\n",
       "    .dataframe thead th {\n",
       "        text-align: right;\n",
       "    }\n",
       "</style>\n",
       "<table border=\"1\" class=\"dataframe\">\n",
       "  <thead>\n",
       "    <tr style=\"text-align: right;\">\n",
       "      <th></th>\n",
       "      <th>id</th>\n",
       "      <th>n_entrants</th>\n",
       "      <th>name</th>\n",
       "      <th>organizer_id</th>\n",
       "    </tr>\n",
       "  </thead>\n",
       "  <tbody>\n",
       "    <tr>\n",
       "      <th>0</th>\n",
       "      <td>1</td>\n",
       "      <td>8</td>\n",
       "      <td>Fall Charity LAN 2018 Melee Singles</td>\n",
       "      <td>4</td>\n",
       "    </tr>\n",
       "  </tbody>\n",
       "</table>\n",
       "</div>"
      ],
      "text/plain": [
       "   id  n_entrants                                 name  organizer_id\n",
       "0   1           8  Fall Charity LAN 2018 Melee Singles             4"
      ]
     },
     "execution_count": 11,
     "metadata": {},
     "output_type": "execute_result"
    }
   ],
   "source": [
    "pd.read_sql_query('select * from tournament', cnx)"
   ]
  },
  {
   "cell_type": "code",
   "execution_count": 12,
   "metadata": {},
   "outputs": [
    {
     "data": {
      "text/html": [
       "<div>\n",
       "<style scoped>\n",
       "    .dataframe tbody tr th:only-of-type {\n",
       "        vertical-align: middle;\n",
       "    }\n",
       "\n",
       "    .dataframe tbody tr th {\n",
       "        vertical-align: top;\n",
       "    }\n",
       "\n",
       "    .dataframe thead th {\n",
       "        text-align: right;\n",
       "    }\n",
       "</style>\n",
       "<table border=\"1\" class=\"dataframe\">\n",
       "  <thead>\n",
       "    <tr style=\"text-align: right;\">\n",
       "      <th></th>\n",
       "      <th>id</th>\n",
       "      <th>bracket_type</th>\n",
       "      <th>tournament_id</th>\n",
       "    </tr>\n",
       "  </thead>\n",
       "  <tbody>\n",
       "    <tr>\n",
       "      <th>0</th>\n",
       "      <td>1</td>\n",
       "      <td>DOUBLE_ELIMINATION</td>\n",
       "      <td>1</td>\n",
       "    </tr>\n",
       "  </tbody>\n",
       "</table>\n",
       "</div>"
      ],
      "text/plain": [
       "   id        bracket_type  tournament_id\n",
       "0   1  DOUBLE_ELIMINATION              1"
      ]
     },
     "execution_count": 12,
     "metadata": {},
     "output_type": "execute_result"
    }
   ],
   "source": [
    "pd.read_sql_query('select * from bracket', cnx)"
   ]
  },
  {
   "cell_type": "code",
   "execution_count": 13,
   "metadata": {},
   "outputs": [
    {
     "data": {
      "text/html": [
       "<div>\n",
       "<style scoped>\n",
       "    .dataframe tbody tr th:only-of-type {\n",
       "        vertical-align: middle;\n",
       "    }\n",
       "\n",
       "    .dataframe tbody tr th {\n",
       "        vertical-align: top;\n",
       "    }\n",
       "\n",
       "    .dataframe thead th {\n",
       "        text-align: right;\n",
       "    }\n",
       "</style>\n",
       "<table border=\"1\" class=\"dataframe\">\n",
       "  <thead>\n",
       "    <tr style=\"text-align: right;\">\n",
       "      <th></th>\n",
       "      <th>user_id</th>\n",
       "      <th>bracket_id</th>\n",
       "    </tr>\n",
       "  </thead>\n",
       "  <tbody>\n",
       "    <tr>\n",
       "      <th>0</th>\n",
       "      <td>4</td>\n",
       "      <td>1</td>\n",
       "    </tr>\n",
       "    <tr>\n",
       "      <th>1</th>\n",
       "      <td>6</td>\n",
       "      <td>1</td>\n",
       "    </tr>\n",
       "    <tr>\n",
       "      <th>2</th>\n",
       "      <td>1</td>\n",
       "      <td>1</td>\n",
       "    </tr>\n",
       "    <tr>\n",
       "      <th>3</th>\n",
       "      <td>3</td>\n",
       "      <td>1</td>\n",
       "    </tr>\n",
       "    <tr>\n",
       "      <th>4</th>\n",
       "      <td>7</td>\n",
       "      <td>1</td>\n",
       "    </tr>\n",
       "    <tr>\n",
       "      <th>5</th>\n",
       "      <td>8</td>\n",
       "      <td>1</td>\n",
       "    </tr>\n",
       "    <tr>\n",
       "      <th>6</th>\n",
       "      <td>2</td>\n",
       "      <td>1</td>\n",
       "    </tr>\n",
       "    <tr>\n",
       "      <th>7</th>\n",
       "      <td>5</td>\n",
       "      <td>1</td>\n",
       "    </tr>\n",
       "  </tbody>\n",
       "</table>\n",
       "</div>"
      ],
      "text/plain": [
       "   user_id  bracket_id\n",
       "0        4           1\n",
       "1        6           1\n",
       "2        1           1\n",
       "3        3           1\n",
       "4        7           1\n",
       "5        8           1\n",
       "6        2           1\n",
       "7        5           1"
      ]
     },
     "execution_count": 13,
     "metadata": {},
     "output_type": "execute_result"
    }
   ],
   "source": [
    "pd.read_sql_query('select * from bracket_entrants', cnx)"
   ]
  },
  {
   "cell_type": "code",
   "execution_count": 14,
   "metadata": {},
   "outputs": [
    {
     "data": {
      "text/html": [
       "<div>\n",
       "<style scoped>\n",
       "    .dataframe tbody tr th:only-of-type {\n",
       "        vertical-align: middle;\n",
       "    }\n",
       "\n",
       "    .dataframe tbody tr th {\n",
       "        vertical-align: top;\n",
       "    }\n",
       "\n",
       "    .dataframe thead th {\n",
       "        text-align: right;\n",
       "    }\n",
       "</style>\n",
       "<table border=\"1\" class=\"dataframe\">\n",
       "  <thead>\n",
       "    <tr style=\"text-align: right;\">\n",
       "      <th></th>\n",
       "      <th>id</th>\n",
       "      <th>number</th>\n",
       "      <th>winners</th>\n",
       "      <th>bracket_id</th>\n",
       "    </tr>\n",
       "  </thead>\n",
       "  <tbody>\n",
       "  </tbody>\n",
       "</table>\n",
       "</div>"
      ],
      "text/plain": [
       "Empty DataFrame\n",
       "Columns: [id, number, winners, bracket_id]\n",
       "Index: []"
      ]
     },
     "execution_count": 14,
     "metadata": {},
     "output_type": "execute_result"
    }
   ],
   "source": [
    "pd.read_sql_query('select * from round', cnx)"
   ]
  },
  {
   "cell_type": "code",
   "execution_count": 15,
   "metadata": {},
   "outputs": [
    {
     "data": {
      "text/html": [
       "<div>\n",
       "<style scoped>\n",
       "    .dataframe tbody tr th:only-of-type {\n",
       "        vertical-align: middle;\n",
       "    }\n",
       "\n",
       "    .dataframe tbody tr th {\n",
       "        vertical-align: top;\n",
       "    }\n",
       "\n",
       "    .dataframe thead th {\n",
       "        text-align: right;\n",
       "    }\n",
       "</style>\n",
       "<table border=\"1\" class=\"dataframe\">\n",
       "  <thead>\n",
       "    <tr style=\"text-align: right;\">\n",
       "      <th></th>\n",
       "      <th>id</th>\n",
       "      <th>user_1</th>\n",
       "      <th>user_1_score</th>\n",
       "      <th>user_2</th>\n",
       "      <th>user_2_score</th>\n",
       "      <th>winner</th>\n",
       "      <th>round_id</th>\n",
       "      <th>winner_advance_to</th>\n",
       "      <th>loser_advance_to</th>\n",
       "    </tr>\n",
       "  </thead>\n",
       "  <tbody>\n",
       "  </tbody>\n",
       "</table>\n",
       "</div>"
      ],
      "text/plain": [
       "Empty DataFrame\n",
       "Columns: [id, user_1, user_1_score, user_2, user_2_score, winner, round_id, winner_advance_to, loser_advance_to]\n",
       "Index: []"
      ]
     },
     "execution_count": 15,
     "metadata": {},
     "output_type": "execute_result"
    }
   ],
   "source": [
    "pd.read_sql_query('select * from match', cnx)"
   ]
  },
  {
   "cell_type": "code",
   "execution_count": 25,
   "metadata": {},
   "outputs": [],
   "source": [
    "# create some new matches for winners/losers to advance to\n",
    "matches = \\\n",
    "    [Match(\n",
    "#         users=list((usrs[i], usrs[i+1])),\n",
    "#         user_1 = usrs[i].id,\n",
    "#         user_2 = usrs[i+1].id,\n",
    "        round_id=r.id\n",
    "    ) for i in range(2)]\n",
    "m = matches[0]"
   ]
  },
  {
   "cell_type": "code",
   "execution_count": 26,
   "metadata": {},
   "outputs": [],
   "source": [
    "db.session.add(m)\n",
    "db.session.commit()"
   ]
  },
  {
   "cell_type": "code",
   "execution_count": 27,
   "metadata": {},
   "outputs": [
    {
     "data": {
      "text/plain": [
       "<match 5 between None and None>"
      ]
     },
     "execution_count": 27,
     "metadata": {},
     "output_type": "execute_result"
    }
   ],
   "source": [
    "m"
   ]
  },
  {
   "cell_type": "code",
   "execution_count": null,
   "metadata": {},
   "outputs": [],
   "source": [
    "\n",
    "\n",
    "\n",
    "\n",
    "\n",
    "\n",
    "\n",
    "\n",
    "\n",
    "\n",
    "\n",
    "\n",
    "\n",
    "\n",
    "\n",
    "\n",
    "\n",
    "\n",
    "\n",
    "\n",
    "\n",
    "\n",
    "\n",
    "\n",
    "\n",
    "\n",
    "\n",
    "\n",
    "\n",
    "\n",
    "\n",
    "\n",
    "\n",
    "\n",
    "\n",
    "\n",
    "\n",
    "\n",
    "\n",
    "\n",
    "\n",
    "\n",
    "\n",
    "\n",
    "\n",
    "\n",
    "\n",
    "\n",
    "\n",
    "\n",
    "\n",
    "\n"
   ]
  }
 ],
 "metadata": {
  "kernelspec": {
   "display_name": "flask_3004",
   "language": "python",
   "name": "flask_3004"
  },
  "language_info": {
   "codemirror_mode": {
    "name": "ipython",
    "version": 3
   },
   "file_extension": ".py",
   "mimetype": "text/x-python",
   "name": "python",
   "nbconvert_exporter": "python",
   "pygments_lexer": "ipython3",
   "version": "3.7.6"
  }
 },
 "nbformat": 4,
 "nbformat_minor": 4
}
